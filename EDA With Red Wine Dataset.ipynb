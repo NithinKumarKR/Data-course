{
 "cells": [
  {
   "cell_type": "code",
   "execution_count": null,
   "id": "27971df4",
   "metadata": {},
   "outputs": [],
   "source": [
    "import numpy as np \n",
    "import pandas as pd \n",
    "import matplotlib.pyplot as plt \n",
    "import seaborn as sns \n",
    "import plotly as py\n",
    "import plotly.graph_objs as go\n",
    "import warnings\n",
    "warnings.filterwarnings(\"ignore\")\n"
   ]
  },
  {
   "cell_type": "code",
   "execution_count": null,
   "id": "eaea30aa",
   "metadata": {},
   "outputs": [],
   "source": [
    "%time\n",
    "df=pd.read_csv(\"winequality-red.csv\")"
   ]
  },
  {
   "cell_type": "code",
   "execution_count": null,
   "id": "b6ec6c09",
   "metadata": {},
   "outputs": [],
   "source": [
    "from pyspark.sql import SparkSession\n",
    "spark = SparkSession.builder.appName(\"example\").getOrCreate()"
   ]
  },
  {
   "cell_type": "code",
   "execution_count": null,
   "id": "8ce4afa5",
   "metadata": {},
   "outputs": [],
   "source": [
    "%time\n",
    "df=spark.read.csv(\"winequality-red.csv\",header=True,inferSchema=True)"
   ]
  },
  {
   "cell_type": "code",
   "execution_count": null,
   "id": "56d76ad4",
   "metadata": {},
   "outputs": [],
   "source": [
    "df.show(5)"
   ]
  },
  {
   "cell_type": "code",
   "execution_count": null,
   "id": "b7ec856c",
   "metadata": {},
   "outputs": [],
   "source": [
    "(df.describe().show())"
   ]
  },
  {
   "cell_type": "code",
   "execution_count": null,
   "id": "0311a64b",
   "metadata": {},
   "outputs": [],
   "source": [
    "df.printSchema()"
   ]
  },
  {
   "cell_type": "code",
   "execution_count": null,
   "id": "0d070d8f",
   "metadata": {},
   "outputs": [],
   "source": [
    "df.count()"
   ]
  },
  {
   "cell_type": "code",
   "execution_count": null,
   "id": "b3215134",
   "metadata": {},
   "outputs": [],
   "source": [
    "len(df.columns)"
   ]
  },
  {
   "cell_type": "code",
   "execution_count": null,
   "id": "6bc77aad",
   "metadata": {},
   "outputs": [],
   "source": [
    "df.select(['quality']).distinct().show()"
   ]
  },
  {
   "cell_type": "code",
   "execution_count": null,
   "id": "59f8d3e9",
   "metadata": {},
   "outputs": [],
   "source": [
    "from pyspark.sql.functions import col \n",
    "for columns in df.columns:\n",
    "    print(columns,':',df.where(col(columns).isNull()).count())"
   ]
  },
  {
   "cell_type": "code",
   "execution_count": null,
   "id": "f6152a3a",
   "metadata": {},
   "outputs": [],
   "source": [
    "df=df.dropDuplicates()"
   ]
  },
  {
   "cell_type": "code",
   "execution_count": null,
   "id": "567d3df5",
   "metadata": {},
   "outputs": [],
   "source": [
    "df.count()"
   ]
  },
  {
   "cell_type": "code",
   "execution_count": null,
   "id": "435d7ef3",
   "metadata": {},
   "outputs": [],
   "source": [
    "from pyspark.ml.feature import VectorAssembler\n",
    "from pyspark.ml.stat import Correlation"
   ]
  },
  {
   "cell_type": "code",
   "execution_count": null,
   "id": "35a996f0",
   "metadata": {},
   "outputs": [],
   "source": [
    "assembler=VectorAssembler(inputCols=df.columns, outputCol=\"feature\")\n",
    "assembler_df=assembler.transform(df)\n",
    "assembler_df.show(5)"
   ]
  },
  {
   "cell_type": "code",
   "execution_count": null,
   "id": "e2cf23d4",
   "metadata": {},
   "outputs": [],
   "source": [
    "# Calculate the correlation matrix\n",
    "correlation_matrix = Correlation.corr(assembler_df, \"feature\").head()\n",
    "\n",
    "# Extract the correlation matrix as a dense matrix\n",
    "correlation_matrix = pd.DataFrame(correlation_matrix[0].toArray())"
   ]
  },
  {
   "cell_type": "code",
   "execution_count": null,
   "id": "0f5d56b8",
   "metadata": {},
   "outputs": [],
   "source": [
    "correlation_matrix=correlation_matrix.rename(columns=dict(zip(correlation_matrix.columns,df.columns)))\n",
    "correlation_matrix[\"values\"]=correlation_matrix.columns\n",
    "correlation_matrix.set_index('values',inplace=True)"
   ]
  },
  {
   "cell_type": "code",
   "execution_count": null,
   "id": "7a3d0a2b",
   "metadata": {},
   "outputs": [],
   "source": [
    "correlation_matrix"
   ]
  },
  {
   "cell_type": "code",
   "execution_count": null,
   "id": "24dc8240",
   "metadata": {},
   "outputs": [],
   "source": [
    "plt.figure(figsize=(15,5))\n",
    "sns.heatmap(correlation_matrix,annot=True)"
   ]
  },
  {
   "cell_type": "code",
   "execution_count": null,
   "id": "aa257531",
   "metadata": {},
   "outputs": [],
   "source": [
    "df_quality=df.groupBy(\"quality\").count()\n",
    "df_quality=df_quality.withColumnRenamed('count',\"Total_count\")"
   ]
  },
  {
   "cell_type": "code",
   "execution_count": null,
   "id": "682b4bb3",
   "metadata": {},
   "outputs": [],
   "source": [
    "df_quality_pd=df_quality.toPandas()"
   ]
  },
  {
   "cell_type": "code",
   "execution_count": null,
   "id": "92a2262f",
   "metadata": {},
   "outputs": [],
   "source": [
    "sns.barplot(x=df_quality_pd.quality,y=df_quality_pd.Total_count)\n",
    "plt.ylabel(\"Total Count of Quality\")\n",
    "plt.xlabel(\"Quality Score\")\n",
    "plt.show();"
   ]
  },
  {
   "cell_type": "code",
   "execution_count": null,
   "id": "fd401d82",
   "metadata": {},
   "outputs": [],
   "source": [
    "df_pd=df.toPandas()\n",
    "sns.pairplot(df_pd)"
   ]
  },
  {
   "cell_type": "code",
   "execution_count": null,
   "id": "2fa95c0f",
   "metadata": {},
   "outputs": [],
   "source": []
  },
  {
   "cell_type": "code",
   "execution_count": null,
   "id": "1db660e5",
   "metadata": {},
   "outputs": [],
   "source": []
  }
 ],
 "metadata": {
  "kernelspec": {
   "display_name": "Python 3 (ipykernel)",
   "language": "python",
   "name": "python3"
  },
  "language_info": {
   "codemirror_mode": {
    "name": "ipython",
    "version": 3
   },
   "file_extension": ".py",
   "mimetype": "text/x-python",
   "name": "python",
   "nbconvert_exporter": "python",
   "pygments_lexer": "ipython3",
   "version": "3.10.9"
  }
 },
 "nbformat": 4,
 "nbformat_minor": 5
}
