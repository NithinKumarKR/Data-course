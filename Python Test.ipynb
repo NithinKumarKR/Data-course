{
 "cells": [
  {
   "cell_type": "raw",
   "id": "9d4c3623",
   "metadata": {},
   "source": [
    "\n",
    "Q1. Write a Python program that defines a function called \"add_numbers\" that takes two arguments (i.e.,\n",
    "numbers) and returns their sum. Within the function, add the two numbers together and return the result\n",
    "using the return statement. Call the function with the values 5 and 6, and print out the returned result.\n",
    "This will result in the addition of 5 and 6, with the output of the program being the sum of these two\n",
    "numbers.\n"
   ]
  },
  {
   "cell_type": "code",
   "execution_count": null,
   "id": "4797e6af",
   "metadata": {},
   "outputs": [],
   "source": [
    "def add_numbers():\n",
    "    a=int(input(\"Please enter the First number \"))\n",
    "    b=int(input(\"Please enter the Second number \"))\n",
    "    return f\"sum of these two numbers is {a+b} \""
   ]
  },
  {
   "cell_type": "code",
   "execution_count": null,
   "id": "25057547",
   "metadata": {},
   "outputs": [],
   "source": [
    "add_numbers()"
   ]
  },
  {
   "cell_type": "raw",
   "id": "07c244b1",
   "metadata": {},
   "source": [
    "Q2. Write a Python program that calculates the square root of a given number using a built-in function.\n",
    "Specifically, the program should take an integer or float input from the user, calculate its square root\n",
    "using the 'sqrt()' function from the 'math' module, and print out the result to the user. As an example,\n",
    "calculate the square root of the number 625 using this program, which should output the value of 25."
   ]
  },
  {
   "cell_type": "code",
   "execution_count": null,
   "id": "dbb34e87",
   "metadata": {},
   "outputs": [],
   "source": [
    "from math import sqrt\n",
    "def sq_rt():\n",
    "    a=float(input(\"Please enter the number \"))\n",
    "    return f\"The square root of a given number is {round(sqrt(a),2)} \""
   ]
  },
  {
   "cell_type": "code",
   "execution_count": null,
   "id": "8f4a05c2",
   "metadata": {},
   "outputs": [],
   "source": [
    "sq_rt()"
   ]
  },
  {
   "cell_type": "raw",
   "id": "490777e2",
   "metadata": {},
   "source": [
    "Q3.Write a program that prints all prime numbers between 0 to 50."
   ]
  },
  {
   "cell_type": "code",
   "execution_count": null,
   "id": "3cf8d442",
   "metadata": {},
   "outputs": [],
   "source": [
    "def Prime_numbers():\n",
    "        a=int(input(\"Please enter the number \"))\n",
    "        Output=[]\n",
    "        for i in range(2,a):\n",
    "           # print(i)?\n",
    "            for j in range(2,i):\n",
    "                #print(i)\n",
    "                if i%j==0:\n",
    "                    #pass\n",
    "                    break\n",
    "            else:\n",
    "                Output.append(i)\n",
    "        return Output"
   ]
  },
  {
   "cell_type": "code",
   "execution_count": null,
   "id": "a8b885b8",
   "metadata": {},
   "outputs": [],
   "source": [
    "Prime_numbers()"
   ]
  },
  {
   "cell_type": "raw",
   "id": "7a485b8b",
   "metadata": {},
   "source": [
    "Q4.How can we swap the values of three variables (let's say a, b, and c) without using a fourth variable?\n",
    "For example, if we have a=5, b=8, and c=9, how can we obtain a=9, b=5, and c=8? The challenge is to\n",
    "perform this operation without using an additional variable to store any of the values during the swapping process."
   ]
  },
  {
   "cell_type": "code",
   "execution_count": null,
   "id": "bf4f5d97",
   "metadata": {},
   "outputs": [],
   "source": [
    "a=5\n",
    "b=8\n",
    "c=9\n",
    "a,b,c=c,a,b"
   ]
  },
  {
   "cell_type": "code",
   "execution_count": null,
   "id": "27bb9427",
   "metadata": {},
   "outputs": [],
   "source": [
    "print(a,b,c)"
   ]
  },
  {
   "cell_type": "raw",
   "id": "81e6f2cf",
   "metadata": {},
   "source": [
    "Q5. Can you write a program that determines the nature of a given number (in this case, 87) as being\n",
    "positive, negative, or zero? The program should be designed to take the number as input and perform the\n",
    "necessary calculations to determine if the number is positive (i.e., greater than zero), negative (i.e., less\n",
    "than zero), or zero (i.e., equal to zero). The output of the program should indicate which of these three\n",
    "categories the given number falls into."
   ]
  },
  {
   "cell_type": "code",
   "execution_count": null,
   "id": "769cb20a",
   "metadata": {},
   "outputs": [],
   "source": [
    "def Nature_of_Number():\n",
    "        a=float(input(\"Please enter the number \"))\n",
    "        return 'Zero' if a==0 else 'Positive' if a>0 else 'negative'\n",
    "    "
   ]
  },
  {
   "cell_type": "code",
   "execution_count": null,
   "id": "1d393e1b",
   "metadata": {},
   "outputs": [],
   "source": [
    "Nature_of_Number()"
   ]
  },
  {
   "cell_type": "raw",
   "id": "995a8e64",
   "metadata": {},
   "source": [
    "Q6. How can you create a program that determines whether a given number (in this case, 98) is even or\n",
    "odd? The program should be designed to take the number as input and perform the necessary calculations to determine whether it is divisible by two. If the number is divisible by two without leaving a\n",
    "remainder, it is an even number, and if there is a remainder, it is an odd number. The output of the\n",
    "program should indicate whether the given number is even or odd."
   ]
  },
  {
   "cell_type": "code",
   "execution_count": null,
   "id": "92abd74f",
   "metadata": {},
   "outputs": [],
   "source": [
    "def Odd_Even():\n",
    "        result=None\n",
    "        try:\n",
    "            number=int(input(\"Please enter the number \\n \"))\n",
    "            result='Odd' if number%2!=0 else 'Even'\n",
    "        except ValueError as er:\n",
    "            print(er)\n",
    "        return result\n"
   ]
  },
  {
   "cell_type": "code",
   "execution_count": null,
   "id": "7140bdcf",
   "metadata": {},
   "outputs": [],
   "source": [
    "Odd_Even()"
   ]
  },
  {
   "cell_type": "raw",
   "id": "c6b16899",
   "metadata": {},
   "source": [
    "Q7.Write a program for sum of digits.The digits are 76543 and the output should be 25."
   ]
  },
  {
   "cell_type": "code",
   "execution_count": null,
   "id": "14b00bb1",
   "metadata": {},
   "outputs": [],
   "source": [
    "def Odd_Even():\n",
    "        result=0\n",
    "        try:\n",
    "            number=int(input(\"Please enter the number \\n \\n \"))\n",
    "            number=str(number)\n",
    "            for i in range(len(number)):\n",
    "                result+=int(number[i])\n",
    "        except ValueError as er:\n",
    "            print(er)\n",
    "        return result"
   ]
  },
  {
   "cell_type": "code",
   "execution_count": null,
   "id": "5388c8b4",
   "metadata": {},
   "outputs": [],
   "source": [
    "Odd_Even()"
   ]
  },
  {
   "cell_type": "raw",
   "id": "59da23f0",
   "metadata": {},
   "source": [
    "# Q8.Write a program for reversing the given number 5436 and the output should be 6345."
   ]
  },
  {
   "cell_type": "code",
   "execution_count": null,
   "id": "79080d46",
   "metadata": {},
   "outputs": [],
   "source": [
    "def reversing():\n",
    "    result=''\n",
    "    try:\n",
    "        number=str(input(\"Please enter the number \\n \\n \"))\n",
    "        for i in range(len(number)):\n",
    "           # print(i)\n",
    "            result+=(number[len(number)-i-1])\n",
    "    except ValueError as er:\n",
    "        print(er)\n",
    "    return result"
   ]
  },
  {
   "cell_type": "code",
   "execution_count": null,
   "id": "ce07c0d8",
   "metadata": {},
   "outputs": [],
   "source": [
    "reversing()"
   ]
  },
  {
   "cell_type": "raw",
   "id": "84f98b38",
   "metadata": {},
   "source": [
    "Q9.Write a program to check if a given number 371 is an Armstrong number?"
   ]
  },
  {
   "cell_type": "code",
   "execution_count": null,
   "id": "1b729b6f",
   "metadata": {},
   "outputs": [],
   "source": [
    "def Armstrong():\n",
    "    result=0\n",
    "    try:\n",
    "        number=int(input(\"Please enter the number \\n \\n \"))\n",
    "        number=str(number)\n",
    "        for i in range(len(number)):\n",
    "           # print(i)\n",
    "            result+=pow(int((number[i])),len(number))\n",
    "    except ValueError as er:\n",
    "        print(er)\n",
    "    return result"
   ]
  },
  {
   "cell_type": "code",
   "execution_count": null,
   "id": "dfde1f44",
   "metadata": {},
   "outputs": [],
   "source": [
    "Armstrong()"
   ]
  },
  {
   "cell_type": "raw",
   "id": "7d3cf7e9",
   "metadata": {},
   "source": [
    "Q10.Write a program the given year is 1996, a leap year."
   ]
  },
  {
   "cell_type": "code",
   "execution_count": null,
   "id": "e19f3031",
   "metadata": {},
   "outputs": [],
   "source": [
    "def leap():\n",
    "    result=0\n",
    "    try:\n",
    "        number=int(input(\"Please enter the number \\n \\n \"))\n",
    "        if number%400==0:\n",
    "            result=(f\"{number} its leap year\")\n",
    "        elif number%4==0 and number%100!=0:\n",
    "            result=(f\"{number} its leap year\")\n",
    "        else:\n",
    "            result=(f\"{number} its not leap year\")    \n",
    "    except ValueError as er:\n",
    "        result=er\n",
    "    return result"
   ]
  },
  {
   "cell_type": "code",
   "execution_count": null,
   "id": "82a39d62",
   "metadata": {},
   "outputs": [],
   "source": [
    "leap()"
   ]
  },
  {
   "cell_type": "raw",
   "id": "c57b9927",
   "metadata": {},
   "source": [
    "# Q11. Create a list in python using the followings: 2,3,4,5,6,7 with variable ‘a’ Add ‘mango to the above list\n",
    "Also add banana, grapes & orange in the list insert apple in the 5th position of a variable ‘a’\n",
    "Remove last item from the list"
   ]
  },
  {
   "cell_type": "code",
   "execution_count": null,
   "id": "78147cc7",
   "metadata": {},
   "outputs": [],
   "source": [
    "a=[2,3,4,5,6,7]\n",
    "a.append(\"mango\")\n",
    "a.extend([\"banana\", \"grapes\",\"orange\"])\n",
    "a.insert(5,\"apple\")\n",
    "print(a)"
   ]
  },
  {
   "cell_type": "raw",
   "id": "ae08ffbd",
   "metadata": {},
   "source": [
    "# Q12.\n",
    "L = [1,2,3,4,5,6,7]\n",
    "Using the above list slice from 1:4"
   ]
  },
  {
   "cell_type": "code",
   "execution_count": null,
   "id": "44b832f8",
   "metadata": {},
   "outputs": [],
   "source": [
    "L = [1,2,3,4,5,6,7]\n",
    "L[1:4]"
   ]
  },
  {
   "cell_type": "raw",
   "id": "90e5054d",
   "metadata": {},
   "source": [
    "Q13. Reverse the order of given string L = [4,5,6,8,3] Without using reverse() function."
   ]
  },
  {
   "cell_type": "code",
   "execution_count": null,
   "id": "1140b521",
   "metadata": {},
   "outputs": [],
   "source": [
    "def Reverse():\n",
    "    result=[]\n",
    "    new_result=[]\n",
    "    try:\n",
    "        number=int(input(\"Please enter the number of elemets \\n \\n \"))\n",
    "        for i in range(number):\n",
    "            try:\n",
    "                number_to_added=(input(\"Please enter the number of elemets \\n \\n\"))\n",
    "                result.append(number_to_added)\n",
    "            except ValueError and TypeError as er:\n",
    "                result=er\n",
    "        for i in range(len(result)):\n",
    "            new_result.append(result.pop())\n",
    "    except ValueError and TypeError as er:\n",
    "        result=er\n",
    "    return new_result"
   ]
  },
  {
   "cell_type": "code",
   "execution_count": null,
   "id": "ea561798",
   "metadata": {},
   "outputs": [],
   "source": [
    "Reverse()"
   ]
  },
  {
   "cell_type": "raw",
   "id": "46c4ca2d",
   "metadata": {},
   "source": [
    "Q14. Use list comprehension to square the given list L=[2,4,7,3,6,8]\n"
   ]
  },
  {
   "cell_type": "code",
   "execution_count": null,
   "id": "beec042e",
   "metadata": {},
   "outputs": [],
   "source": [
    "L=[2,4,7,3,6,8]\n",
    "L=[i*i for i in L]\n",
    "print(L)"
   ]
  },
  {
   "cell_type": "raw",
   "id": "dedd1510",
   "metadata": {},
   "source": [
    "Q15. Create a function that takes in a tuple of integers and returns the sum of the integers. Test the"
   ]
  },
  {
   "cell_type": "code",
   "execution_count": null,
   "id": "d0df42f0",
   "metadata": {},
   "outputs": [],
   "source": [
    "def tup():\n",
    "    # Prompt the user to enter the number of elements and split the input into a list of numbers\n",
    "    elements = input(\"Please enter the numbers separated by spaces: \").split()\n",
    "\n",
    "    # Convert the list of strings to a list of integers\n",
    "    numbers = [int(num) for num in elements]\n",
    "\n",
    "    # Create a tuple from the list of numbers\n",
    "    number_tuple = tuple(numbers)\n",
    "\n",
    "    # Calculate and return the sum of the numbers in the tuple\n",
    "    total_sum = sum(number_tuple)\n",
    "    return total_sum\n",
    "\n",
    "# Call the function and print the result\n",
    "result = tup()\n",
    "print(\"Sum of numbers:\", result)\n"
   ]
  },
  {
   "cell_type": "raw",
   "id": "e806152a",
   "metadata": {},
   "source": [
    "Q16. Create two sets of your favorite fruits, and use the union() method to combine them into a single set.\n",
    "Print the resulting set to the console."
   ]
  },
  {
   "cell_type": "code",
   "execution_count": null,
   "id": "32709184",
   "metadata": {},
   "outputs": [],
   "source": [
    "a={\"apple\",\"kisan\"}\n",
    "b={\"orange\",\"seva\"}\n",
    "a=a.union(b)"
   ]
  },
  {
   "cell_type": "code",
   "execution_count": null,
   "id": "1c4203f1",
   "metadata": {},
   "outputs": [],
   "source": [
    "a"
   ]
  },
  {
   "cell_type": "raw",
   "id": "3da6392a",
   "metadata": {},
   "source": [
    "Q17. Create a set of random words, and use the add() method to add a new word to the set. Print the\n",
    "resulting set to the console."
   ]
  },
  {
   "cell_type": "code",
   "execution_count": null,
   "id": "ae7639ec",
   "metadata": {},
   "outputs": [],
   "source": [
    "set_={\"cnefud\",\"xwkhjbckdsc\",\"dkhcnkjefc\",\"kdnecljd\",\"jhbncdewcnwk\"}\n",
    "set_.add(\"ehckdwuhcuodwnckdn\")"
   ]
  },
  {
   "cell_type": "code",
   "execution_count": null,
   "id": "571c6a62",
   "metadata": {},
   "outputs": [],
   "source": [
    "set_"
   ]
  },
  {
   "cell_type": "raw",
   "id": "a330de45",
   "metadata": {},
   "source": [
    "Q18. Create a set of your favorite animals, and use the remove() method to remove one animal from the\n",
    "set. Print the resulting set to the console."
   ]
  },
  {
   "cell_type": "code",
   "execution_count": null,
   "id": "0c4ee845",
   "metadata": {},
   "outputs": [],
   "source": [
    "set_={\"cnefud\",\"xwkhjbckdsc\",\"dkhcnkjefc\",\"kdnecljd\",\"jhbncdewcnwk\"}\n",
    "set_.remove(\"cnefud\")\n",
    "set_"
   ]
  },
  {
   "cell_type": "raw",
   "id": "f73afe7d",
   "metadata": {},
   "source": [
    "Q19. favorite_books = {\"1984\", \"To Kill a Mockingbird\", \"Pride and Prejudice\"} favorite_movies = [\"The Shawshank Redemption\", \"The Godfather\", \"The Dark Knight\"]\n",
    "Use the zip() function to combine the book set and movie list into a list of tuples representing book/\n",
    "movie pairs. Print the resulting list."
   ]
  },
  {
   "cell_type": "code",
   "execution_count": null,
   "id": "59457510",
   "metadata": {},
   "outputs": [],
   "source": [
    "favorite_books = {\"1984\", \"To Kill a Mockingbird\", \"Pride and Prejudice\"} \n",
    "favorite_movies = [\"The Shawshank Redemption\", \"The Godfather\", \"The Dark Knight\"]\n",
    "print(dict(zip(favorite_books,favorite_movies)))"
   ]
  },
  {
   "cell_type": "raw",
   "id": "137c9c9f",
   "metadata": {},
   "source": [
    "Q20. Write a Python program to find the difference between consecutive numbers in a list. Solutions:\n",
    "Q21. Create a dictionary called fruits with the following key-value pairs:\n",
    "\"apple\": 0.75\n",
    "\"banana\": 1.25\n",
    "\"orange\": 0.90\n",
    "Then, print out the price of a banana."
   ]
  },
  {
   "cell_type": "code",
   "execution_count": null,
   "id": "ab7c53d0",
   "metadata": {},
   "outputs": [],
   "source": [
    "dict_={\"apple\": 0.75,\n",
    "\"banana\": 1.25,\n",
    "\"orange\": 0.90}"
   ]
  },
  {
   "cell_type": "code",
   "execution_count": null,
   "id": "dcef7c98",
   "metadata": {},
   "outputs": [],
   "source": [
    "dict_[\"banana\"]"
   ]
  },
  {
   "cell_type": "raw",
   "id": "5efb5f67",
   "metadata": {},
   "source": [
    "Q22. Create an empty dictionary called ages. Add the following key-value pairs to the dictionary: \"Alice\": 30\n",
    "\"Bob\": 25\n",
    "\"Charlie\": 35\n",
    "Then, print out the age of Charlie."
   ]
  },
  {
   "cell_type": "code",
   "execution_count": null,
   "id": "02f72395",
   "metadata": {},
   "outputs": [],
   "source": [
    "dictionary={ \"Alice\": 30,\n",
    "\"Bob\": 25,\n",
    "\"Charlie\": 35}\n",
    "dictionary[\"Charlie\"]"
   ]
  },
  {
   "cell_type": "raw",
   "id": "ecfc5b9a",
   "metadata": {},
   "source": [
    "Q23. Write a function called word_count(text) that takes a string as input and returns a dictionary where\n",
    "Each key is a word in the text and its value is the number of times that word appears in the text. For\n",
    "for example, word_count(\"hello world hello\") should return {\"hello\": 2, \"world\": 1}."
   ]
  },
  {
   "cell_type": "code",
   "execution_count": null,
   "id": "eddc1cf6",
   "metadata": {},
   "outputs": [],
   "source": [
    "def word_count():\n",
    "    elements=''\n",
    "    out_dict={}\n",
    "    try:\n",
    "        elements = str(input(\"Please enter the numbers separated by spaces: \"))\n",
    "        new_elements=[i for i in elements.split()]\n",
    "        print(new_elements)\n",
    "       # new_emt=list(set(new_elements))\n",
    "        number_times=1\n",
    "        for i in new_elements:\n",
    "            print(i)\n",
    "            for j in new_elements[1:]:\n",
    "                print(j)\n",
    "                if i==j:\n",
    "                    new_elements[1:0].pop(j)\n",
    "                    number_times=+1\n",
    "            out_dict[i]=number_times\n",
    "              \n",
    "                #out_dict[i]=number_times\n",
    "        elements=out_dict\n",
    "    except TypeError as er:\n",
    "        print(er)\n",
    "    return elements"
   ]
  },
  {
   "cell_type": "code",
   "execution_count": null,
   "id": "946cbb0c",
   "metadata": {},
   "outputs": [],
   "source": [
    "word_count()"
   ]
  },
  {
   "cell_type": "code",
   "execution_count": null,
   "id": "2d40d277",
   "metadata": {},
   "outputs": [],
   "source": [
    "elements = \"my name is ntihin my name is ntihin\" #str(input(\"Please enter the numbers separated by spaces: \"))\n",
    "new_elements=[i for i in elements.split()]\n",
    "#print(len(new_elements))\n",
    "out_dict={}\n",
    "for i in new_elements:\n",
    "    #i,new_elements.count(i)\n",
    "    out_dict[i]=new_elements.count(i)\n",
    "print(out_dict)\n",
    "    "
   ]
  },
  {
   "cell_type": "raw",
   "id": "05d3e220",
   "metadata": {},
   "source": [
    "Q24. Create a dictionary called phone_book with the following key-value pairs: \"Alice\": \"555-1234\"\n",
    "\"Bob\": \"555-5678\"\n",
    "\"Charlie\": \"555-9012\"\n",
    "Then, prompt the user to enter a name and print out the corresponding phone number. If the name is not\n",
    "in the phone book, print out a message saying that the name was not found.\n"
   ]
  },
  {
   "cell_type": "code",
   "execution_count": null,
   "id": "020febcc",
   "metadata": {},
   "outputs": [],
   "source": [
    "def phone_book():\n",
    "    output=\"\"\n",
    "    dict_={ \"Alice\": \"555-1234\",\n",
    "        \"Bob\": \"555-5678\",\n",
    "        \"Charlie\": \"555-9012\"}\n",
    "    elements = str(input(\"Please enter the numbers separated by spaces: \"))\n",
    "    try:\n",
    "        output=(dict_[elements])\n",
    "    except KeyError as ke:\n",
    "        output=(\"that the name was not found\")\n",
    "    return output\n",
    "        "
   ]
  },
  {
   "cell_type": "code",
   "execution_count": null,
   "id": "eef30243",
   "metadata": {},
   "outputs": [],
   "source": [
    "phone_book()"
   ]
  },
  {
   "cell_type": "raw",
   "id": "12dd2920",
   "metadata": {},
   "source": [
    "Q25. Write a program that prompts the user to enter a number between 1 and 10. If the number is less than\n",
    "5, print out \"Too low!\", otherwise print out \"Too high!\"."
   ]
  },
  {
   "cell_type": "code",
   "execution_count": null,
   "id": "6a286eac",
   "metadata": {},
   "outputs": [],
   "source": [
    "def phone_book():\n",
    "    output=\"\"\n",
    "    try:\n",
    "        elements = int(input(\"Please enter the numbers bw 1 and 10: \"))\n",
    "        if elements>10 or elements < 0:\n",
    "            output=\"please check the number once\"\n",
    "        elif elements>5:\n",
    "            output=\"Too high!\"\n",
    "        elif elements<5:\n",
    "            output=\"Too low!\"\n",
    "        else:\n",
    "            output=\"Correct\"\n",
    "    except ValueError and TypeError as er:\n",
    "        result=er\n",
    "    return output"
   ]
  },
  {
   "cell_type": "code",
   "execution_count": null,
   "id": "fd6f2ca2",
   "metadata": {},
   "outputs": [],
   "source": [
    "phone_book()"
   ]
  },
  {
   "cell_type": "raw",
   "id": "1dafc3de",
   "metadata": {},
   "source": [
    "Q26. Write a program that prompts the user to enter a password. If the password is \"password123\", print\n",
    "out \"Access granted\", otherwise print out \"Access denied\"."
   ]
  },
  {
   "cell_type": "raw",
   "id": "bb6881ce",
   "metadata": {},
   "source": [
    "Q31. Create a class called \"Person\" with properties for \"name\", \"age\", and \"gender\". Create an object of this\n",
    "class and print out its properties.\n",
    "Q32. Write a Python class called \"Rectangle\" with attributes for \"width\" and \"height\". Implement methods\n",
    "to calculate the area and perimeter of the rectangle. Create an instance of this class and use it to print out\n",
    "the rectangle's area and perimeter."
   ]
  },
  {
   "cell_type": "code",
   "execution_count": null,
   "id": "c66a6500",
   "metadata": {},
   "outputs": [],
   "source": [
    "class Person():\n",
    "    balance = 0\n",
    "    def __init__(self,name,age,gender):\n",
    "        self.name=name\n",
    "        self.age=age\n",
    "        self.gender=gender\n",
    "        print(\"Name of employee\",name)\n",
    "        print(\"Age of employee\",age)\n",
    "        print(\"Gender of employee\",gender)\n",
    "    def Rectangle(self,width,height):\n",
    "        self.width=width\n",
    "        self.height=height\n",
    "        return 2*(width+height)\n",
    "    def deposit(self,deposit_amount):\n",
    "        self.deposit_amount=deposit_amount\n",
    "        Person.balance=Person.balance+self.deposit_amount\n",
    "        #return Person.balance\n",
    "    def withdrawal(self,withdrawal_amount):\n",
    "        self.withdrawal_amount=withdrawal_amount\n",
    "        Person.balance=Person.balance-self.withdrawal_amount\n",
    "    def interest_calculation(self):\n",
    "        self.number=int(input(\"please enter the number months intresent to calculeted \\n \\n \"))\n",
    "        self.ri=float(input(\"please enter the number months intresent to calculeted \\n \\n \"))\n",
    "        ic=Person.balance*self.ri/12*self.number\n",
    "        Person.balance+=round(ic,2)\n",
    "    def Total_balance(self):\n",
    "        return Person.balance\n",
    "            "
   ]
  },
  {
   "cell_type": "code",
   "execution_count": null,
   "id": "ba6d7be8",
   "metadata": {},
   "outputs": [],
   "source": [
    "Output=Person(\"nithin\",22,\"male\")"
   ]
  },
  {
   "cell_type": "code",
   "execution_count": null,
   "id": "7843af5b",
   "metadata": {},
   "outputs": [],
   "source": [
    "Output.Rectangle(10,20)"
   ]
  },
  {
   "cell_type": "code",
   "execution_count": null,
   "id": "89926290",
   "metadata": {},
   "outputs": [],
   "source": [
    "Output.deposit(1000)"
   ]
  },
  {
   "cell_type": "code",
   "execution_count": null,
   "id": "a68edd77",
   "metadata": {},
   "outputs": [],
   "source": [
    "Output.deposit(2000)"
   ]
  },
  {
   "cell_type": "code",
   "execution_count": null,
   "id": "c3b7f9e9",
   "metadata": {},
   "outputs": [],
   "source": [
    "Output.withdrawal(1500)"
   ]
  },
  {
   "cell_type": "code",
   "execution_count": null,
   "id": "04f3e8f7",
   "metadata": {},
   "outputs": [],
   "source": [
    "Output.interest_calculation()"
   ]
  },
  {
   "cell_type": "code",
   "execution_count": null,
   "id": "39d1eaec",
   "metadata": {},
   "outputs": [],
   "source": [
    "Output.Total_balance()"
   ]
  },
  {
   "cell_type": "raw",
   "id": "cc00a588",
   "metadata": {},
   "source": [
    "Q34. Write a Python class called \"Animal\" with attributes for \"name\" and \"species\". Create a subclass of\n",
    "\"Animal\" called \"Dog\" with additional attributes for \"breed\" and \"owner\". Implement both classes with\n",
    "appropriate methods and constructors to initialize their properties. Create instances of both classes and\n",
    "use them to print out the various properties of the animals and dogs, such as their names, species,\n",
    "breeds, and owners."
   ]
  },
  {
   "cell_type": "raw",
   "id": "9af66fdc",
   "metadata": {},
   "source": [
    "Q41. Can you create a Python program that reads a text file and counts the number of words contained\n",
    "within it? The program should be designed to read the file and break it down into individual words, using\n",
    "spaces, punctuation marks, and other delimiters to separate the words. It should then count the number\n",
    "of words found in the file and display this count as output. The program should be flexible enough to work\n",
    "with different text files and should be able to handle a variety of formatting and punctuation styles."
   ]
  },
  {
   "cell_type": "code",
   "execution_count": null,
   "id": "e894a124",
   "metadata": {},
   "outputs": [],
   "source": [
    "with open(\"DWSample1-TXT.txt\",'r') as f:\n",
    "    f=f.read()\n",
    "    f=[i for i in f.split()]\n",
    "    dict_={}\n",
    "    for i in f:\n",
    "        dict_[i]=(f.count(i))\n",
    "#    print(dict_)\n",
    "dict_"
   ]
  },
  {
   "cell_type": "code",
   "execution_count": null,
   "id": "214537d5",
   "metadata": {},
   "outputs": [],
   "source": [
    "ke=[]"
   ]
  },
  {
   "cell_type": "code",
   "execution_count": null,
   "id": "b7d6af27",
   "metadata": {},
   "outputs": [],
   "source": [
    "ke.extend(dict_.keys())"
   ]
  },
  {
   "cell_type": "code",
   "execution_count": null,
   "id": "01fc8ac3",
   "metadata": {},
   "outputs": [],
   "source": [
    "ke"
   ]
  },
  {
   "cell_type": "code",
   "execution_count": null,
   "id": "105f422c",
   "metadata": {},
   "outputs": [],
   "source": [
    "print(ke)"
   ]
  },
  {
   "cell_type": "code",
   "execution_count": null,
   "id": "e8b3c4e7",
   "metadata": {},
   "outputs": [],
   "source": [
    "ke.sort(key=len)"
   ]
  },
  {
   "cell_type": "code",
   "execution_count": null,
   "id": "6679ce78",
   "metadata": {},
   "outputs": [],
   "source": [
    "print(ke[-1])"
   ]
  },
  {
   "cell_type": "code",
   "execution_count": null,
   "id": "4f358ede",
   "metadata": {},
   "outputs": [],
   "source": [
    "print(dict_)"
   ]
  },
  {
   "cell_type": "code",
   "execution_count": null,
   "id": "7cb76147",
   "metadata": {},
   "outputs": [],
   "source": [
    "sort=sorted(dict_,key=lambda x:keys.index(x))"
   ]
  },
  {
   "cell_type": "raw",
   "id": "b9657a41",
   "metadata": {},
   "source": [
    "Q109. Write a Flask route that redirects the user to a different URL.\n",
    "Q102. Write a Flask route that takes a name parameter and returns \"Hello, [name]!\" as plain text."
   ]
  },
  {
   "cell_type": "code",
   "execution_count": null,
   "id": "06fecdf2",
   "metadata": {},
   "outputs": [],
   "source": [
    "from flask import Flask, request, render_template\n",
    "import os\n",
    "\n",
    "app = Flask(__name__, template_folder='/Users/nithinkumar/')\n",
    "\n",
    "@app.route('/')\n",
    "def page():\n",
    "    return render_template(\"nithin.html\")\n",
    "\n",
    "@app.route('/output', methods=['POST'])\n",
    "def output():\n",
    "    if request.method == 'POST':\n",
    "        result = request.form['name']\n",
    "        return render_template(\"/Users/nithinkumar/results.html\", result=result)\n",
    "    ##return render_template(\"math.html\")\n",
    "   #return \"This route is only accessible via POST method.\"\n",
    "\n",
    "if __name__ == \"__main__\":\n",
    "    app.run(host='0.0.0.0')\n"
   ]
  },
  {
   "cell_type": "code",
   "execution_count": null,
   "id": "aa38c29e",
   "metadata": {},
   "outputs": [],
   "source": []
  },
  {
   "cell_type": "code",
   "execution_count": null,
   "id": "83e79994",
   "metadata": {},
   "outputs": [],
   "source": []
  }
 ],
 "metadata": {
  "kernelspec": {
   "display_name": "Python 3 (ipykernel)",
   "language": "python",
   "name": "python3"
  },
  "language_info": {
   "codemirror_mode": {
    "name": "ipython",
    "version": 3
   },
   "file_extension": ".py",
   "mimetype": "text/x-python",
   "name": "python",
   "nbconvert_exporter": "python",
   "pygments_lexer": "ipython3",
   "version": "3.10.9"
  }
 },
 "nbformat": 4,
 "nbformat_minor": 5
}
