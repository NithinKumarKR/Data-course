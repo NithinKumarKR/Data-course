{
 "cells": [
  {
   "cell_type": "markdown",
   "id": "b355d937",
   "metadata": {},
   "source": [
    "# QQ Plot with Python"
   ]
  },
  {
   "cell_type": "code",
   "execution_count": 2,
   "id": "7fb7f777",
   "metadata": {},
   "outputs": [
    {
     "data": {
      "text/html": [
       "<div>\n",
       "<style scoped>\n",
       "    .dataframe tbody tr th:only-of-type {\n",
       "        vertical-align: middle;\n",
       "    }\n",
       "\n",
       "    .dataframe tbody tr th {\n",
       "        vertical-align: top;\n",
       "    }\n",
       "\n",
       "    .dataframe thead th {\n",
       "        text-align: right;\n",
       "    }\n",
       "</style>\n",
       "<table border=\"1\" class=\"dataframe\">\n",
       "  <thead>\n",
       "    <tr style=\"text-align: right;\">\n",
       "      <th></th>\n",
       "      <th>country</th>\n",
       "      <th>order_value_EUR</th>\n",
       "      <th>cost</th>\n",
       "      <th>date</th>\n",
       "      <th>category</th>\n",
       "      <th>customer_name</th>\n",
       "      <th>sales_manager</th>\n",
       "      <th>sales_rep</th>\n",
       "      <th>device_type</th>\n",
       "      <th>order_id</th>\n",
       "    </tr>\n",
       "  </thead>\n",
       "  <tbody>\n",
       "    <tr>\n",
       "      <th>405</th>\n",
       "      <td>Finland</td>\n",
       "      <td>163,967.89</td>\n",
       "      <td>138208.53</td>\n",
       "      <td>5/30/2019</td>\n",
       "      <td>Appliances</td>\n",
       "      <td>Friesen-Rath</td>\n",
       "      <td>Hube Corey</td>\n",
       "      <td>Wat Bowkley</td>\n",
       "      <td>Tablet</td>\n",
       "      <td>28-0849652</td>\n",
       "    </tr>\n",
       "    <tr>\n",
       "      <th>168</th>\n",
       "      <td>Spain</td>\n",
       "      <td>42,028.45</td>\n",
       "      <td>36299.97</td>\n",
       "      <td>3/1/2020</td>\n",
       "      <td>Other</td>\n",
       "      <td>Hessel-Stiedemann</td>\n",
       "      <td>Emalia Dinse</td>\n",
       "      <td>Perri Aldersley</td>\n",
       "      <td>PC</td>\n",
       "      <td>55-3118263</td>\n",
       "    </tr>\n",
       "    <tr>\n",
       "      <th>706</th>\n",
       "      <td>Portugal</td>\n",
       "      <td>61,994.02</td>\n",
       "      <td>54250.97</td>\n",
       "      <td>2/19/2019</td>\n",
       "      <td>Books</td>\n",
       "      <td>Friesen-Rath</td>\n",
       "      <td>Celine Tumasian</td>\n",
       "      <td>Corene Shirer</td>\n",
       "      <td>PC</td>\n",
       "      <td>84-1343954</td>\n",
       "    </tr>\n",
       "    <tr>\n",
       "      <th>603</th>\n",
       "      <td>Finland</td>\n",
       "      <td>132,246.48</td>\n",
       "      <td>106841.93</td>\n",
       "      <td>1/2/2019</td>\n",
       "      <td>Games</td>\n",
       "      <td>Friesen-Rath</td>\n",
       "      <td>Hube Corey</td>\n",
       "      <td>Mellicent Mattys</td>\n",
       "      <td>PC</td>\n",
       "      <td>95-1862126</td>\n",
       "    </tr>\n",
       "    <tr>\n",
       "      <th>362</th>\n",
       "      <td>France</td>\n",
       "      <td>99,319.33</td>\n",
       "      <td>79127.71</td>\n",
       "      <td>5/26/2020</td>\n",
       "      <td>Games</td>\n",
       "      <td>Hessel-Stiedemann</td>\n",
       "      <td>Othello Bowes</td>\n",
       "      <td>Amelina Piscopiello</td>\n",
       "      <td>PC</td>\n",
       "      <td>53-3037652</td>\n",
       "    </tr>\n",
       "  </tbody>\n",
       "</table>\n",
       "</div>"
      ],
      "text/plain": [
       "      country  order_value_EUR       cost        date    category  \\\n",
       "405   Finland        163,967.89  138208.53  5/30/2019  Appliances   \n",
       "168     Spain         42,028.45   36299.97   3/1/2020       Other   \n",
       "706  Portugal         61,994.02   54250.97  2/19/2019       Books   \n",
       "603   Finland        132,246.48  106841.93   1/2/2019       Games   \n",
       "362    France         99,319.33   79127.71  5/26/2020       Games   \n",
       "\n",
       "         customer_name    sales_manager            sales_rep device_type  \\\n",
       "405       Friesen-Rath       Hube Corey          Wat Bowkley      Tablet   \n",
       "168  Hessel-Stiedemann     Emalia Dinse      Perri Aldersley          PC   \n",
       "706       Friesen-Rath  Celine Tumasian        Corene Shirer          PC   \n",
       "603       Friesen-Rath       Hube Corey     Mellicent Mattys          PC   \n",
       "362  Hessel-Stiedemann    Othello Bowes  Amelina Piscopiello          PC   \n",
       "\n",
       "       order_id  \n",
       "405  28-0849652  \n",
       "168  55-3118263  \n",
       "706  84-1343954  \n",
       "603  95-1862126  \n",
       "362  53-3037652  "
      ]
     },
     "execution_count": 2,
     "metadata": {},
     "output_type": "execute_result"
    }
   ],
   "source": [
    "import scipy.stats as st\n",
    "import pylab\n",
    "import numpy as np\n",
    "import seaborn as sns\n",
    "import matplotlib.pyplot as plt\n",
    "import pandas as pd\n",
    "#loading the dataset\n",
    "df=pd.read_csv(\"Sales-Export_2019-2020.csv\")\n",
    "df.sample(5)"
   ]
  },
  {
   "cell_type": "code",
   "execution_count": null,
   "id": "75793496",
   "metadata": {},
   "outputs": [],
   "source": [
    "df.columns"
   ]
  },
  {
   "cell_type": "code",
   "execution_count": null,
   "id": "eb24c869",
   "metadata": {},
   "outputs": [],
   "source": [
    "def plot_data(df,feature):\n",
    "    plt.figure(figsize=(10,6))\n",
    "    plt.subplot(1,2,1)\n",
    "    #df[feature].hist()\n",
    "    sns.histplot(df[feature\n",
    "                   ],kde=True)\n",
    "    plt.subplot(1,2,2)\n",
    "    st.probplot(df[feature],dist='norm',plot=pylab)\n",
    "    plt.show()\n",
    "    \n"
   ]
  },
  {
   "cell_type": "code",
   "execution_count": null,
   "id": "49a9ee0f",
   "metadata": {},
   "outputs": [],
   "source": [
    "plot_data(df,\" cost \")"
   ]
  },
  {
   "cell_type": "markdown",
   "id": "16f218d6",
   "metadata": {},
   "source": [
    "# Chi Square with Python"
   ]
  },
  {
   "cell_type": "code",
   "execution_count": null,
   "id": "3cb5a669",
   "metadata": {},
   "outputs": [],
   "source": [
    "##No of hours students study"
   ]
  },
  {
   "cell_type": "code",
   "execution_count": null,
   "id": "803fb8aa",
   "metadata": {},
   "outputs": [],
   "source": [
    "expected_data=[10,12,8,12,9,10,13]"
   ]
  },
  {
   "cell_type": "code",
   "execution_count": null,
   "id": "0fea372d",
   "metadata": {},
   "outputs": [],
   "source": [
    "observed_data=[13,9,8,12,9,13,10]"
   ]
  },
  {
   "cell_type": "code",
   "execution_count": null,
   "id": "7f3ad00d",
   "metadata": {},
   "outputs": [],
   "source": [
    "sum(expected_data)"
   ]
  },
  {
   "cell_type": "code",
   "execution_count": null,
   "id": "424c43e5",
   "metadata": {},
   "outputs": [],
   "source": [
    "sum(observed_data)"
   ]
  },
  {
   "cell_type": "code",
   "execution_count": null,
   "id": "fc6acc61",
   "metadata": {},
   "outputs": [],
   "source": [
    "##Chi sqare gooodness of test"
   ]
  },
  {
   "cell_type": "code",
   "execution_count": null,
   "id": "7c4a9971",
   "metadata": {},
   "outputs": [],
   "source": [
    "chi_sqaure,pvalue=st.chisquare(expected_data,observed_data)"
   ]
  },
  {
   "cell_type": "code",
   "execution_count": null,
   "id": "14bb9106",
   "metadata": {},
   "outputs": [],
   "source": [
    "print(chi_sqaure,pvalue)"
   ]
  },
  {
   "cell_type": "code",
   "execution_count": null,
   "id": "ccac5812",
   "metadata": {},
   "outputs": [],
   "source": [
    "##find the critical value\n",
    "significance=.05\n",
    "dof=len(expected_data)-1"
   ]
  },
  {
   "cell_type": "code",
   "execution_count": null,
   "id": "b4bd57f1",
   "metadata": {},
   "outputs": [],
   "source": [
    "critical_value=st.chi2.ppf(1-significance,dof)"
   ]
  },
  {
   "cell_type": "code",
   "execution_count": null,
   "id": "6e0d6998",
   "metadata": {},
   "outputs": [],
   "source": [
    "critical_value"
   ]
  },
  {
   "cell_type": "code",
   "execution_count": null,
   "id": "b2f66107",
   "metadata": {},
   "outputs": [],
   "source": [
    "if chi_sqaure>critical_value:\n",
    "    print(\"Reject the Null hypothesis\")\n",
    "else:\n",
    "    print(\"Fail Reject the Null hypothesis\")"
   ]
  },
  {
   "cell_type": "code",
   "execution_count": null,
   "id": "8e23a0b9",
   "metadata": {},
   "outputs": [],
   "source": [
    "def Chi_square_test(expected_data,observed_data,significance=.05):\n",
    "    if type(expected_data) and type(observed_data) is list or tuple or set:\n",
    "        if sum(expected_data)==sum(observed_data) and len(expected_data)==len(observed_data):\n",
    "            chi_sqaure,p_value=st.chisquare(expected_data,observed_data)\n",
    "            dof=len(expected_data)-1\n",
    "            critical_value=st.chi2.ppf(1-significance,dof)\n",
    "            output=\"Reject the Null hypothesis\" if chi_sqaure>critical_value else \"Fail Reject the Null hypothesis\"\n",
    "        else:\n",
    "            output=\"Please make sure the length and sum is equal\"\n",
    "    else:\n",
    "        output=\"Please enter the correct values in list ,set,tuple only\"\n",
    "    return chi_sqaure,dof,critical_value,output\n",
    "        \n",
    "            "
   ]
  },
  {
   "cell_type": "code",
   "execution_count": null,
   "id": "bd961407",
   "metadata": {},
   "outputs": [],
   "source": [
    "expected_data=[10,100]\n",
    "observed_data=[60,50]\n",
    "Chi_square_test(expected_data,observed_data)"
   ]
  },
  {
   "cell_type": "markdown",
   "id": "9c25e12b",
   "metadata": {},
   "source": [
    "# F test with Python"
   ]
  },
  {
   "cell_type": "code",
   "execution_count": null,
   "id": "1614b9dd",
   "metadata": {},
   "outputs": [],
   "source": [
    "sample1=[10,12,8,12,9,10,13]\n",
    "sample2=[13,9,8,12,9,13,10,17,20,19]\n",
    "def f_test(sample1,sample2,significance=.05):\n",
    "    h0=\"Sample2 is better then the Sample1\"\n",
    "    h1=\"Sample2 is not better then the Sample1\"\n",
    "    d1=len(sample1)-1\n",
    "    d2=len(sample2)-1\n",
    "    v1=np.var(sample1)\n",
    "    v2=np.var(sample2)\n",
    "    variance_ration_test=v1/v2\n",
    "    critical_value=st.f.ppf(1-significance,dfn=d1,dfd=d2)\n",
    "    if variance_ration_test>critical_value:\n",
    "        output=\"Reject the null Hypothesis\"\n",
    "    else:\n",
    "        output=\"Fail to Reject the null Hypothesis\"\n",
    "    return f\"Null hypothesis: {h0}\"\\\n",
    "            ,f\"Null hypothesis: {h0}\",\\\n",
    "            f\"DOf of sample 1 : {d1}\", f\"DOf of sample2 : {d2}\",f\"varience of sample1 : {round(v1,2)}\"\\\n",
    "            ,f\"varience of sample2 : {round(v2,2)}\"\\\n",
    "            ,f\"variance_ration_test:{round(variance_ration_test,2)}\"\\\n",
    "            ,f\"significance:{round(significance,2)}\"\\\n",
    "            ,f\"critical_value:{round(critical_value,2)}\"\\\n",
    "            ,f\"Final Conclustion: {output}\"         \n",
    "\n"
   ]
  },
  {
   "cell_type": "code",
   "execution_count": null,
   "id": "9ac6c304",
   "metadata": {},
   "outputs": [],
   "source": [
    "f_test(sample1,sample2)"
   ]
  },
  {
   "cell_type": "code",
   "execution_count": null,
   "id": "630d0c48",
   "metadata": {},
   "outputs": [],
   "source": [
    "Mg15=[9,8,7,8,8,9,8]\n",
    "Mg30=[7,6,6,7,8,7,6]\n",
    "Mg45=[4,3,2,3,4,3,2]\n",
    "samples=[Mg15,Mg30,Mg45]\n",
    "samples"
   ]
  },
  {
   "cell_type": "code",
   "execution_count": null,
   "id": "38277ef3",
   "metadata": {},
   "outputs": [],
   "source": [
    "def ss_bt(samples,n,N):\n",
    "    ai=sum([sum(i)**2 for i in samples])\n",
    "    return ai/n-ai/N\n",
    "\n",
    "def ss_within(samples,n):\n",
    "    ai=sum([sum(i)**2 for i in samples])\n",
    "    full_values=[]\n",
    "    for i in samples:\n",
    "        full_values.extend(i)\n",
    "    output=sum([i**2 for i in full_values])\n",
    "    return (output-ai/n)\n",
    "#ai/n-ai/N\n",
    "\n",
    "def Anova_test(samples,significance=.05):\n",
    "    h0=\"Alll the mean is same\"\n",
    "    h1=\"Atleast one mean is different\"\n",
    "    N=sum([len(i) for i in samples])\n",
    "    #print(N)\n",
    "    a=len(samples)\n",
    "    dof_bw=a-1\n",
    "    dof_within=N-a\n",
    "    critical_value=st.f.ppf(1-significance,dof_bw,dof_within)\n",
    "    ss_between=ss_bt(samples,len(samples[0]),N)\n",
    "    ss_wt=ss_within(samples,len(samples[0]))\n",
    "    ss_total=round(ss_wt+ss_between,2)\n",
    "    Ms_bt=round(ss_wt/dof_bw,2)\n",
    "    Ms_within=round(ss_wt/dof_within,2)\n",
    "    F=round(Ms_bt/Ms_within,2)\n",
    "    if F>critical_value:\n",
    "        Conclustion=\"Reject the Null hypothesis\"\n",
    "    else:\n",
    "        Conclustion=\"Fail to Reject the Null hypothesis\"\n",
    "\n",
    "    return f\"Null hypothesis: {h0}\"\\\n",
    "            ,f\"ALternativa hypothesis: {h1}\",\\\n",
    "            f\"a: {a}\", f\"N : {N}\",\\\n",
    "            f\"dof_bw : {(dof_bw)}\"\\\n",
    "            ,f\"dof_within : {dof_within}\"\\\n",
    "            ,f\"critical_value:{round(critical_value,2)}\"\\\n",
    "            ,f\"significance:{round(significance,2)}\"\\\n",
    "            ,f\"ss_between:{round(ss_between,2)}\"\\\n",
    "            ,f\"ss_within:{round(ss_wt,2)}\" \\\n",
    "            ,f\"ss_total:{ss_total}\"\\\n",
    "            ,f\"Ms_bt:{Ms_bt}\" \\\n",
    "            ,f\"Ms_within:{Ms_within}\"\\\n",
    "            ,f\"F:{F}\"\\\n",
    "            ,f\"Final Conclustion:{Conclustion}\"\n",
    "\n",
    "\n"
   ]
  },
  {
   "cell_type": "code",
   "execution_count": null,
   "id": "6b69a042",
   "metadata": {},
   "outputs": [],
   "source": [
    "Anova_test(samples)"
   ]
  },
  {
   "cell_type": "code",
   "execution_count": null,
   "id": "545b4662",
   "metadata": {},
   "outputs": [],
   "source": [
    "def ss_bt(samples,n,N):\n",
    "    ai=sum([sum(i)**2 for i in samples])\n",
    "    return ai/n-ai/N"
   ]
  },
  {
   "cell_type": "code",
   "execution_count": null,
   "id": "7e9e4c5e",
   "metadata": {},
   "outputs": [],
   "source": [
    "ss_bt(samples,7,21)"
   ]
  },
  {
   "cell_type": "code",
   "execution_count": null,
   "id": "d5960f04",
   "metadata": {},
   "outputs": [],
   "source": [
    "def ss_within(samples,n):\n",
    "    ai=sum([sum(i)**2 for i in samples])\n",
    "    full_values=[]\n",
    "    for i in samples:\n",
    "        full_values.extend(i)\n",
    "    output=sum([i**2 for i in full_values])\n",
    "    return (output-ai/n)\n",
    "#ai/n-ai/N"
   ]
  },
  {
   "cell_type": "code",
   "execution_count": null,
   "id": "8392c83b",
   "metadata": {},
   "outputs": [],
   "source": [
    "ss_within(samples,7)"
   ]
  },
  {
   "cell_type": "markdown",
   "id": "44315379",
   "metadata": {},
   "source": [
    "# Handling Missing values"
   ]
  },
  {
   "cell_type": "code",
   "execution_count": null,
   "id": "bc6ecef4",
   "metadata": {},
   "outputs": [],
   "source": [
    "df=sns.load_dataset('titanic')"
   ]
  },
  {
   "cell_type": "code",
   "execution_count": null,
   "id": "7051d3a5",
   "metadata": {},
   "outputs": [],
   "source": [
    "df"
   ]
  },
  {
   "cell_type": "code",
   "execution_count": null,
   "id": "f6ec90a1",
   "metadata": {},
   "outputs": [],
   "source": [
    "##Check the missig values\n",
    "df.isnull().sum()"
   ]
  },
  {
   "cell_type": "code",
   "execution_count": null,
   "id": "826acfff",
   "metadata": {},
   "outputs": [],
   "source": [
    "## Delete the rows\n",
    "df.dropna().shape"
   ]
  },
  {
   "cell_type": "code",
   "execution_count": null,
   "id": "2c311ce2",
   "metadata": {},
   "outputs": [],
   "source": [
    "##Columns drop\n",
    "df.dropna(axis=1)"
   ]
  },
  {
   "cell_type": "markdown",
   "id": "b0f77bc4",
   "metadata": {},
   "source": [
    "# Imputation Missing values"
   ]
  },
  {
   "cell_type": "markdown",
   "id": "eb15e6bb",
   "metadata": {},
   "source": [
    "# 1.Mean Value Imputation"
   ]
  },
  {
   "cell_type": "code",
   "execution_count": null,
   "id": "826118e7",
   "metadata": {},
   "outputs": [],
   "source": [
    "sns.histplot(df['age'],kde=True)"
   ]
  },
  {
   "cell_type": "code",
   "execution_count": null,
   "id": "4f8234d7",
   "metadata": {},
   "outputs": [],
   "source": [
    "df['age_mean']=df['age'].fillna(df['age'].mean())"
   ]
  },
  {
   "cell_type": "code",
   "execution_count": null,
   "id": "1a2dfcef",
   "metadata": {},
   "outputs": [],
   "source": [
    "##Normal distributaion data\n",
    "df.isnull().sum()"
   ]
  },
  {
   "cell_type": "markdown",
   "id": "31946a6f",
   "metadata": {},
   "source": [
    "# Median\n",
    "if we have the outliers"
   ]
  },
  {
   "cell_type": "code",
   "execution_count": null,
   "id": "8a501a0c",
   "metadata": {},
   "outputs": [],
   "source": [
    "df['age_median']=df['age'].fillna(df['age'].median())"
   ]
  },
  {
   "cell_type": "code",
   "execution_count": null,
   "id": "1151ec3b",
   "metadata": {},
   "outputs": [],
   "source": [
    "df"
   ]
  },
  {
   "cell_type": "markdown",
   "id": "faa4d572",
   "metadata": {},
   "source": [
    "# Mode\n",
    "categarical values"
   ]
  },
  {
   "cell_type": "markdown",
   "id": "5298454a",
   "metadata": {},
   "source": [
    "# Handling Imbalance Dataset"
   ]
  },
  {
   "cell_type": "code",
   "execution_count": null,
   "id": "8e55271d",
   "metadata": {},
   "outputs": [],
   "source": [
    "np.random.seed(123)\n",
    "n=1000\n",
    "class0_ratio=.9\n",
    "n_class_0=int(n*class0_ratio)\n",
    "n_class_1=n-n_class_0\n"
   ]
  },
  {
   "cell_type": "code",
   "execution_count": null,
   "id": "9fec795c",
   "metadata": {},
   "outputs": [],
   "source": [
    "n_class_0"
   ]
  },
  {
   "cell_type": "code",
   "execution_count": null,
   "id": "7529c4b2",
   "metadata": {},
   "outputs": [],
   "source": [
    "n_class_1"
   ]
  },
  {
   "cell_type": "code",
   "execution_count": null,
   "id": "cc4efe01",
   "metadata": {},
   "outputs": [],
   "source": [
    "##Creatinf DF\n",
    "cls_0=pd.DataFrame({\n",
    "    'feature1':np.random.normal(loc=0,scale=1,size=n_class_0),\n",
    "    'feature2':np.random.normal(loc=0,scale=1,size=n_class_0),\n",
    "    'target':[0]*n_class_0\n",
    "\n",
    "})\n",
    "##Creatinf DF\n",
    "cls_1=pd.DataFrame({\n",
    "    'feature1':np.random.normal(loc=0,scale=1,size=n_class_1),\n",
    "    'feature2':np.random.normal(loc=0,scale=1,size=n_class_1),\n",
    "    'target':[1]*n_class_1\n",
    "\n",
    "})"
   ]
  },
  {
   "cell_type": "code",
   "execution_count": null,
   "id": "492bab38",
   "metadata": {},
   "outputs": [],
   "source": [
    "cls_0"
   ]
  },
  {
   "cell_type": "code",
   "execution_count": null,
   "id": "4ef7e845",
   "metadata": {},
   "outputs": [],
   "source": [
    "df=pd.concat([cls_0,cls_1]).reset_index(drop=True)"
   ]
  },
  {
   "cell_type": "code",
   "execution_count": null,
   "id": "f4478345",
   "metadata": {},
   "outputs": [],
   "source": [
    "df"
   ]
  },
  {
   "cell_type": "code",
   "execution_count": null,
   "id": "cd02556e",
   "metadata": {},
   "outputs": [],
   "source": [
    "df.target.value_counts()"
   ]
  },
  {
   "cell_type": "code",
   "execution_count": null,
   "id": "e786730e",
   "metadata": {},
   "outputs": [],
   "source": [
    "df_minority=df[df['target']==1]\n",
    "df_majority=df[df['target']==0]"
   ]
  },
  {
   "cell_type": "code",
   "execution_count": null,
   "id": "34af4bda",
   "metadata": {},
   "outputs": [],
   "source": [
    "#Upsampling\n",
    "from sklearn.utils import resample\n",
    "df_minj_updsampled=resample(df_minority,replace=True,\n",
    "        n_samples=len(df_majority),\n",
    "        random_state=42)"
   ]
  },
  {
   "cell_type": "code",
   "execution_count": null,
   "id": "9dffa991",
   "metadata": {},
   "outputs": [],
   "source": [
    "df_minj_updsampled.shape"
   ]
  },
  {
   "cell_type": "code",
   "execution_count": null,
   "id": "47bf0c46",
   "metadata": {},
   "outputs": [],
   "source": [
    "df_upsampled=pd.concat([df_majority,df_minj_updsampled])"
   ]
  },
  {
   "cell_type": "code",
   "execution_count": null,
   "id": "c96ade3e",
   "metadata": {},
   "outputs": [],
   "source": [
    "df_upsampled.target.value_counts()"
   ]
  },
  {
   "cell_type": "code",
   "execution_count": null,
   "id": "7265797b",
   "metadata": {},
   "outputs": [],
   "source": [
    "##Creatinf DF\n",
    "cls_0=pd.DataFrame({\n",
    "    'feature1':np.random.normal(loc=0,scale=1,size=n_class_0),\n",
    "    'feature2':np.random.normal(loc=0,scale=1,size=n_class_0),\n",
    "    'target':[0]*n_class_0\n",
    "\n",
    "})\n",
    "##Creatinf DF\n",
    "cls_1=pd.DataFrame({\n",
    "    'feature1':np.random.normal(loc=0,scale=1,size=n_class_1),\n",
    "    'feature2':np.random.normal(loc=0,scale=1,size=n_class_1),\n",
    "    'target':[1]*n_class_1\n",
    "\n",
    "})\n",
    "df=pd.concat([cls_0,cls_1]).reset_index(drop=True)"
   ]
  },
  {
   "cell_type": "code",
   "execution_count": null,
   "id": "53f79d32",
   "metadata": {},
   "outputs": [],
   "source": [
    "df_minority=df[df['target']==1]\n",
    "df_majority=df[df['target']==0]"
   ]
  },
  {
   "cell_type": "code",
   "execution_count": null,
   "id": "9c6029bf",
   "metadata": {},
   "outputs": [],
   "source": [
    "#downsampling\n",
    "from sklearn.utils import resample\n",
    "df_mon=resample(df_majority,replace=False,\n",
    "        n_samples=len(df_minority),\n",
    "        random_state=42)"
   ]
  },
  {
   "cell_type": "code",
   "execution_count": null,
   "id": "3357377a",
   "metadata": {},
   "outputs": [],
   "source": [
    "df_mon.target.value_counts()"
   ]
  },
  {
   "cell_type": "code",
   "execution_count": null,
   "id": "90c54a69",
   "metadata": {},
   "outputs": [],
   "source": [
    "df_down=pd.concat([df_minority,df_mon])"
   ]
  },
  {
   "cell_type": "code",
   "execution_count": null,
   "id": "dee38ae4",
   "metadata": {},
   "outputs": [],
   "source": [
    "df_down.target.value_counts()"
   ]
  },
  {
   "cell_type": "markdown",
   "id": "be0e6b86",
   "metadata": {},
   "source": [
    "# SMOTE"
   ]
  },
  {
   "cell_type": "code",
   "execution_count": null,
   "id": "ac25a028",
   "metadata": {},
   "outputs": [],
   "source": [
    "from sklearn.datasets import make_classification"
   ]
  },
  {
   "cell_type": "code",
   "execution_count": null,
   "id": "2fad014f",
   "metadata": {},
   "outputs": [],
   "source": [
    "x,y=make_classification(n_samples=1000,n_redundant=0,n_features=2,n_clusters_per_class=1,\n",
    "                   weights=[.90],random_state=42)"
   ]
  },
  {
   "cell_type": "code",
   "execution_count": null,
   "id": "c73e48a3",
   "metadata": {},
   "outputs": [],
   "source": [
    "df1=pd.DataFrame(x,columns=[\"f1\",\"f2\"])\n",
    "df2=pd.DataFrame(y,columns=['target'])\n",
    "final_df=pd.concat([df1,df2],axis=1)"
   ]
  },
  {
   "cell_type": "code",
   "execution_count": null,
   "id": "1083476a",
   "metadata": {},
   "outputs": [],
   "source": [
    "final_df\n"
   ]
  },
  {
   "cell_type": "code",
   "execution_count": null,
   "id": "80c0c818",
   "metadata": {},
   "outputs": [],
   "source": [
    "final_df.target.value_counts()"
   ]
  },
  {
   "cell_type": "code",
   "execution_count": null,
   "id": "1bdd5d24",
   "metadata": {},
   "outputs": [],
   "source": [
    "plt.scatter(final_df['f1'],final_df['f2'],c=final_df['target'])"
   ]
  },
  {
   "cell_type": "code",
   "execution_count": null,
   "id": "4e596ba9",
   "metadata": {},
   "outputs": [],
   "source": [
    "!pip install imblearn"
   ]
  },
  {
   "cell_type": "code",
   "execution_count": null,
   "id": "f5b10e50",
   "metadata": {},
   "outputs": [],
   "source": [
    "from imblearn.over_sampling import SMOTE"
   ]
  },
  {
   "cell_type": "code",
   "execution_count": null,
   "id": "db411a45",
   "metadata": {},
   "outputs": [],
   "source": [
    "oversample=SMOTE()\n",
    "x,y=oversample.fit_resample(final_df[[\"f1\",\"f2\"]],final_df[\"target\"])"
   ]
  },
  {
   "cell_type": "code",
   "execution_count": null,
   "id": "f1edd2ad",
   "metadata": {},
   "outputs": [],
   "source": [
    "x.shape"
   ]
  },
  {
   "cell_type": "code",
   "execution_count": null,
   "id": "25023f49",
   "metadata": {},
   "outputs": [],
   "source": [
    "y.value_counts()"
   ]
  },
  {
   "cell_type": "code",
   "execution_count": null,
   "id": "ea965c41",
   "metadata": {},
   "outputs": [],
   "source": [
    "df1=pd.DataFrame(x,columns=[\"f1\",\"f2\"])\n",
    "df2=pd.DataFrame(y,columns=['target'])\n",
    "final_df=pd.concat([df1,df2],axis=1)"
   ]
  },
  {
   "cell_type": "code",
   "execution_count": null,
   "id": "8efa3f14",
   "metadata": {},
   "outputs": [],
   "source": [
    "plt.scatter(final_df[\"f1\"],final_df.f2,c=final_df.target)"
   ]
  },
  {
   "cell_type": "markdown",
   "id": "e9bf031c",
   "metadata": {},
   "source": [
    "# Data Interpolation"
   ]
  },
  {
   "cell_type": "code",
   "execution_count": null,
   "id": "238389dd",
   "metadata": {},
   "outputs": [],
   "source": [
    "x=np.array(range(0,5))\n",
    "y=np.array(range(5,10))"
   ]
  },
  {
   "cell_type": "code",
   "execution_count": null,
   "id": "47aca483",
   "metadata": {},
   "outputs": [],
   "source": [
    "plt.scatter(x,y)"
   ]
  },
  {
   "cell_type": "code",
   "execution_count": null,
   "id": "2f5fb843",
   "metadata": {},
   "outputs": [],
   "source": [
    "x_new=np.linspace(1,5,10)\n",
    "y_new=np.interp(x_new,x,y)"
   ]
  },
  {
   "cell_type": "code",
   "execution_count": null,
   "id": "6741d4f5",
   "metadata": {},
   "outputs": [],
   "source": [
    "plt.scatter(x_new,y_new)"
   ]
  },
  {
   "cell_type": "code",
   "execution_count": null,
   "id": "7c238bc7",
   "metadata": {},
   "outputs": [],
   "source": [
    "x=np.array(range(1,6))\n",
    "y=np.array([i**3 for i in x])\n",
    "plt.scatter(x,y)"
   ]
  },
  {
   "cell_type": "code",
   "execution_count": null,
   "id": "e5c0915c",
   "metadata": {},
   "outputs": [],
   "source": [
    "x"
   ]
  },
  {
   "cell_type": "code",
   "execution_count": null,
   "id": "dad836e7",
   "metadata": {},
   "outputs": [],
   "source": [
    "y"
   ]
  },
  {
   "cell_type": "code",
   "execution_count": null,
   "id": "42dd2668",
   "metadata": {},
   "outputs": [],
   "source": [
    "from scipy.interpolate import interp1d"
   ]
  },
  {
   "cell_type": "code",
   "execution_count": null,
   "id": "fa2daf6c",
   "metadata": {},
   "outputs": [],
   "source": [
    "f=interp1d(x,y,kind='cubic')"
   ]
  },
  {
   "cell_type": "code",
   "execution_count": null,
   "id": "d9c71b51",
   "metadata": {},
   "outputs": [],
   "source": [
    "x_new=np.linspace(1,5,10)"
   ]
  },
  {
   "cell_type": "code",
   "execution_count": null,
   "id": "2de3978f",
   "metadata": {},
   "outputs": [],
   "source": [
    "x_new"
   ]
  },
  {
   "cell_type": "code",
   "execution_count": null,
   "id": "4517df37",
   "metadata": {},
   "outputs": [],
   "source": [
    "y_new=f(x_new)"
   ]
  },
  {
   "cell_type": "code",
   "execution_count": null,
   "id": "6b5edea1",
   "metadata": {},
   "outputs": [],
   "source": [
    "plt.scatter(x_new,y_new)"
   ]
  },
  {
   "cell_type": "code",
   "execution_count": null,
   "id": "30822f53",
   "metadata": {},
   "outputs": [],
   "source": [
    "x=np.array(range(1,6))\n",
    "y=np.array([i**3 for i in x])\n",
    "plt.scatter(x,y)"
   ]
  },
  {
   "cell_type": "code",
   "execution_count": null,
   "id": "1d8fe8ad",
   "metadata": {},
   "outputs": [],
   "source": [
    "plt.figure(figsize=(3,5))\n",
    "p=np.polyfit(x,y,5)\n",
    "x_new=np.linspace(1,5,10)\n",
    "y_new=np.polyval(p,x_new)\n",
    "plt.scatter(x_new,y_new)"
   ]
  },
  {
   "cell_type": "code",
   "execution_count": null,
   "id": "b1f677ae",
   "metadata": {},
   "outputs": [],
   "source": [
    "plt.figure(figsize=(10,5))\n",
    "p=np.polyfit(x,y,2)\n",
    "x_new=np.linspace(1,5,10)\n",
    "y_new=np.polyval(p,x_new)\n",
    "plt.scatter(x_new,y_new)\n",
    "#plt.text(x_new,y_new,str(y_new))"
   ]
  },
  {
   "cell_type": "markdown",
   "id": "1ef68cd4",
   "metadata": {},
   "source": [
    "# Feature Scaling"
   ]
  },
  {
   "cell_type": "code",
   "execution_count": null,
   "id": "7e0750d5",
   "metadata": {},
   "outputs": [],
   "source": [
    "import scipy.stats as st\n",
    "import pylab\n",
    "import numpy as np\n",
    "import seaborn as sns\n",
    "import matplotlib.pyplot as plt\n",
    "import pandas as pd\n",
    "#loading the dataset"
   ]
  },
  {
   "cell_type": "raw",
   "id": "04496e51",
   "metadata": {},
   "source": [
    "Standarding"
   ]
  },
  {
   "cell_type": "code",
   "execution_count": null,
   "id": "a44d3d35",
   "metadata": {},
   "outputs": [],
   "source": [
    "df=sns.load_dataset('titanic')"
   ]
  },
  {
   "cell_type": "code",
   "execution_count": null,
   "id": "08460369",
   "metadata": {},
   "outputs": [],
   "source": [
    "df"
   ]
  },
  {
   "cell_type": "code",
   "execution_count": null,
   "id": "4624b339",
   "metadata": {},
   "outputs": [],
   "source": [
    "np.mean(df.fare)"
   ]
  },
  {
   "cell_type": "code",
   "execution_count": null,
   "id": "f34724e4",
   "metadata": {},
   "outputs": [],
   "source": [
    "def z_score(x):\n",
    "    mean=np.mean(df.fare)\n",
    "    std=np.std(df.fare)\n",
    "    return (x-mean)/std"
   ]
  },
  {
   "cell_type": "code",
   "execution_count": null,
   "id": "45d3b91f",
   "metadata": {},
   "outputs": [],
   "source": [
    "df[\"std_fare\"] =[ z_score(i) for i in df[\"fare\"]]"
   ]
  },
  {
   "cell_type": "code",
   "execution_count": null,
   "id": "ea987cd4",
   "metadata": {},
   "outputs": [],
   "source": [
    "df"
   ]
  },
  {
   "cell_type": "code",
   "execution_count": null,
   "id": "229e7564",
   "metadata": {},
   "outputs": [],
   "source": [
    "from sklearn.preprocessing import StandardScaler\n",
    "scalar=StandardScaler()"
   ]
  },
  {
   "cell_type": "code",
   "execution_count": null,
   "id": "e215d18c",
   "metadata": {},
   "outputs": [],
   "source": [
    "scalar"
   ]
  },
  {
   "cell_type": "code",
   "execution_count": null,
   "id": "edd0f7ed",
   "metadata": {},
   "outputs": [],
   "source": [
    "scalar.fit(df[['fare']])"
   ]
  },
  {
   "cell_type": "code",
   "execution_count": null,
   "id": "7b5bc574",
   "metadata": {},
   "outputs": [],
   "source": [
    "scalar.transform(df[['fare']])"
   ]
  },
  {
   "cell_type": "code",
   "execution_count": null,
   "id": "8f52f579",
   "metadata": {},
   "outputs": [],
   "source": [
    "scalar.fit_transform(df[[\"fare\"]])"
   ]
  },
  {
   "cell_type": "raw",
   "id": "7ddee71e",
   "metadata": {},
   "source": [
    "Normalisations"
   ]
  },
  {
   "cell_type": "code",
   "execution_count": null,
   "id": "30fc9fa9",
   "metadata": {},
   "outputs": [],
   "source": [
    "df.head()"
   ]
  },
  {
   "cell_type": "code",
   "execution_count": null,
   "id": "009e03fb",
   "metadata": {},
   "outputs": [],
   "source": [
    "from sklearn.preprocessing import MinMaxScaler"
   ]
  },
  {
   "cell_type": "code",
   "execution_count": null,
   "id": "e70f8a18",
   "metadata": {},
   "outputs": [],
   "source": [
    "min_max=MinMaxScaler()\n",
    "min_max.fit_transform(df[[\"fare\"]])"
   ]
  },
  {
   "cell_type": "raw",
   "id": "6d30c198",
   "metadata": {},
   "source": [
    "# PCA"
   ]
  },
  {
   "cell_type": "code",
   "execution_count": null,
   "id": "116be096",
   "metadata": {},
   "outputs": [],
   "source": [
    "from sklearn.preprocessing import normalize"
   ]
  },
  {
   "cell_type": "code",
   "execution_count": null,
   "id": "dbf49d37",
   "metadata": {},
   "outputs": [],
   "source": [
    "normalize([df[\"fare\"]])"
   ]
  },
  {
   "cell_type": "markdown",
   "id": "320408b5",
   "metadata": {},
   "source": [
    "# Data Encoding"
   ]
  },
  {
   "cell_type": "code",
   "execution_count": 3,
   "id": "ba5ca002",
   "metadata": {},
   "outputs": [],
   "source": [
    "df=sns.load_dataset('titanic')\n",
    "df=df.head(10)"
   ]
  },
  {
   "cell_type": "code",
   "execution_count": 4,
   "id": "dd83607d",
   "metadata": {},
   "outputs": [
    {
     "data": {
      "text/plain": [
       "Third     6\n",
       "First     3\n",
       "Second    1\n",
       "Name: class, dtype: int64"
      ]
     },
     "execution_count": 4,
     "metadata": {},
     "output_type": "execute_result"
    }
   ],
   "source": [
    "df[\"class\"].value_counts()"
   ]
  },
  {
   "cell_type": "raw",
   "id": "a2e2129c",
   "metadata": {},
   "source": [
    "OneHotEncoder"
   ]
  },
  {
   "cell_type": "code",
   "execution_count": 5,
   "id": "0bc067c6",
   "metadata": {},
   "outputs": [],
   "source": [
    "from sklearn.preprocessing import OneHotEncoder"
   ]
  },
  {
   "cell_type": "code",
   "execution_count": 6,
   "id": "6eb89f19",
   "metadata": {},
   "outputs": [],
   "source": [
    "encoder=OneHotEncoder()"
   ]
  },
  {
   "cell_type": "code",
   "execution_count": 7,
   "id": "d688bd46",
   "metadata": {},
   "outputs": [],
   "source": [
    "##Perform fit perform\n",
    "encoders=encoder.fit_transform(df[[\"class\"]]).toarray()"
   ]
  },
  {
   "cell_type": "code",
   "execution_count": 8,
   "id": "989f1297",
   "metadata": {},
   "outputs": [],
   "source": [
    "encoder_df=pd.DataFrame(encoders,columns=encoder.get_feature_names_out())"
   ]
  },
  {
   "cell_type": "code",
   "execution_count": 9,
   "id": "c9c15762",
   "metadata": {},
   "outputs": [
    {
     "data": {
      "text/html": [
       "<div>\n",
       "<style scoped>\n",
       "    .dataframe tbody tr th:only-of-type {\n",
       "        vertical-align: middle;\n",
       "    }\n",
       "\n",
       "    .dataframe tbody tr th {\n",
       "        vertical-align: top;\n",
       "    }\n",
       "\n",
       "    .dataframe thead th {\n",
       "        text-align: right;\n",
       "    }\n",
       "</style>\n",
       "<table border=\"1\" class=\"dataframe\">\n",
       "  <thead>\n",
       "    <tr style=\"text-align: right;\">\n",
       "      <th></th>\n",
       "      <th>class_First</th>\n",
       "      <th>class_Second</th>\n",
       "      <th>class_Third</th>\n",
       "    </tr>\n",
       "  </thead>\n",
       "  <tbody>\n",
       "    <tr>\n",
       "      <th>0</th>\n",
       "      <td>0.0</td>\n",
       "      <td>0.0</td>\n",
       "      <td>1.0</td>\n",
       "    </tr>\n",
       "    <tr>\n",
       "      <th>1</th>\n",
       "      <td>1.0</td>\n",
       "      <td>0.0</td>\n",
       "      <td>0.0</td>\n",
       "    </tr>\n",
       "    <tr>\n",
       "      <th>2</th>\n",
       "      <td>0.0</td>\n",
       "      <td>0.0</td>\n",
       "      <td>1.0</td>\n",
       "    </tr>\n",
       "    <tr>\n",
       "      <th>3</th>\n",
       "      <td>1.0</td>\n",
       "      <td>0.0</td>\n",
       "      <td>0.0</td>\n",
       "    </tr>\n",
       "    <tr>\n",
       "      <th>4</th>\n",
       "      <td>0.0</td>\n",
       "      <td>0.0</td>\n",
       "      <td>1.0</td>\n",
       "    </tr>\n",
       "    <tr>\n",
       "      <th>5</th>\n",
       "      <td>0.0</td>\n",
       "      <td>0.0</td>\n",
       "      <td>1.0</td>\n",
       "    </tr>\n",
       "    <tr>\n",
       "      <th>6</th>\n",
       "      <td>1.0</td>\n",
       "      <td>0.0</td>\n",
       "      <td>0.0</td>\n",
       "    </tr>\n",
       "    <tr>\n",
       "      <th>7</th>\n",
       "      <td>0.0</td>\n",
       "      <td>0.0</td>\n",
       "      <td>1.0</td>\n",
       "    </tr>\n",
       "    <tr>\n",
       "      <th>8</th>\n",
       "      <td>0.0</td>\n",
       "      <td>0.0</td>\n",
       "      <td>1.0</td>\n",
       "    </tr>\n",
       "    <tr>\n",
       "      <th>9</th>\n",
       "      <td>0.0</td>\n",
       "      <td>1.0</td>\n",
       "      <td>0.0</td>\n",
       "    </tr>\n",
       "  </tbody>\n",
       "</table>\n",
       "</div>"
      ],
      "text/plain": [
       "   class_First  class_Second  class_Third\n",
       "0          0.0           0.0          1.0\n",
       "1          1.0           0.0          0.0\n",
       "2          0.0           0.0          1.0\n",
       "3          1.0           0.0          0.0\n",
       "4          0.0           0.0          1.0\n",
       "5          0.0           0.0          1.0\n",
       "6          1.0           0.0          0.0\n",
       "7          0.0           0.0          1.0\n",
       "8          0.0           0.0          1.0\n",
       "9          0.0           1.0          0.0"
      ]
     },
     "execution_count": 9,
     "metadata": {},
     "output_type": "execute_result"
    }
   ],
   "source": [
    "encoder_df"
   ]
  },
  {
   "cell_type": "code",
   "execution_count": 10,
   "id": "aac6f5c6",
   "metadata": {},
   "outputs": [
    {
     "data": {
      "text/html": [
       "<div>\n",
       "<style scoped>\n",
       "    .dataframe tbody tr th:only-of-type {\n",
       "        vertical-align: middle;\n",
       "    }\n",
       "\n",
       "    .dataframe tbody tr th {\n",
       "        vertical-align: top;\n",
       "    }\n",
       "\n",
       "    .dataframe thead th {\n",
       "        text-align: right;\n",
       "    }\n",
       "</style>\n",
       "<table border=\"1\" class=\"dataframe\">\n",
       "  <thead>\n",
       "    <tr style=\"text-align: right;\">\n",
       "      <th></th>\n",
       "      <th>class</th>\n",
       "      <th>class_First</th>\n",
       "      <th>class_Second</th>\n",
       "      <th>class_Third</th>\n",
       "    </tr>\n",
       "  </thead>\n",
       "  <tbody>\n",
       "    <tr>\n",
       "      <th>0</th>\n",
       "      <td>Third</td>\n",
       "      <td>0.0</td>\n",
       "      <td>0.0</td>\n",
       "      <td>1.0</td>\n",
       "    </tr>\n",
       "    <tr>\n",
       "      <th>1</th>\n",
       "      <td>First</td>\n",
       "      <td>1.0</td>\n",
       "      <td>0.0</td>\n",
       "      <td>0.0</td>\n",
       "    </tr>\n",
       "    <tr>\n",
       "      <th>2</th>\n",
       "      <td>Third</td>\n",
       "      <td>0.0</td>\n",
       "      <td>0.0</td>\n",
       "      <td>1.0</td>\n",
       "    </tr>\n",
       "    <tr>\n",
       "      <th>3</th>\n",
       "      <td>First</td>\n",
       "      <td>1.0</td>\n",
       "      <td>0.0</td>\n",
       "      <td>0.0</td>\n",
       "    </tr>\n",
       "    <tr>\n",
       "      <th>4</th>\n",
       "      <td>Third</td>\n",
       "      <td>0.0</td>\n",
       "      <td>0.0</td>\n",
       "      <td>1.0</td>\n",
       "    </tr>\n",
       "    <tr>\n",
       "      <th>5</th>\n",
       "      <td>Third</td>\n",
       "      <td>0.0</td>\n",
       "      <td>0.0</td>\n",
       "      <td>1.0</td>\n",
       "    </tr>\n",
       "    <tr>\n",
       "      <th>6</th>\n",
       "      <td>First</td>\n",
       "      <td>1.0</td>\n",
       "      <td>0.0</td>\n",
       "      <td>0.0</td>\n",
       "    </tr>\n",
       "    <tr>\n",
       "      <th>7</th>\n",
       "      <td>Third</td>\n",
       "      <td>0.0</td>\n",
       "      <td>0.0</td>\n",
       "      <td>1.0</td>\n",
       "    </tr>\n",
       "    <tr>\n",
       "      <th>8</th>\n",
       "      <td>Third</td>\n",
       "      <td>0.0</td>\n",
       "      <td>0.0</td>\n",
       "      <td>1.0</td>\n",
       "    </tr>\n",
       "    <tr>\n",
       "      <th>9</th>\n",
       "      <td>Second</td>\n",
       "      <td>0.0</td>\n",
       "      <td>1.0</td>\n",
       "      <td>0.0</td>\n",
       "    </tr>\n",
       "  </tbody>\n",
       "</table>\n",
       "</div>"
      ],
      "text/plain": [
       "    class  class_First  class_Second  class_Third\n",
       "0   Third          0.0           0.0          1.0\n",
       "1   First          1.0           0.0          0.0\n",
       "2   Third          0.0           0.0          1.0\n",
       "3   First          1.0           0.0          0.0\n",
       "4   Third          0.0           0.0          1.0\n",
       "5   Third          0.0           0.0          1.0\n",
       "6   First          1.0           0.0          0.0\n",
       "7   Third          0.0           0.0          1.0\n",
       "8   Third          0.0           0.0          1.0\n",
       "9  Second          0.0           1.0          0.0"
      ]
     },
     "execution_count": 10,
     "metadata": {},
     "output_type": "execute_result"
    }
   ],
   "source": [
    "pd.concat([df['class'],encoder_df],axis=True)"
   ]
  },
  {
   "cell_type": "raw",
   "id": "514b2a45",
   "metadata": {},
   "source": [
    "LabelEncoder"
   ]
  },
  {
   "cell_type": "code",
   "execution_count": 11,
   "id": "f9cecc5d",
   "metadata": {},
   "outputs": [],
   "source": [
    "from sklearn.preprocessing import LabelEncoder\n",
    "lbl=LabelEncoder()"
   ]
  },
  {
   "cell_type": "code",
   "execution_count": 12,
   "id": "63e6d63d",
   "metadata": {},
   "outputs": [
    {
     "name": "stderr",
     "output_type": "stream",
     "text": [
      "/Users/nithinkumar/anaconda3/lib/python3.10/site-packages/sklearn/preprocessing/_label.py:116: DataConversionWarning: A column-vector y was passed when a 1d array was expected. Please change the shape of y to (n_samples, ), for example using ravel().\n",
      "  y = column_or_1d(y, warn=True)\n"
     ]
    }
   ],
   "source": [
    "lb_enc=lbl.fit_transform(df[[\"class\"]])"
   ]
  },
  {
   "cell_type": "code",
   "execution_count": 13,
   "id": "af237429",
   "metadata": {},
   "outputs": [
    {
     "data": {
      "text/plain": [
       "2"
      ]
     },
     "execution_count": 13,
     "metadata": {},
     "output_type": "execute_result"
    }
   ],
   "source": [
    "lbl.transform(['Third'])[0]"
   ]
  },
  {
   "cell_type": "raw",
   "id": "2c6f85a4",
   "metadata": {},
   "source": [
    "# OrdinalEncoder"
   ]
  },
  {
   "cell_type": "code",
   "execution_count": 14,
   "id": "729debb8",
   "metadata": {},
   "outputs": [],
   "source": [
    "from sklearn.preprocessing import OrdinalEncoder"
   ]
  },
  {
   "cell_type": "code",
   "execution_count": 15,
   "id": "d1c3c834",
   "metadata": {},
   "outputs": [],
   "source": [
    "## creates instance\n",
    "encoder=OrdinalEncoder(categories=[[\"First\",\"Second\",\"Third\"]])"
   ]
  },
  {
   "cell_type": "code",
   "execution_count": 16,
   "id": "4b725266",
   "metadata": {},
   "outputs": [
    {
     "data": {
      "text/plain": [
       "array([[2.],\n",
       "       [0.],\n",
       "       [2.],\n",
       "       [0.],\n",
       "       [2.],\n",
       "       [2.],\n",
       "       [0.],\n",
       "       [2.],\n",
       "       [2.],\n",
       "       [1.]])"
      ]
     },
     "execution_count": 16,
     "metadata": {},
     "output_type": "execute_result"
    }
   ],
   "source": [
    "encoder.fit_transform(df[['class']])"
   ]
  },
  {
   "cell_type": "code",
   "execution_count": 17,
   "id": "1d6e458a",
   "metadata": {},
   "outputs": [
    {
     "name": "stderr",
     "output_type": "stream",
     "text": [
      "/Users/nithinkumar/anaconda3/lib/python3.10/site-packages/sklearn/base.py:420: UserWarning: X does not have valid feature names, but OrdinalEncoder was fitted with feature names\n",
      "  warnings.warn(\n"
     ]
    },
    {
     "data": {
      "text/plain": [
       "2.0"
      ]
     },
     "execution_count": 17,
     "metadata": {},
     "output_type": "execute_result"
    }
   ],
   "source": [
    "encoder.transform([[\"Third\"]])[0][0]"
   ]
  },
  {
   "cell_type": "code",
   "execution_count": 18,
   "id": "f4af82a0",
   "metadata": {},
   "outputs": [
    {
     "data": {
      "text/html": [
       "<div>\n",
       "<style scoped>\n",
       "    .dataframe tbody tr th:only-of-type {\n",
       "        vertical-align: middle;\n",
       "    }\n",
       "\n",
       "    .dataframe tbody tr th {\n",
       "        vertical-align: top;\n",
       "    }\n",
       "\n",
       "    .dataframe thead th {\n",
       "        text-align: right;\n",
       "    }\n",
       "</style>\n",
       "<table border=\"1\" class=\"dataframe\">\n",
       "  <thead>\n",
       "    <tr style=\"text-align: right;\">\n",
       "      <th></th>\n",
       "      <th>survived</th>\n",
       "      <th>pclass</th>\n",
       "      <th>sex</th>\n",
       "      <th>age</th>\n",
       "      <th>sibsp</th>\n",
       "      <th>parch</th>\n",
       "      <th>fare</th>\n",
       "      <th>embarked</th>\n",
       "      <th>class</th>\n",
       "      <th>who</th>\n",
       "      <th>adult_male</th>\n",
       "      <th>deck</th>\n",
       "      <th>embark_town</th>\n",
       "      <th>alive</th>\n",
       "      <th>alone</th>\n",
       "    </tr>\n",
       "  </thead>\n",
       "  <tbody>\n",
       "    <tr>\n",
       "      <th>0</th>\n",
       "      <td>0</td>\n",
       "      <td>3</td>\n",
       "      <td>male</td>\n",
       "      <td>22.0</td>\n",
       "      <td>1</td>\n",
       "      <td>0</td>\n",
       "      <td>7.2500</td>\n",
       "      <td>S</td>\n",
       "      <td>Third</td>\n",
       "      <td>man</td>\n",
       "      <td>True</td>\n",
       "      <td>NaN</td>\n",
       "      <td>Southampton</td>\n",
       "      <td>no</td>\n",
       "      <td>False</td>\n",
       "    </tr>\n",
       "    <tr>\n",
       "      <th>1</th>\n",
       "      <td>1</td>\n",
       "      <td>1</td>\n",
       "      <td>female</td>\n",
       "      <td>38.0</td>\n",
       "      <td>1</td>\n",
       "      <td>0</td>\n",
       "      <td>71.2833</td>\n",
       "      <td>C</td>\n",
       "      <td>First</td>\n",
       "      <td>woman</td>\n",
       "      <td>False</td>\n",
       "      <td>C</td>\n",
       "      <td>Cherbourg</td>\n",
       "      <td>yes</td>\n",
       "      <td>False</td>\n",
       "    </tr>\n",
       "    <tr>\n",
       "      <th>2</th>\n",
       "      <td>1</td>\n",
       "      <td>3</td>\n",
       "      <td>female</td>\n",
       "      <td>26.0</td>\n",
       "      <td>0</td>\n",
       "      <td>0</td>\n",
       "      <td>7.9250</td>\n",
       "      <td>S</td>\n",
       "      <td>Third</td>\n",
       "      <td>woman</td>\n",
       "      <td>False</td>\n",
       "      <td>NaN</td>\n",
       "      <td>Southampton</td>\n",
       "      <td>yes</td>\n",
       "      <td>True</td>\n",
       "    </tr>\n",
       "    <tr>\n",
       "      <th>3</th>\n",
       "      <td>1</td>\n",
       "      <td>1</td>\n",
       "      <td>female</td>\n",
       "      <td>35.0</td>\n",
       "      <td>1</td>\n",
       "      <td>0</td>\n",
       "      <td>53.1000</td>\n",
       "      <td>S</td>\n",
       "      <td>First</td>\n",
       "      <td>woman</td>\n",
       "      <td>False</td>\n",
       "      <td>C</td>\n",
       "      <td>Southampton</td>\n",
       "      <td>yes</td>\n",
       "      <td>False</td>\n",
       "    </tr>\n",
       "    <tr>\n",
       "      <th>4</th>\n",
       "      <td>0</td>\n",
       "      <td>3</td>\n",
       "      <td>male</td>\n",
       "      <td>35.0</td>\n",
       "      <td>0</td>\n",
       "      <td>0</td>\n",
       "      <td>8.0500</td>\n",
       "      <td>S</td>\n",
       "      <td>Third</td>\n",
       "      <td>man</td>\n",
       "      <td>True</td>\n",
       "      <td>NaN</td>\n",
       "      <td>Southampton</td>\n",
       "      <td>no</td>\n",
       "      <td>True</td>\n",
       "    </tr>\n",
       "    <tr>\n",
       "      <th>5</th>\n",
       "      <td>0</td>\n",
       "      <td>3</td>\n",
       "      <td>male</td>\n",
       "      <td>NaN</td>\n",
       "      <td>0</td>\n",
       "      <td>0</td>\n",
       "      <td>8.4583</td>\n",
       "      <td>Q</td>\n",
       "      <td>Third</td>\n",
       "      <td>man</td>\n",
       "      <td>True</td>\n",
       "      <td>NaN</td>\n",
       "      <td>Queenstown</td>\n",
       "      <td>no</td>\n",
       "      <td>True</td>\n",
       "    </tr>\n",
       "    <tr>\n",
       "      <th>6</th>\n",
       "      <td>0</td>\n",
       "      <td>1</td>\n",
       "      <td>male</td>\n",
       "      <td>54.0</td>\n",
       "      <td>0</td>\n",
       "      <td>0</td>\n",
       "      <td>51.8625</td>\n",
       "      <td>S</td>\n",
       "      <td>First</td>\n",
       "      <td>man</td>\n",
       "      <td>True</td>\n",
       "      <td>E</td>\n",
       "      <td>Southampton</td>\n",
       "      <td>no</td>\n",
       "      <td>True</td>\n",
       "    </tr>\n",
       "    <tr>\n",
       "      <th>7</th>\n",
       "      <td>0</td>\n",
       "      <td>3</td>\n",
       "      <td>male</td>\n",
       "      <td>2.0</td>\n",
       "      <td>3</td>\n",
       "      <td>1</td>\n",
       "      <td>21.0750</td>\n",
       "      <td>S</td>\n",
       "      <td>Third</td>\n",
       "      <td>child</td>\n",
       "      <td>False</td>\n",
       "      <td>NaN</td>\n",
       "      <td>Southampton</td>\n",
       "      <td>no</td>\n",
       "      <td>False</td>\n",
       "    </tr>\n",
       "    <tr>\n",
       "      <th>8</th>\n",
       "      <td>1</td>\n",
       "      <td>3</td>\n",
       "      <td>female</td>\n",
       "      <td>27.0</td>\n",
       "      <td>0</td>\n",
       "      <td>2</td>\n",
       "      <td>11.1333</td>\n",
       "      <td>S</td>\n",
       "      <td>Third</td>\n",
       "      <td>woman</td>\n",
       "      <td>False</td>\n",
       "      <td>NaN</td>\n",
       "      <td>Southampton</td>\n",
       "      <td>yes</td>\n",
       "      <td>False</td>\n",
       "    </tr>\n",
       "    <tr>\n",
       "      <th>9</th>\n",
       "      <td>1</td>\n",
       "      <td>2</td>\n",
       "      <td>female</td>\n",
       "      <td>14.0</td>\n",
       "      <td>1</td>\n",
       "      <td>0</td>\n",
       "      <td>30.0708</td>\n",
       "      <td>C</td>\n",
       "      <td>Second</td>\n",
       "      <td>child</td>\n",
       "      <td>False</td>\n",
       "      <td>NaN</td>\n",
       "      <td>Cherbourg</td>\n",
       "      <td>yes</td>\n",
       "      <td>False</td>\n",
       "    </tr>\n",
       "  </tbody>\n",
       "</table>\n",
       "</div>"
      ],
      "text/plain": [
       "   survived  pclass     sex   age  sibsp  parch     fare embarked   class  \\\n",
       "0         0       3    male  22.0      1      0   7.2500        S   Third   \n",
       "1         1       1  female  38.0      1      0  71.2833        C   First   \n",
       "2         1       3  female  26.0      0      0   7.9250        S   Third   \n",
       "3         1       1  female  35.0      1      0  53.1000        S   First   \n",
       "4         0       3    male  35.0      0      0   8.0500        S   Third   \n",
       "5         0       3    male   NaN      0      0   8.4583        Q   Third   \n",
       "6         0       1    male  54.0      0      0  51.8625        S   First   \n",
       "7         0       3    male   2.0      3      1  21.0750        S   Third   \n",
       "8         1       3  female  27.0      0      2  11.1333        S   Third   \n",
       "9         1       2  female  14.0      1      0  30.0708        C  Second   \n",
       "\n",
       "     who  adult_male deck  embark_town alive  alone  \n",
       "0    man        True  NaN  Southampton    no  False  \n",
       "1  woman       False    C    Cherbourg   yes  False  \n",
       "2  woman       False  NaN  Southampton   yes   True  \n",
       "3  woman       False    C  Southampton   yes  False  \n",
       "4    man        True  NaN  Southampton    no   True  \n",
       "5    man        True  NaN   Queenstown    no   True  \n",
       "6    man        True    E  Southampton    no   True  \n",
       "7  child       False  NaN  Southampton    no  False  \n",
       "8  woman       False  NaN  Southampton   yes  False  \n",
       "9  child       False  NaN    Cherbourg   yes  False  "
      ]
     },
     "execution_count": 18,
     "metadata": {},
     "output_type": "execute_result"
    }
   ],
   "source": [
    "df"
   ]
  },
  {
   "cell_type": "code",
   "execution_count": 19,
   "id": "91834420",
   "metadata": {},
   "outputs": [],
   "source": [
    "mean_prince=df.groupby('class')['fare'].mean().to_dict()"
   ]
  },
  {
   "cell_type": "code",
   "execution_count": 20,
   "id": "ffa4acbb",
   "metadata": {},
   "outputs": [
    {
     "data": {
      "text/plain": [
       "{'First': 58.7486, 'Second': 30.0708, 'Third': 10.6486}"
      ]
     },
     "execution_count": 20,
     "metadata": {},
     "output_type": "execute_result"
    }
   ],
   "source": [
    "mean_prince"
   ]
  },
  {
   "cell_type": "code",
   "execution_count": 21,
   "id": "907804c0",
   "metadata": {},
   "outputs": [],
   "source": [
    "df['class_encoder']=df['class'].map(mean_prince)"
   ]
  },
  {
   "cell_type": "code",
   "execution_count": 22,
   "id": "35051264",
   "metadata": {},
   "outputs": [
    {
     "data": {
      "text/html": [
       "<div>\n",
       "<style scoped>\n",
       "    .dataframe tbody tr th:only-of-type {\n",
       "        vertical-align: middle;\n",
       "    }\n",
       "\n",
       "    .dataframe tbody tr th {\n",
       "        vertical-align: top;\n",
       "    }\n",
       "\n",
       "    .dataframe thead th {\n",
       "        text-align: right;\n",
       "    }\n",
       "</style>\n",
       "<table border=\"1\" class=\"dataframe\">\n",
       "  <thead>\n",
       "    <tr style=\"text-align: right;\">\n",
       "      <th></th>\n",
       "      <th>survived</th>\n",
       "      <th>pclass</th>\n",
       "      <th>sex</th>\n",
       "      <th>age</th>\n",
       "      <th>sibsp</th>\n",
       "      <th>parch</th>\n",
       "      <th>fare</th>\n",
       "      <th>embarked</th>\n",
       "      <th>class</th>\n",
       "      <th>who</th>\n",
       "      <th>adult_male</th>\n",
       "      <th>deck</th>\n",
       "      <th>embark_town</th>\n",
       "      <th>alive</th>\n",
       "      <th>alone</th>\n",
       "      <th>class_encoder</th>\n",
       "    </tr>\n",
       "  </thead>\n",
       "  <tbody>\n",
       "    <tr>\n",
       "      <th>0</th>\n",
       "      <td>0</td>\n",
       "      <td>3</td>\n",
       "      <td>male</td>\n",
       "      <td>22.0</td>\n",
       "      <td>1</td>\n",
       "      <td>0</td>\n",
       "      <td>7.2500</td>\n",
       "      <td>S</td>\n",
       "      <td>Third</td>\n",
       "      <td>man</td>\n",
       "      <td>True</td>\n",
       "      <td>NaN</td>\n",
       "      <td>Southampton</td>\n",
       "      <td>no</td>\n",
       "      <td>False</td>\n",
       "      <td>10.6486</td>\n",
       "    </tr>\n",
       "    <tr>\n",
       "      <th>1</th>\n",
       "      <td>1</td>\n",
       "      <td>1</td>\n",
       "      <td>female</td>\n",
       "      <td>38.0</td>\n",
       "      <td>1</td>\n",
       "      <td>0</td>\n",
       "      <td>71.2833</td>\n",
       "      <td>C</td>\n",
       "      <td>First</td>\n",
       "      <td>woman</td>\n",
       "      <td>False</td>\n",
       "      <td>C</td>\n",
       "      <td>Cherbourg</td>\n",
       "      <td>yes</td>\n",
       "      <td>False</td>\n",
       "      <td>58.7486</td>\n",
       "    </tr>\n",
       "    <tr>\n",
       "      <th>2</th>\n",
       "      <td>1</td>\n",
       "      <td>3</td>\n",
       "      <td>female</td>\n",
       "      <td>26.0</td>\n",
       "      <td>0</td>\n",
       "      <td>0</td>\n",
       "      <td>7.9250</td>\n",
       "      <td>S</td>\n",
       "      <td>Third</td>\n",
       "      <td>woman</td>\n",
       "      <td>False</td>\n",
       "      <td>NaN</td>\n",
       "      <td>Southampton</td>\n",
       "      <td>yes</td>\n",
       "      <td>True</td>\n",
       "      <td>10.6486</td>\n",
       "    </tr>\n",
       "    <tr>\n",
       "      <th>3</th>\n",
       "      <td>1</td>\n",
       "      <td>1</td>\n",
       "      <td>female</td>\n",
       "      <td>35.0</td>\n",
       "      <td>1</td>\n",
       "      <td>0</td>\n",
       "      <td>53.1000</td>\n",
       "      <td>S</td>\n",
       "      <td>First</td>\n",
       "      <td>woman</td>\n",
       "      <td>False</td>\n",
       "      <td>C</td>\n",
       "      <td>Southampton</td>\n",
       "      <td>yes</td>\n",
       "      <td>False</td>\n",
       "      <td>58.7486</td>\n",
       "    </tr>\n",
       "    <tr>\n",
       "      <th>4</th>\n",
       "      <td>0</td>\n",
       "      <td>3</td>\n",
       "      <td>male</td>\n",
       "      <td>35.0</td>\n",
       "      <td>0</td>\n",
       "      <td>0</td>\n",
       "      <td>8.0500</td>\n",
       "      <td>S</td>\n",
       "      <td>Third</td>\n",
       "      <td>man</td>\n",
       "      <td>True</td>\n",
       "      <td>NaN</td>\n",
       "      <td>Southampton</td>\n",
       "      <td>no</td>\n",
       "      <td>True</td>\n",
       "      <td>10.6486</td>\n",
       "    </tr>\n",
       "    <tr>\n",
       "      <th>5</th>\n",
       "      <td>0</td>\n",
       "      <td>3</td>\n",
       "      <td>male</td>\n",
       "      <td>NaN</td>\n",
       "      <td>0</td>\n",
       "      <td>0</td>\n",
       "      <td>8.4583</td>\n",
       "      <td>Q</td>\n",
       "      <td>Third</td>\n",
       "      <td>man</td>\n",
       "      <td>True</td>\n",
       "      <td>NaN</td>\n",
       "      <td>Queenstown</td>\n",
       "      <td>no</td>\n",
       "      <td>True</td>\n",
       "      <td>10.6486</td>\n",
       "    </tr>\n",
       "    <tr>\n",
       "      <th>6</th>\n",
       "      <td>0</td>\n",
       "      <td>1</td>\n",
       "      <td>male</td>\n",
       "      <td>54.0</td>\n",
       "      <td>0</td>\n",
       "      <td>0</td>\n",
       "      <td>51.8625</td>\n",
       "      <td>S</td>\n",
       "      <td>First</td>\n",
       "      <td>man</td>\n",
       "      <td>True</td>\n",
       "      <td>E</td>\n",
       "      <td>Southampton</td>\n",
       "      <td>no</td>\n",
       "      <td>True</td>\n",
       "      <td>58.7486</td>\n",
       "    </tr>\n",
       "    <tr>\n",
       "      <th>7</th>\n",
       "      <td>0</td>\n",
       "      <td>3</td>\n",
       "      <td>male</td>\n",
       "      <td>2.0</td>\n",
       "      <td>3</td>\n",
       "      <td>1</td>\n",
       "      <td>21.0750</td>\n",
       "      <td>S</td>\n",
       "      <td>Third</td>\n",
       "      <td>child</td>\n",
       "      <td>False</td>\n",
       "      <td>NaN</td>\n",
       "      <td>Southampton</td>\n",
       "      <td>no</td>\n",
       "      <td>False</td>\n",
       "      <td>10.6486</td>\n",
       "    </tr>\n",
       "    <tr>\n",
       "      <th>8</th>\n",
       "      <td>1</td>\n",
       "      <td>3</td>\n",
       "      <td>female</td>\n",
       "      <td>27.0</td>\n",
       "      <td>0</td>\n",
       "      <td>2</td>\n",
       "      <td>11.1333</td>\n",
       "      <td>S</td>\n",
       "      <td>Third</td>\n",
       "      <td>woman</td>\n",
       "      <td>False</td>\n",
       "      <td>NaN</td>\n",
       "      <td>Southampton</td>\n",
       "      <td>yes</td>\n",
       "      <td>False</td>\n",
       "      <td>10.6486</td>\n",
       "    </tr>\n",
       "    <tr>\n",
       "      <th>9</th>\n",
       "      <td>1</td>\n",
       "      <td>2</td>\n",
       "      <td>female</td>\n",
       "      <td>14.0</td>\n",
       "      <td>1</td>\n",
       "      <td>0</td>\n",
       "      <td>30.0708</td>\n",
       "      <td>C</td>\n",
       "      <td>Second</td>\n",
       "      <td>child</td>\n",
       "      <td>False</td>\n",
       "      <td>NaN</td>\n",
       "      <td>Cherbourg</td>\n",
       "      <td>yes</td>\n",
       "      <td>False</td>\n",
       "      <td>30.0708</td>\n",
       "    </tr>\n",
       "  </tbody>\n",
       "</table>\n",
       "</div>"
      ],
      "text/plain": [
       "   survived  pclass     sex   age  sibsp  parch     fare embarked   class  \\\n",
       "0         0       3    male  22.0      1      0   7.2500        S   Third   \n",
       "1         1       1  female  38.0      1      0  71.2833        C   First   \n",
       "2         1       3  female  26.0      0      0   7.9250        S   Third   \n",
       "3         1       1  female  35.0      1      0  53.1000        S   First   \n",
       "4         0       3    male  35.0      0      0   8.0500        S   Third   \n",
       "5         0       3    male   NaN      0      0   8.4583        Q   Third   \n",
       "6         0       1    male  54.0      0      0  51.8625        S   First   \n",
       "7         0       3    male   2.0      3      1  21.0750        S   Third   \n",
       "8         1       3  female  27.0      0      2  11.1333        S   Third   \n",
       "9         1       2  female  14.0      1      0  30.0708        C  Second   \n",
       "\n",
       "     who  adult_male deck  embark_town alive  alone class_encoder  \n",
       "0    man        True  NaN  Southampton    no  False       10.6486  \n",
       "1  woman       False    C    Cherbourg   yes  False       58.7486  \n",
       "2  woman       False  NaN  Southampton   yes   True       10.6486  \n",
       "3  woman       False    C  Southampton   yes  False       58.7486  \n",
       "4    man        True  NaN  Southampton    no   True       10.6486  \n",
       "5    man        True  NaN   Queenstown    no   True       10.6486  \n",
       "6    man        True    E  Southampton    no   True       58.7486  \n",
       "7  child       False  NaN  Southampton    no  False       10.6486  \n",
       "8  woman       False  NaN  Southampton   yes  False       10.6486  \n",
       "9  child       False  NaN    Cherbourg   yes  False       30.0708  "
      ]
     },
     "execution_count": 22,
     "metadata": {},
     "output_type": "execute_result"
    }
   ],
   "source": [
    "df"
   ]
  },
  {
   "cell_type": "raw",
   "id": "da7c4700",
   "metadata": {},
   "source": [
    "Covariance and Correlation With Python"
   ]
  },
  {
   "cell_type": "code",
   "execution_count": 1,
   "id": "0166385d",
   "metadata": {},
   "outputs": [],
   "source": [
    "import scipy.stats as st\n",
    "import pylab\n",
    "import numpy as np\n",
    "import seaborn as sns\n",
    "import matplotlib.pyplot as plt\n",
    "import pandas as pd\n",
    "#loading the dataset\n"
   ]
  },
  {
   "cell_type": "code",
   "execution_count": 2,
   "id": "0f77ca4b",
   "metadata": {},
   "outputs": [],
   "source": [
    "df=sns.load_dataset('healthexp')"
   ]
  },
  {
   "cell_type": "code",
   "execution_count": 3,
   "id": "ef65cfad",
   "metadata": {},
   "outputs": [
    {
     "data": {
      "text/html": [
       "<div>\n",
       "<style scoped>\n",
       "    .dataframe tbody tr th:only-of-type {\n",
       "        vertical-align: middle;\n",
       "    }\n",
       "\n",
       "    .dataframe tbody tr th {\n",
       "        vertical-align: top;\n",
       "    }\n",
       "\n",
       "    .dataframe thead th {\n",
       "        text-align: right;\n",
       "    }\n",
       "</style>\n",
       "<table border=\"1\" class=\"dataframe\">\n",
       "  <thead>\n",
       "    <tr style=\"text-align: right;\">\n",
       "      <th></th>\n",
       "      <th>Year</th>\n",
       "      <th>Country</th>\n",
       "      <th>Spending_USD</th>\n",
       "      <th>Life_Expectancy</th>\n",
       "    </tr>\n",
       "  </thead>\n",
       "  <tbody>\n",
       "    <tr>\n",
       "      <th>0</th>\n",
       "      <td>1970</td>\n",
       "      <td>Germany</td>\n",
       "      <td>252.311</td>\n",
       "      <td>70.6</td>\n",
       "    </tr>\n",
       "    <tr>\n",
       "      <th>1</th>\n",
       "      <td>1970</td>\n",
       "      <td>France</td>\n",
       "      <td>192.143</td>\n",
       "      <td>72.2</td>\n",
       "    </tr>\n",
       "    <tr>\n",
       "      <th>2</th>\n",
       "      <td>1970</td>\n",
       "      <td>Great Britain</td>\n",
       "      <td>123.993</td>\n",
       "      <td>71.9</td>\n",
       "    </tr>\n",
       "    <tr>\n",
       "      <th>3</th>\n",
       "      <td>1970</td>\n",
       "      <td>Japan</td>\n",
       "      <td>150.437</td>\n",
       "      <td>72.0</td>\n",
       "    </tr>\n",
       "    <tr>\n",
       "      <th>4</th>\n",
       "      <td>1970</td>\n",
       "      <td>USA</td>\n",
       "      <td>326.961</td>\n",
       "      <td>70.9</td>\n",
       "    </tr>\n",
       "    <tr>\n",
       "      <th>...</th>\n",
       "      <td>...</td>\n",
       "      <td>...</td>\n",
       "      <td>...</td>\n",
       "      <td>...</td>\n",
       "    </tr>\n",
       "    <tr>\n",
       "      <th>269</th>\n",
       "      <td>2020</td>\n",
       "      <td>Germany</td>\n",
       "      <td>6938.983</td>\n",
       "      <td>81.1</td>\n",
       "    </tr>\n",
       "    <tr>\n",
       "      <th>270</th>\n",
       "      <td>2020</td>\n",
       "      <td>France</td>\n",
       "      <td>5468.418</td>\n",
       "      <td>82.3</td>\n",
       "    </tr>\n",
       "    <tr>\n",
       "      <th>271</th>\n",
       "      <td>2020</td>\n",
       "      <td>Great Britain</td>\n",
       "      <td>5018.700</td>\n",
       "      <td>80.4</td>\n",
       "    </tr>\n",
       "    <tr>\n",
       "      <th>272</th>\n",
       "      <td>2020</td>\n",
       "      <td>Japan</td>\n",
       "      <td>4665.641</td>\n",
       "      <td>84.7</td>\n",
       "    </tr>\n",
       "    <tr>\n",
       "      <th>273</th>\n",
       "      <td>2020</td>\n",
       "      <td>USA</td>\n",
       "      <td>11859.179</td>\n",
       "      <td>77.0</td>\n",
       "    </tr>\n",
       "  </tbody>\n",
       "</table>\n",
       "<p>274 rows × 4 columns</p>\n",
       "</div>"
      ],
      "text/plain": [
       "     Year        Country  Spending_USD  Life_Expectancy\n",
       "0    1970        Germany       252.311             70.6\n",
       "1    1970         France       192.143             72.2\n",
       "2    1970  Great Britain       123.993             71.9\n",
       "3    1970          Japan       150.437             72.0\n",
       "4    1970            USA       326.961             70.9\n",
       "..    ...            ...           ...              ...\n",
       "269  2020        Germany      6938.983             81.1\n",
       "270  2020         France      5468.418             82.3\n",
       "271  2020  Great Britain      5018.700             80.4\n",
       "272  2020          Japan      4665.641             84.7\n",
       "273  2020            USA     11859.179             77.0\n",
       "\n",
       "[274 rows x 4 columns]"
      ]
     },
     "execution_count": 3,
     "metadata": {},
     "output_type": "execute_result"
    }
   ],
   "source": [
    "df"
   ]
  },
  {
   "cell_type": "code",
   "execution_count": 6,
   "id": "6feb31ca",
   "metadata": {},
   "outputs": [
    {
     "name": "stderr",
     "output_type": "stream",
     "text": [
      "/var/folders/qh/c2j5shzd5f15l8q58y7grlwm0000gr/T/ipykernel_50678/3683814866.py:2: FutureWarning: The default value of numeric_only in DataFrame.cov is deprecated. In a future version, it will default to False. Select only valid columns or specify the value of numeric_only to silence this warning.\n",
      "  df.cov()\n"
     ]
    },
    {
     "data": {
      "text/html": [
       "<div>\n",
       "<style scoped>\n",
       "    .dataframe tbody tr th:only-of-type {\n",
       "        vertical-align: middle;\n",
       "    }\n",
       "\n",
       "    .dataframe tbody tr th {\n",
       "        vertical-align: top;\n",
       "    }\n",
       "\n",
       "    .dataframe thead th {\n",
       "        text-align: right;\n",
       "    }\n",
       "</style>\n",
       "<table border=\"1\" class=\"dataframe\">\n",
       "  <thead>\n",
       "    <tr style=\"text-align: right;\">\n",
       "      <th></th>\n",
       "      <th>Year</th>\n",
       "      <th>Spending_USD</th>\n",
       "      <th>Life_Expectancy</th>\n",
       "    </tr>\n",
       "  </thead>\n",
       "  <tbody>\n",
       "    <tr>\n",
       "      <th>Year</th>\n",
       "      <td>201.098848</td>\n",
       "      <td>2.571883e+04</td>\n",
       "      <td>41.915454</td>\n",
       "    </tr>\n",
       "    <tr>\n",
       "      <th>Spending_USD</th>\n",
       "      <td>25718.827373</td>\n",
       "      <td>4.817761e+06</td>\n",
       "      <td>4166.800912</td>\n",
       "    </tr>\n",
       "    <tr>\n",
       "      <th>Life_Expectancy</th>\n",
       "      <td>41.915454</td>\n",
       "      <td>4.166801e+03</td>\n",
       "      <td>10.733902</td>\n",
       "    </tr>\n",
       "  </tbody>\n",
       "</table>\n",
       "</div>"
      ],
      "text/plain": [
       "                         Year  Spending_USD  Life_Expectancy\n",
       "Year               201.098848  2.571883e+04        41.915454\n",
       "Spending_USD     25718.827373  4.817761e+06      4166.800912\n",
       "Life_Expectancy     41.915454  4.166801e+03        10.733902"
      ]
     },
     "execution_count": 6,
     "metadata": {},
     "output_type": "execute_result"
    }
   ],
   "source": [
    "##Covarience\n",
    "df.cov()"
   ]
  },
  {
   "cell_type": "code",
   "execution_count": 8,
   "id": "5548fbf3",
   "metadata": {},
   "outputs": [
    {
     "name": "stderr",
     "output_type": "stream",
     "text": [
      "/var/folders/qh/c2j5shzd5f15l8q58y7grlwm0000gr/T/ipykernel_50678/705147099.py:2: FutureWarning: The default value of numeric_only in DataFrame.corr is deprecated. In a future version, it will default to False. Select only valid columns or specify the value of numeric_only to silence this warning.\n",
      "  df.corr(method='spearman')\n"
     ]
    },
    {
     "data": {
      "text/html": [
       "<div>\n",
       "<style scoped>\n",
       "    .dataframe tbody tr th:only-of-type {\n",
       "        vertical-align: middle;\n",
       "    }\n",
       "\n",
       "    .dataframe tbody tr th {\n",
       "        vertical-align: top;\n",
       "    }\n",
       "\n",
       "    .dataframe thead th {\n",
       "        text-align: right;\n",
       "    }\n",
       "</style>\n",
       "<table border=\"1\" class=\"dataframe\">\n",
       "  <thead>\n",
       "    <tr style=\"text-align: right;\">\n",
       "      <th></th>\n",
       "      <th>Year</th>\n",
       "      <th>Spending_USD</th>\n",
       "      <th>Life_Expectancy</th>\n",
       "    </tr>\n",
       "  </thead>\n",
       "  <tbody>\n",
       "    <tr>\n",
       "      <th>Year</th>\n",
       "      <td>1.000000</td>\n",
       "      <td>0.931598</td>\n",
       "      <td>0.896117</td>\n",
       "    </tr>\n",
       "    <tr>\n",
       "      <th>Spending_USD</th>\n",
       "      <td>0.931598</td>\n",
       "      <td>1.000000</td>\n",
       "      <td>0.747407</td>\n",
       "    </tr>\n",
       "    <tr>\n",
       "      <th>Life_Expectancy</th>\n",
       "      <td>0.896117</td>\n",
       "      <td>0.747407</td>\n",
       "      <td>1.000000</td>\n",
       "    </tr>\n",
       "  </tbody>\n",
       "</table>\n",
       "</div>"
      ],
      "text/plain": [
       "                     Year  Spending_USD  Life_Expectancy\n",
       "Year             1.000000      0.931598         0.896117\n",
       "Spending_USD     0.931598      1.000000         0.747407\n",
       "Life_Expectancy  0.896117      0.747407         1.000000"
      ]
     },
     "execution_count": 8,
     "metadata": {},
     "output_type": "execute_result"
    }
   ],
   "source": [
    "##Spearman corelation\n",
    "df.corr(method='spearman')"
   ]
  },
  {
   "cell_type": "code",
   "execution_count": 9,
   "id": "77ffa0d5",
   "metadata": {},
   "outputs": [
    {
     "name": "stderr",
     "output_type": "stream",
     "text": [
      "/var/folders/qh/c2j5shzd5f15l8q58y7grlwm0000gr/T/ipykernel_50678/1640111654.py:2: FutureWarning: The default value of numeric_only in DataFrame.corr is deprecated. In a future version, it will default to False. Select only valid columns or specify the value of numeric_only to silence this warning.\n",
      "  df.corr(method='pearson')\n"
     ]
    },
    {
     "data": {
      "text/html": [
       "<div>\n",
       "<style scoped>\n",
       "    .dataframe tbody tr th:only-of-type {\n",
       "        vertical-align: middle;\n",
       "    }\n",
       "\n",
       "    .dataframe tbody tr th {\n",
       "        vertical-align: top;\n",
       "    }\n",
       "\n",
       "    .dataframe thead th {\n",
       "        text-align: right;\n",
       "    }\n",
       "</style>\n",
       "<table border=\"1\" class=\"dataframe\">\n",
       "  <thead>\n",
       "    <tr style=\"text-align: right;\">\n",
       "      <th></th>\n",
       "      <th>Year</th>\n",
       "      <th>Spending_USD</th>\n",
       "      <th>Life_Expectancy</th>\n",
       "    </tr>\n",
       "  </thead>\n",
       "  <tbody>\n",
       "    <tr>\n",
       "      <th>Year</th>\n",
       "      <td>1.000000</td>\n",
       "      <td>0.826273</td>\n",
       "      <td>0.902175</td>\n",
       "    </tr>\n",
       "    <tr>\n",
       "      <th>Spending_USD</th>\n",
       "      <td>0.826273</td>\n",
       "      <td>1.000000</td>\n",
       "      <td>0.579430</td>\n",
       "    </tr>\n",
       "    <tr>\n",
       "      <th>Life_Expectancy</th>\n",
       "      <td>0.902175</td>\n",
       "      <td>0.579430</td>\n",
       "      <td>1.000000</td>\n",
       "    </tr>\n",
       "  </tbody>\n",
       "</table>\n",
       "</div>"
      ],
      "text/plain": [
       "                     Year  Spending_USD  Life_Expectancy\n",
       "Year             1.000000      0.826273         0.902175\n",
       "Spending_USD     0.826273      1.000000         0.579430\n",
       "Life_Expectancy  0.902175      0.579430         1.000000"
      ]
     },
     "execution_count": 9,
     "metadata": {},
     "output_type": "execute_result"
    }
   ],
   "source": [
    "##Pearson corelation\n",
    "df.corr(method='pearson')"
   ]
  },
  {
   "cell_type": "code",
   "execution_count": null,
   "id": "f97da839",
   "metadata": {},
   "outputs": [],
   "source": [
    "<script src=\"https://gist.github.com/anubhavshrimal/4aeb195a743d0cdd1c3806c9c222ed45.js\"></script>"
   ]
  }
 ],
 "metadata": {
  "kernelspec": {
   "display_name": "Python 3 (ipykernel)",
   "language": "python",
   "name": "python3"
  },
  "language_info": {
   "codemirror_mode": {
    "name": "ipython",
    "version": 3
   },
   "file_extension": ".py",
   "mimetype": "text/x-python",
   "name": "python",
   "nbconvert_exporter": "python",
   "pygments_lexer": "ipython3",
   "version": "3.10.9"
  }
 },
 "nbformat": 4,
 "nbformat_minor": 5
}
