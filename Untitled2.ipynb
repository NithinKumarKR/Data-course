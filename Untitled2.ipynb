{
 "cells": [
  {
   "cell_type": "markdown",
   "id": "70cc13fe",
   "metadata": {},
   "source": [
    "# Credit Profile (Two-wheeler loan) Dataset"
   ]
  },
  {
   "cell_type": "markdown",
   "id": "b253141b",
   "metadata": {},
   "source": [
    "# Data Information"
   ]
  },
  {
   "cell_type": "markdown",
   "id": "8e7a9046",
   "metadata": {},
   "source": [
    "This dataset provides a comprehensive overview of potential loan applicants' profiles, specifically tailored for the Indian demographic. It encapsulates a range of features, from basic demographics to financial details, that can be instrumental in assessing the creditworthiness of an individual.\n",
    "\n",
    "Age:\n",
    "Type: Integer\n",
    "Description: Represents the age of the applicant. Indicates the applicant's maturity level.\n",
    "Range: 18 to 70\n",
    "\n",
    "Gender:\n",
    "Type: Categorical\n",
    "Description: Gender of the applicant.\n",
    "Categories: Male, Female, Other\n",
    "\n",
    "Income:\n",
    "Type: Integer\n",
    "Description: The applicant's income, which is critical in assessing their ability to repay the loan.\n",
    "Range: Multiples of 1000's\n",
    "\n",
    "Credit Score:\n",
    "Type: Integer\n",
    "Description: A score quantifying the applicant's creditworthiness based on their credit history.\n",
    "Range: 300 to 850\n",
    "\n",
    "Credit History Length:\n",
    "Type: Integer\n",
    "Description: Represents the number of months since the applicant's first credit line. Indicates the applicant's experience with credit management.\n",
    "Units: Months\n",
    "\n",
    "Number of Existing Loans:\n",
    "Type: Integer\n",
    "Description: The number of loans the applicant currently has.\n",
    "Range: 0 to 10\n",
    "\n",
    "Loan Amount:\n",
    "Type: Integer\n",
    "Description: The amount of money the applicant is requesting.\n",
    "Range: 0 to 150,000\n",
    "\n",
    "Loan Tenure:\n",
    "Type: Integer\n",
    "Description: The number of months the applicant wants to repay the loan over.\n",
    "Units: Months\n",
    "\n",
    "Existing Customer:\n",
    "Type: Categorical\n",
    "Description: Whether the applicant is an existing customer of the finance company.\n",
    "Categories: Yes, No\n",
    "\n",
    "State:\n",
    "Type: Categorical\n",
    "Description: The state in India where the applicant resides.\n",
    "Categories: Maharashtra, Delhi, Karnataka, Tamil Nadu, West Bengal, Uttar Pradesh, Gujarat, Rajasthan, Kerala, Telangana, etc.\n",
    "\n",
    "City:\n",
    "Type: Categorical\n",
    "Description: The city or village in India where the applicant resides.\n",
    "Categories: Mumbai, Pune, New Delhi, Bengaluru, Chennai, Kolkata, Ahmedabad, Jaipur, Kochi, Hyderabad, and various villages.\n",
    "\n",
    "LTV Ratio:\n",
    "Type: Float\n",
    "Description: The loan-to-value ratio, represents the ratio of the loan amount to the appraised value of the asset (typically a house). Higher LTVs can indicate higher risk.\n",
    "Range: 40% to 95%\n",
    "\n",
    "Employment Profile:\n",
    "Type: Categorical\n",
    "Description: General employment category of the applicant.\n",
    "Categories: Salaried, Self-Employed, Freelancer, Unemployed, Student\n",
    "\n",
    "Occupation:\n",
    "Type: Categorical\n",
    "Description: Specific occupation or job title of the applicant.\n",
    "Categories: Software Engineer, Doctor, Teacher, Business Owner, Writer, etc.\n",
    "\n",
    "Profile Score:\n",
    "Type: Integer\n",
    "Description: A score ranging from 0 to 100 represents the overall profile of the applicant based on the actual loan repayment data. Higher values indicate better profiles.\n",
    "Range: 0 to 100"
   ]
  },
  {
   "cell_type": "code",
   "execution_count": 1,
   "id": "3e066143",
   "metadata": {},
   "outputs": [
    {
     "name": "stdout",
     "output_type": "stream",
     "text": [
      "CPU times: user 1 µs, sys: 1 µs, total: 2 µs\n",
      "Wall time: 3.1 µs\n"
     ]
    },
    {
     "name": "stderr",
     "output_type": "stream",
     "text": [
      "Setting default log level to \"WARN\".\n",
      "To adjust logging level use sc.setLogLevel(newLevel). For SparkR, use setLogLevel(newLevel).\n",
      "23/10/04 10:04:46 WARN NativeCodeLoader: Unable to load native-hadoop library for your platform... using builtin-java classes where applicable\n"
     ]
    }
   ],
   "source": [
    "%time\n",
    "import scipy.stats as st\n",
    "import pylab\n",
    "import numpy as np\n",
    "import seaborn as sns\n",
    "import matplotlib.pyplot as plt\n",
    "import pandas as pd\n",
    "#loading the dataset\n",
    "\n",
    "from pyspark.sql import SparkSession\n",
    "from pyspark.sql.types import StructType, StructField, StringType\n",
    "spark = SparkSession.builder \\\n",
    "    .appName(\"MySparkApp\") \\\n",
    "    .getOrCreate()\n",
    "import warnings\n",
    "\n",
    "with warnings.catch_warnings():\n",
    "    warnings.simplefilter(\"ignore\")\n",
    "    \n",
    "from pyspark.ml.feature import QuantileDiscretizer\n",
    "from pyspark.sql.functions import col, lit, concat_ws\n",
    "from pyspark.sql.functions import when ,concat,lit , round, mean ,median\n",
    "from pyspark.sql import functions as F"
   ]
  },
  {
   "cell_type": "code",
   "execution_count": 2,
   "id": "8d43a1aa",
   "metadata": {},
   "outputs": [
    {
     "name": "stderr",
     "output_type": "stream",
     "text": [
      "                                                                                \r"
     ]
    }
   ],
   "source": [
    "df=spark.read.csv(\"credit_data.csv\",header=True,inferSchema=True)"
   ]
  },
  {
   "cell_type": "markdown",
   "id": "fc2339f5",
   "metadata": {},
   "source": [
    "# Data Preprocessing"
   ]
  },
  {
   "cell_type": "code",
   "execution_count": 3,
   "id": "76110944",
   "metadata": {},
   "outputs": [
    {
     "name": "stdout",
     "output_type": "stream",
     "text": [
      "Remaining columns: 15\n",
      "Number of rows: 279856\n"
     ]
    }
   ],
   "source": [
    "#checking the shape of the dataset\n",
    "print(\"Remaining columns:\", len(df.columns))\n",
    "print(\"Number of rows:\", df.count())"
   ]
  },
  {
   "cell_type": "code",
   "execution_count": 4,
   "id": "ac950503",
   "metadata": {},
   "outputs": [
    {
     "data": {
      "text/plain": [
       "['Age',\n",
       " 'Gender',\n",
       " 'Income',\n",
       " 'Credit Score',\n",
       " 'Credit History Length',\n",
       " 'Number of Existing Loans',\n",
       " 'Loan Amount',\n",
       " 'Loan Tenure',\n",
       " 'Existing Customer',\n",
       " 'State',\n",
       " 'City',\n",
       " 'LTV Ratio',\n",
       " 'Employment Profile',\n",
       " 'Profile Score',\n",
       " 'Occupation']"
      ]
     },
     "execution_count": 4,
     "metadata": {},
     "output_type": "execute_result"
    }
   ],
   "source": [
    "#checking the columns of the dataset\n",
    "\n",
    "df.columns"
   ]
  },
  {
   "cell_type": "code",
   "execution_count": 5,
   "id": "9e9f983b",
   "metadata": {},
   "outputs": [
    {
     "name": "stdout",
     "output_type": "stream",
     "text": [
      "Column : 'Age' has 0 null values.\n",
      "Column : 'Gender' has 0 null values.\n",
      "Column : 'Income' has 0 null values.\n",
      "Column : 'Credit Score' has 0 null values.\n",
      "Column : 'Credit History Length' has 0 null values.\n",
      "Column : 'Number of Existing Loans' has 0 null values.\n",
      "Column : 'Loan Amount' has 0 null values.\n",
      "Column : 'Loan Tenure' has 0 null values.\n",
      "Column : 'Existing Customer' has 0 null values.\n",
      "Column : 'State' has 0 null values.\n",
      "Column : 'City' has 0 null values.\n",
      "Column : 'LTV Ratio' has 0 null values.\n",
      "Column : 'Employment Profile' has 0 null values.\n",
      "Column : 'Profile Score' has 0 null values.\n",
      "Column : 'Occupation' has 0 null values.\n"
     ]
    }
   ],
   "source": [
    "#null values count\n",
    "from pyspark.sql.functions import col\n",
    "\n",
    "# Assuming df is your DataFrame\n",
    "null_counts = []\n",
    "\n",
    "# Iterate over all columns in the DataFrame\n",
    "for col_name in df.columns:\n",
    "    # Count the number of null values for each column\n",
    "    null_count = df.where(col(col_name).isNull()).count()\n",
    "    # Append the result to the list\n",
    "    null_counts.append((col_name, null_count))\n",
    "\n",
    "# Display the null counts for each column\n",
    "for col_name, count in null_counts:\n",
    "    print(f\"Column : '{col_name}' has {count} null values.\")\n"
   ]
  },
  {
   "cell_type": "code",
   "execution_count": 6,
   "id": "941ec842",
   "metadata": {},
   "outputs": [
    {
     "name": "stdout",
     "output_type": "stream",
     "text": [
      "root\n",
      " |-- Age: integer (nullable = true)\n",
      " |-- Gender: string (nullable = true)\n",
      " |-- Income: integer (nullable = true)\n",
      " |-- Credit Score: integer (nullable = true)\n",
      " |-- Credit History Length: integer (nullable = true)\n",
      " |-- Number of Existing Loans: integer (nullable = true)\n",
      " |-- Loan Amount: integer (nullable = true)\n",
      " |-- Loan Tenure: integer (nullable = true)\n",
      " |-- Existing Customer: string (nullable = true)\n",
      " |-- State: string (nullable = true)\n",
      " |-- City: string (nullable = true)\n",
      " |-- LTV Ratio: double (nullable = true)\n",
      " |-- Employment Profile: string (nullable = true)\n",
      " |-- Profile Score: integer (nullable = true)\n",
      " |-- Occupation: string (nullable = true)\n",
      "\n"
     ]
    }
   ],
   "source": [
    "#column data types\n",
    "df.printSchema()"
   ]
  },
  {
   "cell_type": "code",
   "execution_count": 7,
   "id": "5f2272de",
   "metadata": {},
   "outputs": [
    {
     "name": "stdout",
     "output_type": "stream",
     "text": [
      "Remaining columns: 15\n"
     ]
    },
    {
     "name": "stderr",
     "output_type": "stream",
     "text": [
      "\r",
      "[Stage 50:>                                                         (0 + 7) / 7]\r"
     ]
    },
    {
     "name": "stdout",
     "output_type": "stream",
     "text": [
      "Number of rows: 179042\n"
     ]
    },
    {
     "name": "stderr",
     "output_type": "stream",
     "text": [
      "\r",
      "                                                                                \r"
     ]
    }
   ],
   "source": [
    "#dulicate values\n",
    "df=df.dropDuplicates()\n",
    "#checking the shape of the dataset\n",
    "print(\"Remaining columns:\", len(df.columns))\n",
    "print(\"Number of rows:\", df.count())"
   ]
  },
  {
   "cell_type": "code",
   "execution_count": 8,
   "id": "a7b790ed",
   "metadata": {},
   "outputs": [
    {
     "name": "stderr",
     "output_type": "stream",
     "text": [
      "23/10/04 10:04:58 WARN package: Truncated the string representation of a plan since it was too large. This behavior can be adjusted by setting 'spark.sql.debug.maxToStringFields'.\n",
      "23/10/04 10:04:59 WARN GarbageCollectionMetrics: To enable non-built-in garbage collector(s) List(G1 Concurrent GC), users should configure it(them) to spark.eventLog.gcMetrics.youngGenerationGarbageCollectors or spark.eventLog.gcMetrics.oldGenerationGarbageCollectors\n",
      "                                                                                \r"
     ]
    },
    {
     "data": {
      "text/html": [
       "<div>\n",
       "<style scoped>\n",
       "    .dataframe tbody tr th:only-of-type {\n",
       "        vertical-align: middle;\n",
       "    }\n",
       "\n",
       "    .dataframe tbody tr th {\n",
       "        vertical-align: top;\n",
       "    }\n",
       "\n",
       "    .dataframe thead th {\n",
       "        text-align: right;\n",
       "    }\n",
       "</style>\n",
       "<table border=\"1\" class=\"dataframe\">\n",
       "  <thead>\n",
       "    <tr style=\"text-align: right;\">\n",
       "      <th></th>\n",
       "      <th>summary</th>\n",
       "      <th>Age</th>\n",
       "      <th>Gender</th>\n",
       "      <th>Income</th>\n",
       "      <th>Credit Score</th>\n",
       "      <th>Credit History Length</th>\n",
       "      <th>Number of Existing Loans</th>\n",
       "      <th>Loan Amount</th>\n",
       "      <th>Loan Tenure</th>\n",
       "      <th>Existing Customer</th>\n",
       "      <th>State</th>\n",
       "      <th>City</th>\n",
       "      <th>LTV Ratio</th>\n",
       "      <th>Employment Profile</th>\n",
       "      <th>Profile Score</th>\n",
       "      <th>Occupation</th>\n",
       "    </tr>\n",
       "  </thead>\n",
       "  <tbody>\n",
       "    <tr>\n",
       "      <th>0</th>\n",
       "      <td>count</td>\n",
       "      <td>179042</td>\n",
       "      <td>179042</td>\n",
       "      <td>179042</td>\n",
       "      <td>179042</td>\n",
       "      <td>179042</td>\n",
       "      <td>179042</td>\n",
       "      <td>179042</td>\n",
       "      <td>179042</td>\n",
       "      <td>179042</td>\n",
       "      <td>179042</td>\n",
       "      <td>179042</td>\n",
       "      <td>179042</td>\n",
       "      <td>179042</td>\n",
       "      <td>179042</td>\n",
       "      <td>179042</td>\n",
       "    </tr>\n",
       "    <tr>\n",
       "      <th>1</th>\n",
       "      <td>mean</td>\n",
       "      <td>43.99051619173155</td>\n",
       "      <td>None</td>\n",
       "      <td>76437.48394231522</td>\n",
       "      <td>583.0979770109807</td>\n",
       "      <td>308.01612470816906</td>\n",
       "      <td>4.704644720233241</td>\n",
       "      <td>105792.56783324583</td>\n",
       "      <td>133.32528680421353</td>\n",
       "      <td>None</td>\n",
       "      <td>None</td>\n",
       "      <td>None</td>\n",
       "      <td>71.63071311480644</td>\n",
       "      <td>None</td>\n",
       "      <td>77.37777169602663</td>\n",
       "      <td>None</td>\n",
       "    </tr>\n",
       "    <tr>\n",
       "      <th>2</th>\n",
       "      <td>stddev</td>\n",
       "      <td>15.309904009000737</td>\n",
       "      <td>None</td>\n",
       "      <td>42852.72571773168</td>\n",
       "      <td>163.079588621134</td>\n",
       "      <td>175.0395590995947</td>\n",
       "      <td>2.9804653636540412</td>\n",
       "      <td>40436.20564987606</td>\n",
       "      <td>96.00884385690765</td>\n",
       "      <td>None</td>\n",
       "      <td>None</td>\n",
       "      <td>None</td>\n",
       "      <td>16.86765015601007</td>\n",
       "      <td>None</td>\n",
       "      <td>24.49688016541691</td>\n",
       "      <td>None</td>\n",
       "    </tr>\n",
       "    <tr>\n",
       "      <th>3</th>\n",
       "      <td>min</td>\n",
       "      <td>18</td>\n",
       "      <td>Female</td>\n",
       "      <td>9000</td>\n",
       "      <td>300</td>\n",
       "      <td>6</td>\n",
       "      <td>0</td>\n",
       "      <td>5294</td>\n",
       "      <td>12</td>\n",
       "      <td>No</td>\n",
       "      <td>Delhi</td>\n",
       "      <td>Ahmedabad</td>\n",
       "      <td>40.0</td>\n",
       "      <td>Freelancer</td>\n",
       "      <td>0</td>\n",
       "      <td>Banker</td>\n",
       "    </tr>\n",
       "    <tr>\n",
       "      <th>4</th>\n",
       "      <td>max</td>\n",
       "      <td>70</td>\n",
       "      <td>Other</td>\n",
       "      <td>209000</td>\n",
       "      <td>850</td>\n",
       "      <td>611</td>\n",
       "      <td>10</td>\n",
       "      <td>150000</td>\n",
       "      <td>359</td>\n",
       "      <td>Yes</td>\n",
       "      <td>West Bengal</td>\n",
       "      <td>Udaipur</td>\n",
       "      <td>95.0</td>\n",
       "      <td>Unemployed</td>\n",
       "      <td>100</td>\n",
       "      <td>Writer</td>\n",
       "    </tr>\n",
       "  </tbody>\n",
       "</table>\n",
       "</div>"
      ],
      "text/plain": [
       "  summary                 Age  Gender             Income       Credit Score  \\\n",
       "0   count              179042  179042             179042             179042   \n",
       "1    mean   43.99051619173155    None  76437.48394231522  583.0979770109807   \n",
       "2  stddev  15.309904009000737    None  42852.72571773168   163.079588621134   \n",
       "3     min                  18  Female               9000                300   \n",
       "4     max                  70   Other             209000                850   \n",
       "\n",
       "  Credit History Length Number of Existing Loans         Loan Amount  \\\n",
       "0                179042                   179042              179042   \n",
       "1    308.01612470816906        4.704644720233241  105792.56783324583   \n",
       "2     175.0395590995947       2.9804653636540412   40436.20564987606   \n",
       "3                     6                        0                5294   \n",
       "4                   611                       10              150000   \n",
       "\n",
       "          Loan Tenure Existing Customer        State       City  \\\n",
       "0              179042            179042       179042     179042   \n",
       "1  133.32528680421353              None         None       None   \n",
       "2   96.00884385690765              None         None       None   \n",
       "3                  12                No        Delhi  Ahmedabad   \n",
       "4                 359               Yes  West Bengal    Udaipur   \n",
       "\n",
       "           LTV Ratio Employment Profile      Profile Score Occupation  \n",
       "0             179042             179042             179042     179042  \n",
       "1  71.63071311480644               None  77.37777169602663       None  \n",
       "2  16.86765015601007               None  24.49688016541691       None  \n",
       "3               40.0         Freelancer                  0     Banker  \n",
       "4               95.0         Unemployed                100     Writer  "
      ]
     },
     "execution_count": 8,
     "metadata": {},
     "output_type": "execute_result"
    }
   ],
   "source": [
    "df_pd=df.describe().toPandas()\n",
    "df_pd"
   ]
  },
  {
   "cell_type": "code",
   "execution_count": 9,
   "id": "445c993e",
   "metadata": {},
   "outputs": [],
   "source": [
    "numerical_cols=[]\n",
    "catorical_cols=[]\n",
    "for cols in df.columns:\n",
    "    (catorical_cols.append(cols) if df.select(cols).dtypes[0][1]=='string' else numerical_cols.append(cols))\n",
    "df_num=df.select(numerical_cols)\n",
    "df_cat=df.select(catorical_cols)"
   ]
  },
  {
   "cell_type": "code",
   "execution_count": 10,
   "id": "2788db72",
   "metadata": {},
   "outputs": [],
   "source": [
    "df = df.select([col(column).alias(column.strip()) for column in df.columns])"
   ]
  },
  {
   "cell_type": "code",
   "execution_count": 11,
   "id": "3b9a7cac",
   "metadata": {},
   "outputs": [
    {
     "name": "stderr",
     "output_type": "stream",
     "text": [
      "23/10/04 10:05:11 WARN InstanceBuilder: Failed to load implementation from:dev.ludovic.netlib.blas.JNIBLAS\n",
      "23/10/04 10:05:11 WARN InstanceBuilder: Failed to load implementation from:dev.ludovic.netlib.blas.VectorBLAS\n",
      "[Stage 71:=============================>                            (4 + 4) / 8]\r"
     ]
    },
    {
     "name": "stdout",
     "output_type": "stream",
     "text": [
      "Age: 26.76\n",
      "Income: 38.79\n",
      "Credit Score: 8.44\n",
      "Credit History Length: 0.15\n",
      "Number of Existing Loans: 8.42\n",
      "Loan Amount: 100.00\n",
      "Loan Tenure: 4.58\n",
      "LTV Ratio: -2.96\n",
      "Profile Score: 6.91\n"
     ]
    },
    {
     "name": "stderr",
     "output_type": "stream",
     "text": [
      "\r",
      "                                                                                \r"
     ]
    }
   ],
   "source": [
    "from pyspark.ml.feature import VectorAssembler\n",
    "from pyspark.ml.stat import Correlation\n",
    "selected_columns=list(df_num.columns)\n",
    "vector_Assembler=VectorAssembler(inputCols=df_num.columns,outputCol='features')\n",
    "df_assembled=vector_Assembler.transform(df_num).select('features')\n",
    "#print(df_assembled.show(5))\n",
    "correlation_matrix = Correlation.corr(df_assembled, \"features\").head()\n",
    "#print(correlation_matrix)\n",
    "correlation_matrix = correlation_matrix[0].toArray()[selected_columns.index('Loan Amount')]\n",
    "columns = ['Column', 'Correlation with Loan Amount']\n",
    "data = dict(zip(selected_columns, correlation_matrix))\n",
    "for column, correlation in data.items():\n",
    "    print(f\"{column}: {correlation*100:.2f}\")"
   ]
  },
  {
   "cell_type": "code",
   "execution_count": 12,
   "id": "57a22a76",
   "metadata": {},
   "outputs": [],
   "source": [
    "def PiePlot(Col_name):\n",
    "    df_modified=df.groupBy(col(Col_name).alias(Col_name)).count()\n",
    "    df_modified=df_modified.toPandas()\n",
    "    plt.figure(figsize=(3,3))\n",
    "    plt.pie(df_modified['count'],labels=df_modified[Col_name],autopct='%.2f%%',radius=1\n",
    "           ,wedgeprops=dict(width=.5)\n",
    "            ,pctdistance=.75\n",
    "           );"
   ]
  },
  {
   "cell_type": "code",
   "execution_count": 13,
   "id": "0e66a2b1",
   "metadata": {},
   "outputs": [],
   "source": [
    "def barh(Col_name,x_Col_name,y_label,x_label,type_bar='H'):\n",
    "    plt.figure(figsize=(15,4))\n",
    "    df_modified=df.groupBy(col(Col_name).alias(Col_name)).count()\n",
    "    df_modified=df_modified.orderBy('count',ascending=False)\n",
    "    df_modified=df_modified.toPandas()\n",
    "    df_modified['count']=df_modified['count']/sum(df_modified['count'])*100\n",
    "    df_modified=df_modified.head(10)\n",
    "    if type_bar=='H':\n",
    "        sns.barplot(y=df_modified[Col_name],x=df_modified[x_Col_name]);\n",
    "        for i, val in enumerate(df_modified.index):\n",
    "            y = df_modified['count'].loc[val].sum()\n",
    "            #print(y.dtype)\n",
    "            plt.text( y+1, i+.2,str(int(y))+'%', ha=\"center\",fontsize = 15,         color ='black')\n",
    "    else :\n",
    "        sns.barplot(x=df_modified[Col_name],y=df_modified[x_Col_name]);\n",
    "        for i, val in enumerate(df_modified.index):\n",
    "            y = df_modified['count'].loc[val].sum()\n",
    "            plt.text(i, y ,str(int(y))+'%' , ha=\"center\",fontsize = 15,         color ='black')\n",
    "\n",
    "    plt.ylabel(y_label,fontsize=10);\n",
    "    plt.xlabel(x_label,fontsize=10);\n",
    "    # Add legend outside the plot\n",
    "    plt.legend(bbox_to_anchor=(1, 1));\n",
    "    plt.tight_layout();"
   ]
  },
  {
   "cell_type": "code",
   "execution_count": 14,
   "id": "3af2a794",
   "metadata": {},
   "outputs": [],
   "source": [
    "def Bins(n,Col_name,Extra_Filter,x_label,y_label,plot):\n",
    "\n",
    "    quantileDiscretizer=QuantileDiscretizer(numBuckets=n,inputCol=Col_name,outputCol='Col_bin')\n",
    "    model=quantileDiscretizer.fit(df)\n",
    "    df_Age_with_bins=model.transform(df)\n",
    "    bin_edges = model.getSplits()\n",
    "\n",
    "    bin_edges.pop()\n",
    "    bin_edges.pop(0)\n",
    "    bin_edges.insert(0,float(df_Age_with_bins.select(F.min(Col_name)).collect()[0][0]))\n",
    "    if bin_edges[-1]!=float(df_Age_with_bins.select(F.max(Col_name)).collect()[0][0]):\n",
    "        bin_edges.append(float(df_Age_with_bins.select(F.max(Col_name)).collect()[0][0]))\n",
    "    bin_edges=[ int(i) for i in bin_edges]\n",
    "    #print(len(bin_edges))\n",
    "    if len(bin_edges)==5:\n",
    "        return Bins(n+1,Col_name,Extra_Filter,x_label,y_label,plot)\n",
    "    \n",
    "    # Create a new column based on bin edges\n",
    "    # Create a new column based on bin edges\n",
    "    df_Age_with_bins = model.transform(df).withColumn(\n",
    "        'Col_bin',\n",
    "    #    when(df['Age'] <= bin_edges[0], lit(str(bin_edges[0]))).\n",
    "        when((df[Col_name] >=bin_edges[0]) & (df[Col_name] < bin_edges[1]),\\\n",
    "              concat(lit(str(bin_edges[0])),lit('-'),lit(str(bin_edges[1]))))\n",
    "        .when((df[Col_name] >= bin_edges[1]) & (df[Col_name] < bin_edges[2]), \\\n",
    "              concat(lit(str(bin_edges[1])),lit('-'),lit(str(bin_edges[2]))))\n",
    "        .when((df[Col_name] >= bin_edges[2]) & (df[Col_name] < bin_edges[3]),\\\n",
    "              concat(lit(str(bin_edges[2])),lit('-'),lit(str(bin_edges[3]))))\n",
    "        .when((df[Col_name] >= bin_edges[3]) & (df[Col_name] < bin_edges[4]), \\\n",
    "              concat(lit(str(bin_edges[3])),lit('-'),lit(str(bin_edges[4]))))\n",
    "        .otherwise(concat(lit(str(bin_edges[4])),lit('-'),lit(str(bin_edges[5]))))  # Handle values greater than the last bin edge\n",
    "    )\n",
    "    df_Age_with_bins = df_Age_with_bins.groupBy('Col_bin',Extra_Filter)\\\n",
    "    .agg(round(median(\"Loan Amount\")).alias(\"Loan_Amount\"))\n",
    "    df_Age_with_bins=df_Age_with_bins.orderBy('Loan_Amount')\n",
    "    df_Age_with_bins=df_Age_with_bins.toPandas()\n",
    "    plt.figure(figsize=(10,3));\n",
    "\n",
    "    if plot=='point':\n",
    "        sns.pointplot(x=df_Age_with_bins.Col_bin,y=df_Age_with_bins.Loan_Amount\n",
    "                     ,hue=df_Age_with_bins[Extra_Filter]);\n",
    "    elif plot=='rel':\n",
    "        sns.relplot(x=df_Age_with_bins.Col_bin,y=df_Age_with_bins.Loan_Amount\n",
    "                     ,hue=df_Age_with_bins[Extra_Filter]);    \n",
    "    elif plot=='scatter':\n",
    "        sns.scatterplot(x=df_Age_with_bins.Col_bin,y=df_Age_with_bins.Loan_Amount\n",
    "                     ,hue=df_Age_with_bins[Extra_Filter]) ;\n",
    "    else:\n",
    "        sns.lineplot(x=df_Age_with_bins.Col_bin,y=df_Age_with_bins.Loan_Amount\n",
    "                     ,hue=df_Age_with_bins[Extra_Filter]);\n",
    "    plt.xlabel(x_label,fontsize=10);\n",
    "    plt.ylabel(y_label,fontsize=10);\n",
    "    # Add legend outside the plot\n",
    "    #plt.legend(bbox_to_anchor=(1, 1));\n",
    "    plt.xticks(fontsize=10);\n",
    "    plt.yticks(fontsize=10);"
   ]
  },
  {
   "cell_type": "code",
   "execution_count": 15,
   "id": "bd1e825d",
   "metadata": {},
   "outputs": [
    {
     "name": "stderr",
     "output_type": "stream",
     "text": [
      "                                                                                \r"
     ]
    },
    {
     "data": {
      "image/png": "[encoded data removed]",
      "text/plain": [
       "<Figure size 300x300 with 1 Axes>"
      ]
     },
     "metadata": {},
     "output_type": "display_data"
    }
   ],
   "source": [
    "PiePlot('Gender')"
   ]
  },
  {
   "cell_type": "code",
   "execution_count": 16,
   "id": "62e4b71b",
   "metadata": {},
   "outputs": [
    {
     "name": "stderr",
     "output_type": "stream",
     "text": [
      "                                                                                \r"
     ]
    },
    {
     "data": {
      "image/png": "[encoded data removed]",
      "text/plain": [
       "<Figure size 300x300 with 1 Axes>"
      ]
     },
     "metadata": {},
     "output_type": "display_data"
    }
   ],
   "source": [
    "PiePlot('Existing Customer')"
   ]
  },
  {
   "cell_type": "code",
   "execution_count": 17,
   "id": "f533f9ba",
   "metadata": {},
   "outputs": [
    {
     "name": "stderr",
     "output_type": "stream",
     "text": [
      "No artists with labels found to put in legend.  Note that artists whose label start with an underscore are ignored when legend() is called with no argument.\n"
     ]
    },
    {
     "data": {
      "image/png": "[encoded data removed]",
      "text/plain": [
       "<Figure size 1500x400 with 1 Axes>"
      ]
     },
     "metadata": {},
     "output_type": "display_data"
    }
   ],
   "source": [
    "barh('Employment Profile','count','Employment Profile','% of Customers')"
   ]
  },
  {
   "cell_type": "code",
   "execution_count": 18,
   "id": "90aa96f0",
   "metadata": {},
   "outputs": [
    {
     "name": "stderr",
     "output_type": "stream",
     "text": [
      "No artists with labels found to put in legend.  Note that artists whose label start with an underscore are ignored when legend() is called with no argument.\n"
     ]
    },
    {
     "data": {
      "image/png": "[encoded data removed]",
      "text/plain": [
       "<Figure size 1500x400 with 1 Axes>"
      ]
     },
     "metadata": {},
     "output_type": "display_data"
    }
   ],
   "source": [
    "#barh('count','Occupation','Employment Profile','% of Customers')\n",
    "barh('Occupation','count','% of Customers','Occupation','T')"
   ]
  },
  {
   "cell_type": "code",
   "execution_count": 19,
   "id": "8a2aebc3",
   "metadata": {},
   "outputs": [
    {
     "name": "stderr",
     "output_type": "stream",
     "text": [
      "                                                                                \r"
     ]
    },
    {
     "data": {
      "image/png": "[encoded data removed]",
      "text/plain": [
       "<Figure size 1000x300 with 1 Axes>"
      ]
     },
     "metadata": {},
     "output_type": "display_data"
    }
   ],
   "source": [
    "Bins(5,'Age','Gender','Age-Bin','Loan Amount','point')"
   ]
  },
  {
   "cell_type": "code",
   "execution_count": 20,
   "id": "bc2829c6",
   "metadata": {},
   "outputs": [
    {
     "name": "stderr",
     "output_type": "stream",
     "text": [
      "                                                                                \r"
     ]
    },
    {
     "data": {
      "image/png": "[encoded data removed]",
      "text/plain": [
       "<Figure size 1000x300 with 1 Axes>"
      ]
     },
     "metadata": {},
     "output_type": "display_data"
    }
   ],
   "source": [
    "Bins(5,'Credit Score','Employment Profile','Credit Score-Bin','Loan Amount','line');"
   ]
  },
  {
   "cell_type": "code",
   "execution_count": 21,
   "id": "e51df0d7",
   "metadata": {},
   "outputs": [
    {
     "name": "stderr",
     "output_type": "stream",
     "text": [
      "                                                                                \r"
     ]
    },
    {
     "data": {
      "image/png": "[encoded data removed]",
      "text/plain": [
       "<Figure size 1000x300 with 1 Axes>"
      ]
     },
     "metadata": {},
     "output_type": "display_data"
    }
   ],
   "source": [
    "Bins(5,'Income','Employment Profile','Income','Loan Amount','scatter')"
   ]
  },
  {
   "cell_type": "code",
   "execution_count": 22,
   "id": "5c983936",
   "metadata": {},
   "outputs": [
    {
     "name": "stderr",
     "output_type": "stream",
     "text": [
      "                                                                                \r"
     ]
    },
    {
     "data": {
      "text/plain": [
       "<Figure size 1000x300 with 0 Axes>"
      ]
     },
     "metadata": {},
     "output_type": "display_data"
    },
    {
     "data": {
      "image/png": "[encoded data removed]",
      "text/plain": [
       "<Figure size 637.861x500 with 1 Axes>"
      ]
     },
     "metadata": {},
     "output_type": "display_data"
    }
   ],
   "source": [
    "Bins(5,'Profile Score','Existing Customer','Profile Score','Loan Amount','rel');"
   ]
  },
  {
   "cell_type": "code",
   "execution_count": 23,
   "id": "07205811",
   "metadata": {},
   "outputs": [
    {
     "data": {
      "text/plain": [
       "['Age',\n",
       " 'Income',\n",
       " 'Credit Score',\n",
       " 'Credit History Length',\n",
       " 'Number of Existing Loans',\n",
       " 'Loan Amount',\n",
       " 'Loan Tenure',\n",
       " 'LTV Ratio',\n",
       " 'Profile Score']"
      ]
     },
     "execution_count": 23,
     "metadata": {},
     "output_type": "execute_result"
    }
   ],
   "source": [
    "df_num.columns"
   ]
  },
  {
   "cell_type": "code",
   "execution_count": 24,
   "id": "1d9fa8a6",
   "metadata": {},
   "outputs": [
    {
     "name": "stdout",
     "output_type": "stream",
     "text": [
      "['Gender', 'Existing Customer', 'State', 'City', 'Employment Profile', 'Occupation']\n"
     ]
    }
   ],
   "source": [
    "print(df_cat.columns)"
   ]
  },
  {
   "cell_type": "code",
   "execution_count": 25,
   "id": "16a718d0",
   "metadata": {},
   "outputs": [
    {
     "name": "stderr",
     "output_type": "stream",
     "text": [
      "                                                                                \r"
     ]
    },
    {
     "data": {
      "image/png": "[encoded data removed]",
      "text/plain": [
       "<Figure size 1000x300 with 1 Axes>"
      ]
     },
     "metadata": {},
     "output_type": "display_data"
    }
   ],
   "source": [
    "Bins(5,'LTV Ratio','Existing Customer','Credit Score-Bin','Loan Amount','line');"
   ]
  },
  {
   "cell_type": "code",
   "execution_count": 26,
   "id": "d87df8df",
   "metadata": {},
   "outputs": [],
   "source": [
    "df=df.drop(*['State','State','City','Occupation'])"
   ]
  },
  {
   "cell_type": "markdown",
   "id": "2c6f9138",
   "metadata": {},
   "source": [
    "# Model"
   ]
  },
  {
   "cell_type": "code",
   "execution_count": 28,
   "id": "b828d9b1",
   "metadata": {},
   "outputs": [],
   "source": [
    "result_df=df\n",
    "result_df1=result_df"
   ]
  },
  {
   "cell_type": "code",
   "execution_count": 29,
   "id": "a74ca1c4",
   "metadata": {},
   "outputs": [],
   "source": [
    "df=result_df1"
   ]
  },
  {
   "cell_type": "code",
   "execution_count": 30,
   "id": "312dbada",
   "metadata": {},
   "outputs": [],
   "source": [
    "from sklearn.preprocessing import OneHotEncoder\n",
    "from pyspark.ml.feature import StringIndexer, OneHotEncoder\n",
    "from pyspark.ml import Pipeline\n"
   ]
  },
  {
   "cell_type": "code",
   "execution_count": 31,
   "id": "c8659012",
   "metadata": {},
   "outputs": [],
   "source": [
    "#encoder=OneHotEncoder(inputCol=\"Income/Expenses\",outputCol=\"Income/Expense_Index\")\n",
    "#pipelie=Pipeline(stages=[indexer_model,encoder])\n",
    "#pipelie_model=pipelie.fit(df)\n",
    "#encoded_df=pipelie_model.transform(df)\n",
    "#encoded_df.show(5)"
   ]
  },
  {
   "cell_type": "code",
   "execution_count": 32,
   "id": "b925d8c2",
   "metadata": {},
   "outputs": [
    {
     "data": {
      "text/plain": [
       "['Age',\n",
       " 'Gender',\n",
       " 'Income',\n",
       " 'Credit Score',\n",
       " 'Credit History Length',\n",
       " 'Number of Existing Loans',\n",
       " 'Loan Amount',\n",
       " 'Loan Tenure',\n",
       " 'Existing Customer',\n",
       " 'LTV Ratio',\n",
       " 'Employment Profile',\n",
       " 'Profile Score']"
      ]
     },
     "execution_count": 32,
     "metadata": {},
     "output_type": "execute_result"
    }
   ],
   "source": [
    "df.columns"
   ]
  },
  {
   "cell_type": "code",
   "execution_count": 33,
   "id": "0fcbf558",
   "metadata": {},
   "outputs": [],
   "source": [
    "def One_Hot_Ender(inputCol_name,OutputCol_name,alias_name,df):\n",
    "    from pyspark.sql.functions import collect_list\n",
    "    df_values={}\n",
    "    indexer=StringIndexer(inputCol=inputCol_name,outputCol=OutputCol_name)\n",
    "    indexer_model = indexer.fit(df)\n",
    "    df = indexer_model.transform(df)\n",
    "    indexed_labels = indexer_model.labels\n",
    "    for label, index in zip(indexed_labels, range(len(indexed_labels))):\n",
    "        df_values[label]=index\n",
    "#    df=df.drop(inputCol_name)\n",
    "   # df=df.withColumnRenamed(OutputCol_name,inputCol_name)\n",
    "    return df,df_values"
   ]
  },
  {
   "cell_type": "code",
   "execution_count": 34,
   "id": "4445d778",
   "metadata": {},
   "outputs": [
    {
     "name": "stderr",
     "output_type": "stream",
     "text": [
      "                                                                                \r"
     ]
    },
    {
     "data": {
      "text/plain": [
       "{'Female': 0, 'Male': 1, 'Other': 2}"
      ]
     },
     "execution_count": 34,
     "metadata": {},
     "output_type": "execute_result"
    }
   ],
   "source": [
    "df,df_values=One_Hot_Ender('Gender','gender','gen',df)\n",
    "df_values"
   ]
  },
  {
   "cell_type": "code",
   "execution_count": 35,
   "id": "e6a98ca1",
   "metadata": {},
   "outputs": [
    {
     "name": "stderr",
     "output_type": "stream",
     "text": [
      "\r",
      "[Stage 254:>                                                        (0 + 7) / 7]\r"
     ]
    },
    {
     "name": "stdout",
     "output_type": "stream",
     "text": [
      "+---+------+------+------------+---------------------+------------------------+-----------+-----------+-----------------+------------------+------------------+-------------+\n",
      "|Age|gender|Income|Credit Score|Credit History Length|Number of Existing Loans|Loan Amount|Loan Tenure|Existing Customer|         LTV Ratio|Employment Profile|Profile Score|\n",
      "+---+------+------+------------+---------------------+------------------------+-----------+-----------+-----------------+------------------+------------------+-------------+\n",
      "| 59|   1.0| 30000|         793|                  313|                       8|      78209|        298|              Yes|  83.9295708455611|          Salaried|          100|\n",
      "| 66|   1.0| 68000|         576|                  219|                       5|      62270|         16|               No| 69.92223078646145|          Salaried|           98|\n",
      "| 24|   1.0| 16000|         613|                  406|                       5|      32779|        106|               No| 92.53417993791052|          Salaried|           90|\n",
      "| 27|   1.0| 50000|         484|                   23|                       3|     150000|         83|               No| 54.01858060089789|          Salaried|           96|\n",
      "| 37|   0.0| 19000|         409|                  449|                       1|      34795|         84|               No|60.256016900151465|     Self-Employed|           55|\n",
      "+---+------+------+------------+---------------------+------------------------+-----------+-----------+-----------------+------------------+------------------+-------------+\n",
      "only showing top 5 rows\n",
      "\n"
     ]
    },
    {
     "name": "stderr",
     "output_type": "stream",
     "text": [
      "\r",
      "                                                                                \r"
     ]
    }
   ],
   "source": [
    "df.show(5)"
   ]
  },
  {
   "cell_type": "code",
   "execution_count": 36,
   "id": "7487c314",
   "metadata": {},
   "outputs": [
    {
     "name": "stderr",
     "output_type": "stream",
     "text": [
      "                                                                                \r"
     ]
    },
    {
     "data": {
      "text/plain": [
       "{'No': 0, 'Yes': 1}"
      ]
     },
     "execution_count": 36,
     "metadata": {},
     "output_type": "execute_result"
    }
   ],
   "source": [
    "df,df_values=One_Hot_Ender('Existing Customer','Existing Customers','EC',df)\n",
    "df_values"
   ]
  },
  {
   "cell_type": "code",
   "execution_count": 37,
   "id": "8c28beeb",
   "metadata": {},
   "outputs": [
    {
     "name": "stderr",
     "output_type": "stream",
     "text": [
      "\r",
      "[Stage 263:>                                                        (0 + 7) / 7]\r"
     ]
    },
    {
     "name": "stdout",
     "output_type": "stream",
     "text": [
      "+---+------+------+------------+---------------------+------------------------+-----------+-----------+------------------+------------------+-------------+------------------+\n",
      "|Age|gender|Income|Credit Score|Credit History Length|Number of Existing Loans|Loan Amount|Loan Tenure|         LTV Ratio|Employment Profile|Profile Score|Existing Customers|\n",
      "+---+------+------+------------+---------------------+------------------------+-----------+-----------+------------------+------------------+-------------+------------------+\n",
      "| 59|   1.0| 30000|         793|                  313|                       8|      78209|        298|  83.9295708455611|          Salaried|          100|               1.0|\n",
      "| 66|   1.0| 68000|         576|                  219|                       5|      62270|         16| 69.92223078646145|          Salaried|           98|               0.0|\n",
      "| 24|   1.0| 16000|         613|                  406|                       5|      32779|        106| 92.53417993791052|          Salaried|           90|               0.0|\n",
      "| 27|   1.0| 50000|         484|                   23|                       3|     150000|         83| 54.01858060089789|          Salaried|           96|               0.0|\n",
      "| 37|   0.0| 19000|         409|                  449|                       1|      34795|         84|60.256016900151465|     Self-Employed|           55|               0.0|\n",
      "+---+------+------+------------+---------------------+------------------------+-----------+-----------+------------------+------------------+-------------+------------------+\n",
      "only showing top 5 rows\n",
      "\n"
     ]
    },
    {
     "name": "stderr",
     "output_type": "stream",
     "text": [
      "\r",
      "                                                                                \r"
     ]
    }
   ],
   "source": [
    "df=df.drop('Existing Customer')\n",
    "df.show(5)\n"
   ]
  },
  {
   "cell_type": "code",
   "execution_count": 38,
   "id": "abebebfb",
   "metadata": {},
   "outputs": [
    {
     "name": "stdout",
     "output_type": "stream",
     "text": [
      "+------------------+\n",
      "|Employment Profile|\n",
      "+------------------+\n",
      "|           Student|\n",
      "|          Salaried|\n",
      "|     Self-Employed|\n",
      "|        Freelancer|\n",
      "|        Unemployed|\n",
      "+------------------+\n",
      "\n"
     ]
    }
   ],
   "source": [
    "df.select(['Employment Profile']).distinct().show()"
   ]
  },
  {
   "cell_type": "code",
   "execution_count": 39,
   "id": "94a0c78b",
   "metadata": {},
   "outputs": [],
   "source": [
    "from pyspark.sql.functions import col, udf\n",
    "from pyspark.sql.types import IntegerType\n"
   ]
  },
  {
   "cell_type": "code",
   "execution_count": 40,
   "id": "05660f5a",
   "metadata": {},
   "outputs": [
    {
     "name": "stderr",
     "output_type": "stream",
     "text": [
      "                                                                                \r"
     ]
    }
   ],
   "source": [
    "ordinal_mapping = df.select('Employment Profile').distinct().rdd.flatMap(lambda x: x).collect()\n",
    "ordinal_mapping=dict(zip(ordinal_mapping,[1,4,3,2,0]))\n",
    "ordinal_encoder=udf(lambda category:ordinal_mapping[category],IntegerType())\n",
    "df = df.withColumn(\"Employment_Profile\", ordinal_encoder(col(\"Employment Profile\")))\n",
    "df=df.drop(\"Employment Profile\")\n"
   ]
  },
  {
   "cell_type": "code",
   "execution_count": 41,
   "id": "65083b21",
   "metadata": {},
   "outputs": [
    {
     "name": "stderr",
     "output_type": "stream",
     "text": [
      "                                                                                \r"
     ]
    },
    {
     "data": {
      "text/html": [
       "<div>\n",
       "<style scoped>\n",
       "    .dataframe tbody tr th:only-of-type {\n",
       "        vertical-align: middle;\n",
       "    }\n",
       "\n",
       "    .dataframe tbody tr th {\n",
       "        vertical-align: top;\n",
       "    }\n",
       "\n",
       "    .dataframe thead th {\n",
       "        text-align: right;\n",
       "    }\n",
       "</style>\n",
       "<table border=\"1\" class=\"dataframe\">\n",
       "  <thead>\n",
       "    <tr style=\"text-align: right;\">\n",
       "      <th></th>\n",
       "      <th>Age</th>\n",
       "      <th>gender</th>\n",
       "      <th>Income</th>\n",
       "      <th>Credit Score</th>\n",
       "      <th>Credit History Length</th>\n",
       "      <th>Number of Existing Loans</th>\n",
       "      <th>Loan Amount</th>\n",
       "      <th>Loan Tenure</th>\n",
       "      <th>LTV Ratio</th>\n",
       "      <th>Profile Score</th>\n",
       "      <th>Existing Customers</th>\n",
       "      <th>Employment_Profile</th>\n",
       "    </tr>\n",
       "  </thead>\n",
       "  <tbody>\n",
       "    <tr>\n",
       "      <th>0</th>\n",
       "      <td>59</td>\n",
       "      <td>1.0</td>\n",
       "      <td>30000</td>\n",
       "      <td>793</td>\n",
       "      <td>313</td>\n",
       "      <td>8</td>\n",
       "      <td>78209</td>\n",
       "      <td>298</td>\n",
       "      <td>83.929571</td>\n",
       "      <td>100</td>\n",
       "      <td>1.0</td>\n",
       "      <td>4</td>\n",
       "    </tr>\n",
       "    <tr>\n",
       "      <th>1</th>\n",
       "      <td>66</td>\n",
       "      <td>1.0</td>\n",
       "      <td>68000</td>\n",
       "      <td>576</td>\n",
       "      <td>219</td>\n",
       "      <td>5</td>\n",
       "      <td>62270</td>\n",
       "      <td>16</td>\n",
       "      <td>69.922231</td>\n",
       "      <td>98</td>\n",
       "      <td>0.0</td>\n",
       "      <td>4</td>\n",
       "    </tr>\n",
       "    <tr>\n",
       "      <th>2</th>\n",
       "      <td>24</td>\n",
       "      <td>1.0</td>\n",
       "      <td>16000</td>\n",
       "      <td>613</td>\n",
       "      <td>406</td>\n",
       "      <td>5</td>\n",
       "      <td>32779</td>\n",
       "      <td>106</td>\n",
       "      <td>92.534180</td>\n",
       "      <td>90</td>\n",
       "      <td>0.0</td>\n",
       "      <td>4</td>\n",
       "    </tr>\n",
       "    <tr>\n",
       "      <th>3</th>\n",
       "      <td>27</td>\n",
       "      <td>1.0</td>\n",
       "      <td>50000</td>\n",
       "      <td>484</td>\n",
       "      <td>23</td>\n",
       "      <td>3</td>\n",
       "      <td>150000</td>\n",
       "      <td>83</td>\n",
       "      <td>54.018581</td>\n",
       "      <td>96</td>\n",
       "      <td>0.0</td>\n",
       "      <td>4</td>\n",
       "    </tr>\n",
       "    <tr>\n",
       "      <th>4</th>\n",
       "      <td>37</td>\n",
       "      <td>0.0</td>\n",
       "      <td>19000</td>\n",
       "      <td>409</td>\n",
       "      <td>449</td>\n",
       "      <td>1</td>\n",
       "      <td>34795</td>\n",
       "      <td>84</td>\n",
       "      <td>60.256017</td>\n",
       "      <td>55</td>\n",
       "      <td>0.0</td>\n",
       "      <td>3</td>\n",
       "    </tr>\n",
       "    <tr>\n",
       "      <th>...</th>\n",
       "      <td>...</td>\n",
       "      <td>...</td>\n",
       "      <td>...</td>\n",
       "      <td>...</td>\n",
       "      <td>...</td>\n",
       "      <td>...</td>\n",
       "      <td>...</td>\n",
       "      <td>...</td>\n",
       "      <td>...</td>\n",
       "      <td>...</td>\n",
       "      <td>...</td>\n",
       "      <td>...</td>\n",
       "    </tr>\n",
       "    <tr>\n",
       "      <th>179037</th>\n",
       "      <td>69</td>\n",
       "      <td>0.0</td>\n",
       "      <td>182000</td>\n",
       "      <td>557</td>\n",
       "      <td>401</td>\n",
       "      <td>4</td>\n",
       "      <td>150000</td>\n",
       "      <td>95</td>\n",
       "      <td>55.167376</td>\n",
       "      <td>100</td>\n",
       "      <td>0.0</td>\n",
       "      <td>4</td>\n",
       "    </tr>\n",
       "    <tr>\n",
       "      <th>179038</th>\n",
       "      <td>21</td>\n",
       "      <td>0.0</td>\n",
       "      <td>54000</td>\n",
       "      <td>638</td>\n",
       "      <td>377</td>\n",
       "      <td>6</td>\n",
       "      <td>58571</td>\n",
       "      <td>215</td>\n",
       "      <td>57.876777</td>\n",
       "      <td>90</td>\n",
       "      <td>0.0</td>\n",
       "      <td>4</td>\n",
       "    </tr>\n",
       "    <tr>\n",
       "      <th>179039</th>\n",
       "      <td>53</td>\n",
       "      <td>2.0</td>\n",
       "      <td>59000</td>\n",
       "      <td>518</td>\n",
       "      <td>37</td>\n",
       "      <td>3</td>\n",
       "      <td>150000</td>\n",
       "      <td>86</td>\n",
       "      <td>94.936531</td>\n",
       "      <td>47</td>\n",
       "      <td>0.0</td>\n",
       "      <td>4</td>\n",
       "    </tr>\n",
       "    <tr>\n",
       "      <th>179040</th>\n",
       "      <td>21</td>\n",
       "      <td>2.0</td>\n",
       "      <td>40000</td>\n",
       "      <td>496</td>\n",
       "      <td>234</td>\n",
       "      <td>3</td>\n",
       "      <td>150000</td>\n",
       "      <td>57</td>\n",
       "      <td>95.000000</td>\n",
       "      <td>38</td>\n",
       "      <td>0.0</td>\n",
       "      <td>3</td>\n",
       "    </tr>\n",
       "    <tr>\n",
       "      <th>179041</th>\n",
       "      <td>29</td>\n",
       "      <td>0.0</td>\n",
       "      <td>71000</td>\n",
       "      <td>743</td>\n",
       "      <td>442</td>\n",
       "      <td>8</td>\n",
       "      <td>114933</td>\n",
       "      <td>265</td>\n",
       "      <td>65.019639</td>\n",
       "      <td>100</td>\n",
       "      <td>1.0</td>\n",
       "      <td>3</td>\n",
       "    </tr>\n",
       "  </tbody>\n",
       "</table>\n",
       "<p>179042 rows × 12 columns</p>\n",
       "</div>"
      ],
      "text/plain": [
       "        Age  gender  Income  Credit Score  Credit History Length  \\\n",
       "0        59     1.0   30000           793                    313   \n",
       "1        66     1.0   68000           576                    219   \n",
       "2        24     1.0   16000           613                    406   \n",
       "3        27     1.0   50000           484                     23   \n",
       "4        37     0.0   19000           409                    449   \n",
       "...     ...     ...     ...           ...                    ...   \n",
       "179037   69     0.0  182000           557                    401   \n",
       "179038   21     0.0   54000           638                    377   \n",
       "179039   53     2.0   59000           518                     37   \n",
       "179040   21     2.0   40000           496                    234   \n",
       "179041   29     0.0   71000           743                    442   \n",
       "\n",
       "        Number of Existing Loans  Loan Amount  Loan Tenure  LTV Ratio  \\\n",
       "0                              8        78209          298  83.929571   \n",
       "1                              5        62270           16  69.922231   \n",
       "2                              5        32779          106  92.534180   \n",
       "3                              3       150000           83  54.018581   \n",
       "4                              1        34795           84  60.256017   \n",
       "...                          ...          ...          ...        ...   \n",
       "179037                         4       150000           95  55.167376   \n",
       "179038                         6        58571          215  57.876777   \n",
       "179039                         3       150000           86  94.936531   \n",
       "179040                         3       150000           57  95.000000   \n",
       "179041                         8       114933          265  65.019639   \n",
       "\n",
       "        Profile Score  Existing Customers  Employment_Profile  \n",
       "0                 100                 1.0                   4  \n",
       "1                  98                 0.0                   4  \n",
       "2                  90                 0.0                   4  \n",
       "3                  96                 0.0                   4  \n",
       "4                  55                 0.0                   3  \n",
       "...               ...                 ...                 ...  \n",
       "179037            100                 0.0                   4  \n",
       "179038             90                 0.0                   4  \n",
       "179039             47                 0.0                   4  \n",
       "179040             38                 0.0                   3  \n",
       "179041            100                 1.0                   3  \n",
       "\n",
       "[179042 rows x 12 columns]"
      ]
     },
     "execution_count": 41,
     "metadata": {},
     "output_type": "execute_result"
    }
   ],
   "source": [
    "df_pd=df.toPandas()\n",
    "df_pd"
   ]
  },
  {
   "cell_type": "code",
   "execution_count": 42,
   "id": "e4becf0c",
   "metadata": {},
   "outputs": [
    {
     "name": "stderr",
     "output_type": "stream",
     "text": [
      "                                                                                \r"
     ]
    },
    {
     "name": "stdout",
     "output_type": "stream",
     "text": [
      "Age: 26.76\n",
      "gender: 0.15\n",
      "Income: 38.79\n",
      "Credit Score: 8.44\n",
      "Credit History Length: 0.15\n",
      "Number of Existing Loans: 8.42\n",
      "Loan Amount: 100.00\n",
      "Loan Tenure: 4.58\n",
      "LTV Ratio: -2.96\n",
      "Profile Score: 6.91\n",
      "Existing Customers: 5.36\n",
      "Employment_Profile: 5.31\n"
     ]
    }
   ],
   "source": [
    "from pyspark.ml.feature import VectorAssembler\n",
    "from pyspark.ml.stat import Correlation\n",
    "selected_columns=list(df.columns)\n",
    "vector_Assembler=VectorAssembler(inputCols=df.columns,outputCol='features')\n",
    "df_assembled=vector_Assembler.transform(df).select('features')\n",
    "#print(df_assembled.show(5))\n",
    "correlation_matrix = Correlation.corr(df_assembled, \"features\").head()\n",
    "#print(correlation_matrix)\n",
    "correlation_matrix = correlation_matrix[0].toArray()[selected_columns.index('Loan Amount')]\n",
    "columns = ['Column', 'Correlation with Loan Amount']\n",
    "data = dict(zip(selected_columns, correlation_matrix))\n",
    "for column, correlation in data.items():\n",
    "    print(f\"{column}: {correlation*100:.2f}\")"
   ]
  },
  {
   "cell_type": "code",
   "execution_count": 43,
   "id": "9c068eb9",
   "metadata": {},
   "outputs": [
    {
     "name": "stderr",
     "output_type": "stream",
     "text": [
      "                                                                                \r"
     ]
    }
   ],
   "source": [
    "x=df.drop('Loan Amount').toPandas()\n",
    "y=df.select(['Loan Amount']).toPandas()"
   ]
  },
  {
   "cell_type": "code",
   "execution_count": 44,
   "id": "6a9e5b01",
   "metadata": {},
   "outputs": [],
   "source": [
    "from sklearn.model_selection import train_test_split"
   ]
  },
  {
   "cell_type": "code",
   "execution_count": 45,
   "id": "ab8bb6e6",
   "metadata": {},
   "outputs": [
    {
     "data": {
      "text/plain": [
       "((143234, 11), (35808, 11), (35808, 1), (143234, 1))"
      ]
     },
     "execution_count": 45,
     "metadata": {},
     "output_type": "execute_result"
    }
   ],
   "source": [
    "x_train,x_test,y_train,y_test=train_test_split(x,y,test_size=.8)\n",
    "x_test.shape,x_train.shape,y_train.shape,y_test.shape"
   ]
  },
  {
   "cell_type": "code",
   "execution_count": 46,
   "id": "92de7ded",
   "metadata": {},
   "outputs": [
    {
     "data": {
      "text/html": [
       "<div>\n",
       "<style scoped>\n",
       "    .dataframe tbody tr th:only-of-type {\n",
       "        vertical-align: middle;\n",
       "    }\n",
       "\n",
       "    .dataframe tbody tr th {\n",
       "        vertical-align: top;\n",
       "    }\n",
       "\n",
       "    .dataframe thead th {\n",
       "        text-align: right;\n",
       "    }\n",
       "</style>\n",
       "<table border=\"1\" class=\"dataframe\">\n",
       "  <thead>\n",
       "    <tr style=\"text-align: right;\">\n",
       "      <th></th>\n",
       "      <th>Age</th>\n",
       "      <th>gender</th>\n",
       "      <th>Income</th>\n",
       "      <th>Credit Score</th>\n",
       "      <th>Credit History Length</th>\n",
       "      <th>Number of Existing Loans</th>\n",
       "      <th>Loan Tenure</th>\n",
       "      <th>LTV Ratio</th>\n",
       "      <th>Profile Score</th>\n",
       "      <th>Existing Customers</th>\n",
       "      <th>Employment_Profile</th>\n",
       "    </tr>\n",
       "  </thead>\n",
       "  <tbody>\n",
       "    <tr>\n",
       "      <th>Age</th>\n",
       "      <td>100.000000</td>\n",
       "      <td>0.058571</td>\n",
       "      <td>62.310142</td>\n",
       "      <td>12.892876</td>\n",
       "      <td>-0.055489</td>\n",
       "      <td>12.891312</td>\n",
       "      <td>6.556111</td>\n",
       "      <td>-3.501122</td>\n",
       "      <td>9.897403</td>\n",
       "      <td>8.472145</td>\n",
       "      <td>9.341388</td>\n",
       "    </tr>\n",
       "    <tr>\n",
       "      <th>gender</th>\n",
       "      <td>0.058571</td>\n",
       "      <td>100.000000</td>\n",
       "      <td>0.090327</td>\n",
       "      <td>-0.201237</td>\n",
       "      <td>0.967876</td>\n",
       "      <td>-0.154411</td>\n",
       "      <td>-0.344467</td>\n",
       "      <td>0.619606</td>\n",
       "      <td>-0.452028</td>\n",
       "      <td>-0.128333</td>\n",
       "      <td>0.113170</td>\n",
       "    </tr>\n",
       "    <tr>\n",
       "      <th>Income</th>\n",
       "      <td>62.310142</td>\n",
       "      <td>0.090327</td>\n",
       "      <td>100.000000</td>\n",
       "      <td>22.569917</td>\n",
       "      <td>0.430498</td>\n",
       "      <td>22.528424</td>\n",
       "      <td>11.365260</td>\n",
       "      <td>-7.110951</td>\n",
       "      <td>18.552991</td>\n",
       "      <td>14.882753</td>\n",
       "      <td>16.651305</td>\n",
       "    </tr>\n",
       "    <tr>\n",
       "      <th>Credit Score</th>\n",
       "      <td>12.892876</td>\n",
       "      <td>-0.201237</td>\n",
       "      <td>22.569917</td>\n",
       "      <td>100.000000</td>\n",
       "      <td>0.201593</td>\n",
       "      <td>99.456648</td>\n",
       "      <td>64.579168</td>\n",
       "      <td>-38.440958</td>\n",
       "      <td>77.806329</td>\n",
       "      <td>83.236649</td>\n",
       "      <td>8.353842</td>\n",
       "    </tr>\n",
       "    <tr>\n",
       "      <th>Credit History Length</th>\n",
       "      <td>-0.055489</td>\n",
       "      <td>0.967876</td>\n",
       "      <td>0.430498</td>\n",
       "      <td>0.201593</td>\n",
       "      <td>100.000000</td>\n",
       "      <td>0.243148</td>\n",
       "      <td>-0.831247</td>\n",
       "      <td>0.728887</td>\n",
       "      <td>-0.362641</td>\n",
       "      <td>-0.016821</td>\n",
       "      <td>0.363012</td>\n",
       "    </tr>\n",
       "    <tr>\n",
       "      <th>Number of Existing Loans</th>\n",
       "      <td>12.891312</td>\n",
       "      <td>-0.154411</td>\n",
       "      <td>22.528424</td>\n",
       "      <td>99.456648</td>\n",
       "      <td>0.243148</td>\n",
       "      <td>100.000000</td>\n",
       "      <td>64.157080</td>\n",
       "      <td>-38.470636</td>\n",
       "      <td>76.609537</td>\n",
       "      <td>83.015510</td>\n",
       "      <td>8.256339</td>\n",
       "    </tr>\n",
       "    <tr>\n",
       "      <th>Loan Tenure</th>\n",
       "      <td>6.556111</td>\n",
       "      <td>-0.344467</td>\n",
       "      <td>11.365260</td>\n",
       "      <td>64.579168</td>\n",
       "      <td>-0.831247</td>\n",
       "      <td>64.157080</td>\n",
       "      <td>100.000000</td>\n",
       "      <td>-24.954750</td>\n",
       "      <td>49.206683</td>\n",
       "      <td>62.320964</td>\n",
       "      <td>3.675399</td>\n",
       "    </tr>\n",
       "    <tr>\n",
       "      <th>LTV Ratio</th>\n",
       "      <td>-3.501122</td>\n",
       "      <td>0.619606</td>\n",
       "      <td>-7.110951</td>\n",
       "      <td>-38.440958</td>\n",
       "      <td>0.728887</td>\n",
       "      <td>-38.470636</td>\n",
       "      <td>-24.954750</td>\n",
       "      <td>100.000000</td>\n",
       "      <td>-54.363332</td>\n",
       "      <td>-40.471578</td>\n",
       "      <td>-2.515602</td>\n",
       "    </tr>\n",
       "    <tr>\n",
       "      <th>Profile Score</th>\n",
       "      <td>9.897403</td>\n",
       "      <td>-0.452028</td>\n",
       "      <td>18.552991</td>\n",
       "      <td>77.806329</td>\n",
       "      <td>-0.362641</td>\n",
       "      <td>76.609537</td>\n",
       "      <td>49.206683</td>\n",
       "      <td>-54.363332</td>\n",
       "      <td>100.000000</td>\n",
       "      <td>59.186006</td>\n",
       "      <td>22.872625</td>\n",
       "    </tr>\n",
       "    <tr>\n",
       "      <th>Existing Customers</th>\n",
       "      <td>8.472145</td>\n",
       "      <td>-0.128333</td>\n",
       "      <td>14.882753</td>\n",
       "      <td>83.236649</td>\n",
       "      <td>-0.016821</td>\n",
       "      <td>83.015510</td>\n",
       "      <td>62.320964</td>\n",
       "      <td>-40.471578</td>\n",
       "      <td>59.186006</td>\n",
       "      <td>100.000000</td>\n",
       "      <td>5.258954</td>\n",
       "    </tr>\n",
       "    <tr>\n",
       "      <th>Employment_Profile</th>\n",
       "      <td>9.341388</td>\n",
       "      <td>0.113170</td>\n",
       "      <td>16.651305</td>\n",
       "      <td>8.353842</td>\n",
       "      <td>0.363012</td>\n",
       "      <td>8.256339</td>\n",
       "      <td>3.675399</td>\n",
       "      <td>-2.515602</td>\n",
       "      <td>22.872625</td>\n",
       "      <td>5.258954</td>\n",
       "      <td>100.000000</td>\n",
       "    </tr>\n",
       "  </tbody>\n",
       "</table>\n",
       "</div>"
      ],
      "text/plain": [
       "                                 Age      gender      Income  Credit Score  \\\n",
       "Age                       100.000000    0.058571   62.310142     12.892876   \n",
       "gender                      0.058571  100.000000    0.090327     -0.201237   \n",
       "Income                     62.310142    0.090327  100.000000     22.569917   \n",
       "Credit Score               12.892876   -0.201237   22.569917    100.000000   \n",
       "Credit History Length      -0.055489    0.967876    0.430498      0.201593   \n",
       "Number of Existing Loans   12.891312   -0.154411   22.528424     99.456648   \n",
       "Loan Tenure                 6.556111   -0.344467   11.365260     64.579168   \n",
       "LTV Ratio                  -3.501122    0.619606   -7.110951    -38.440958   \n",
       "Profile Score               9.897403   -0.452028   18.552991     77.806329   \n",
       "Existing Customers          8.472145   -0.128333   14.882753     83.236649   \n",
       "Employment_Profile          9.341388    0.113170   16.651305      8.353842   \n",
       "\n",
       "                          Credit History Length  Number of Existing Loans  \\\n",
       "Age                                   -0.055489                 12.891312   \n",
       "gender                                 0.967876                 -0.154411   \n",
       "Income                                 0.430498                 22.528424   \n",
       "Credit Score                           0.201593                 99.456648   \n",
       "Credit History Length                100.000000                  0.243148   \n",
       "Number of Existing Loans               0.243148                100.000000   \n",
       "Loan Tenure                           -0.831247                 64.157080   \n",
       "LTV Ratio                              0.728887                -38.470636   \n",
       "Profile Score                         -0.362641                 76.609537   \n",
       "Existing Customers                    -0.016821                 83.015510   \n",
       "Employment_Profile                     0.363012                  8.256339   \n",
       "\n",
       "                          Loan Tenure   LTV Ratio  Profile Score  \\\n",
       "Age                          6.556111   -3.501122       9.897403   \n",
       "gender                      -0.344467    0.619606      -0.452028   \n",
       "Income                      11.365260   -7.110951      18.552991   \n",
       "Credit Score                64.579168  -38.440958      77.806329   \n",
       "Credit History Length       -0.831247    0.728887      -0.362641   \n",
       "Number of Existing Loans    64.157080  -38.470636      76.609537   \n",
       "Loan Tenure                100.000000  -24.954750      49.206683   \n",
       "LTV Ratio                  -24.954750  100.000000     -54.363332   \n",
       "Profile Score               49.206683  -54.363332     100.000000   \n",
       "Existing Customers          62.320964  -40.471578      59.186006   \n",
       "Employment_Profile           3.675399   -2.515602      22.872625   \n",
       "\n",
       "                          Existing Customers  Employment_Profile  \n",
       "Age                                 8.472145            9.341388  \n",
       "gender                             -0.128333            0.113170  \n",
       "Income                             14.882753           16.651305  \n",
       "Credit Score                       83.236649            8.353842  \n",
       "Credit History Length              -0.016821            0.363012  \n",
       "Number of Existing Loans           83.015510            8.256339  \n",
       "Loan Tenure                        62.320964            3.675399  \n",
       "LTV Ratio                         -40.471578           -2.515602  \n",
       "Profile Score                      59.186006           22.872625  \n",
       "Existing Customers                100.000000            5.258954  \n",
       "Employment_Profile                  5.258954          100.000000  "
      ]
     },
     "execution_count": 46,
     "metadata": {},
     "output_type": "execute_result"
    }
   ],
   "source": [
    "x_train.corr()*100"
   ]
  },
  {
   "cell_type": "code",
   "execution_count": 47,
   "id": "51350e06",
   "metadata": {},
   "outputs": [],
   "source": [
    "def correlation(dataset,threhold):\n",
    "    col_corr=set()\n",
    "    corr_matrix=dataset.corr()*100\n",
    "    #print(corr_matrix)\n",
    "    for i in range(len(corr_matrix.columns)):\n",
    "        for j in range(i):\n",
    "            if abs(corr_matrix.iloc[i,j])>threhold:\n",
    "                colname=corr_matrix.columns[i]\n",
    "                #print(colname)\n",
    "                col_corr.add(colname)\n",
    "    return col_corr"
   ]
  },
  {
   "cell_type": "code",
   "execution_count": 48,
   "id": "9d25b217",
   "metadata": {},
   "outputs": [
    {
     "data": {
      "text/plain": [
       "{'Existing Customers', 'Number of Existing Loans'}"
      ]
     },
     "execution_count": 48,
     "metadata": {},
     "output_type": "execute_result"
    }
   ],
   "source": [
    "correlation(x_train,80)"
   ]
  },
  {
   "cell_type": "code",
   "execution_count": 54,
   "id": "483052fd",
   "metadata": {},
   "outputs": [],
   "source": [
    "x_train.drop(['Existing Customers', 'Number of Existing Loans'],axis=1,inplace=True)\n",
    "x_test.drop(['Existing Customers', 'Number of Existing Loans'],axis=1, inplace=True)"
   ]
  },
  {
   "cell_type": "code",
   "execution_count": 55,
   "id": "27e4ecc4",
   "metadata": {},
   "outputs": [
    {
     "data": {
      "text/plain": [
       "((143234, 9), (35808, 9), (35808, 1), (143234, 1))"
      ]
     },
     "execution_count": 55,
     "metadata": {},
     "output_type": "execute_result"
    }
   ],
   "source": [
    "x_test.shape,x_train.shape,y_train.shape,y_test.shape"
   ]
  },
  {
   "cell_type": "markdown",
   "id": "72a3b2e0",
   "metadata": {},
   "source": [
    "# Feature Scaling or Standardization"
   ]
  },
  {
   "cell_type": "code",
   "execution_count": 56,
   "id": "307eb7eb",
   "metadata": {},
   "outputs": [],
   "source": [
    "from sklearn.preprocessing import StandardScaler\n",
    "scaler=StandardScaler()\n",
    "x_train_scaled=scaler.fit_transform(x_train)\n",
    "x_test_scaled=scaler.transform(x_train)\n"
   ]
  },
  {
   "cell_type": "code",
   "execution_count": 57,
   "id": "9d7f692b",
   "metadata": {},
   "outputs": [
    {
     "data": {
      "text/plain": [
       "array([[ 0.39551249, -0.98524814,  1.5955292 , ..., -0.16636016,\n",
       "         0.55607667,  0.76998267],\n",
       "       [ 0.0041117 ,  0.61998279,  0.63990393, ...,  0.696799  ,\n",
       "         0.6372969 ,  0.76998267],\n",
       "       [-0.97439025,  0.61998279, -0.38564515, ...,  0.08688851,\n",
       "         0.92156772,  0.76998267],\n",
       "       ...,\n",
       "       [-0.38728908, -0.98524814, -0.61872448, ...,  0.410195  ,\n",
       "         0.67790702,  0.76998267],\n",
       "       [-1.43102449, -0.98524814, -1.29465455, ...,  1.09477133,\n",
       "        -1.88053036, -0.07328683],\n",
       "       [ 0.33027902, -0.98524814,  0.73313566, ...,  0.04851381,\n",
       "         0.3936362 ,  0.76998267]])"
      ]
     },
     "execution_count": 57,
     "metadata": {},
     "output_type": "execute_result"
    }
   ],
   "source": [
    "x_train_scaled"
   ]
  },
  {
   "cell_type": "markdown",
   "id": "281a9150",
   "metadata": {},
   "source": [
    "# BOX PLOTS TO UNDERSTAND EFFECT OF STANDARD SCALER"
   ]
  },
  {
   "cell_type": "code",
   "execution_count": 62,
   "id": "ba768a79",
   "metadata": {},
   "outputs": [
    {
     "data": {
      "image/png": "[encoded data removed]",
      "text/plain": [
       "<Figure size 1000x300 with 1 Axes>"
      ]
     },
     "metadata": {},
     "output_type": "display_data"
    }
   ],
   "source": [
    "plt.figure(figsize=(10,3))\n",
    "sns.boxplot(x_test);"
   ]
  },
  {
   "cell_type": "code",
   "execution_count": 65,
   "id": "df86d0d3",
   "metadata": {},
   "outputs": [
    {
     "data": {
      "image/png": "[encoded data removed]",
      "text/plain": [
       "<Figure size 1000x300 with 1 Axes>"
      ]
     },
     "metadata": {},
     "output_type": "display_data"
    }
   ],
   "source": [
    "plt.figure(figsize=(10,3))\n",
    "sns.boxplot(x_test_scaled);"
   ]
  },
  {
   "cell_type": "markdown",
   "id": "973bafbe",
   "metadata": {},
   "source": [
    "# Linear Regression Model"
   ]
  },
  {
   "cell_type": "code",
   "execution_count": 66,
   "id": "e46596f2",
   "metadata": {},
   "outputs": [],
   "source": [
    "from sklearn.linear_model import LinearRegression\n",
    "from sklearn.metrics import mean_absolute_error,mean_squared_error,mean_absolute_percentage_error,r2_score"
   ]
  },
  {
   "cell_type": "code",
   "execution_count": 68,
   "id": "00254cc1",
   "metadata": {},
   "outputs": [],
   "source": [
    "reg=LinearRegression()\n",
    "reg.fit(x_train_scaled,y_train)\n",
    "y_pred=reg.predict(x_test_scaled)"
   ]
  },
  {
   "cell_type": "code",
   "execution_count": 73,
   "id": "b2f10dc6",
   "metadata": {},
   "outputs": [
    {
     "data": {
      "text/plain": [
       "((35808, 9), (35808, 1))"
      ]
     },
     "execution_count": 73,
     "metadata": {},
     "output_type": "execute_result"
    }
   ],
   "source": [
    "x_test_scaled.shape,y_pred.shape"
   ]
  },
  {
   "cell_type": "code",
   "execution_count": 74,
   "id": "d6f7d6fc",
   "metadata": {},
   "outputs": [
    {
     "ename": "ValueError",
     "evalue": "y_true and y_pred have different number of output (9!=1)",
     "output_type": "error",
     "traceback": [
      "\u001b[0;31m---------------------------------------------------------------------------\u001b[0m",
      "\u001b[0;31mValueError\u001b[0m                                Traceback (most recent call last)",
      "Cell \u001b[0;32mIn[74], line 1\u001b[0m\n\u001b[0;32m----> 1\u001b[0m mae\u001b[38;5;241m=\u001b[39m\u001b[43mmean_absolute_error\u001b[49m\u001b[43m(\u001b[49m\u001b[43mx_test_scaled\u001b[49m\u001b[43m,\u001b[49m\u001b[43my_pred\u001b[49m\u001b[43m)\u001b[49m\n",
      "File \u001b[0;32m~/anaconda3/lib/python3.10/site-packages/sklearn/metrics/_regression.py:196\u001b[0m, in \u001b[0;36mmean_absolute_error\u001b[0;34m(y_true, y_pred, sample_weight, multioutput)\u001b[0m\n\u001b[1;32m    141\u001b[0m \u001b[38;5;28;01mdef\u001b[39;00m \u001b[38;5;21mmean_absolute_error\u001b[39m(\n\u001b[1;32m    142\u001b[0m     y_true, y_pred, \u001b[38;5;241m*\u001b[39m, sample_weight\u001b[38;5;241m=\u001b[39m\u001b[38;5;28;01mNone\u001b[39;00m, multioutput\u001b[38;5;241m=\u001b[39m\u001b[38;5;124m\"\u001b[39m\u001b[38;5;124muniform_average\u001b[39m\u001b[38;5;124m\"\u001b[39m\n\u001b[1;32m    143\u001b[0m ):\n\u001b[1;32m    144\u001b[0m     \u001b[38;5;124;03m\"\"\"Mean absolute error regression loss.\u001b[39;00m\n\u001b[1;32m    145\u001b[0m \n\u001b[1;32m    146\u001b[0m \u001b[38;5;124;03m    Read more in the :ref:`User Guide <mean_absolute_error>`.\u001b[39;00m\n\u001b[0;32m   (...)\u001b[0m\n\u001b[1;32m    194\u001b[0m \u001b[38;5;124;03m    0.85...\u001b[39;00m\n\u001b[1;32m    195\u001b[0m \u001b[38;5;124;03m    \"\"\"\u001b[39;00m\n\u001b[0;32m--> 196\u001b[0m     y_type, y_true, y_pred, multioutput \u001b[38;5;241m=\u001b[39m \u001b[43m_check_reg_targets\u001b[49m\u001b[43m(\u001b[49m\n\u001b[1;32m    197\u001b[0m \u001b[43m        \u001b[49m\u001b[43my_true\u001b[49m\u001b[43m,\u001b[49m\u001b[43m \u001b[49m\u001b[43my_pred\u001b[49m\u001b[43m,\u001b[49m\u001b[43m \u001b[49m\u001b[43mmultioutput\u001b[49m\n\u001b[1;32m    198\u001b[0m \u001b[43m    \u001b[49m\u001b[43m)\u001b[49m\n\u001b[1;32m    199\u001b[0m     check_consistent_length(y_true, y_pred, sample_weight)\n\u001b[1;32m    200\u001b[0m     output_errors \u001b[38;5;241m=\u001b[39m np\u001b[38;5;241m.\u001b[39maverage(np\u001b[38;5;241m.\u001b[39mabs(y_pred \u001b[38;5;241m-\u001b[39m y_true), weights\u001b[38;5;241m=\u001b[39msample_weight, axis\u001b[38;5;241m=\u001b[39m\u001b[38;5;241m0\u001b[39m)\n",
      "File \u001b[0;32m~/anaconda3/lib/python3.10/site-packages/sklearn/metrics/_regression.py:111\u001b[0m, in \u001b[0;36m_check_reg_targets\u001b[0;34m(y_true, y_pred, multioutput, dtype)\u001b[0m\n\u001b[1;32m    108\u001b[0m     y_pred \u001b[38;5;241m=\u001b[39m y_pred\u001b[38;5;241m.\u001b[39mreshape((\u001b[38;5;241m-\u001b[39m\u001b[38;5;241m1\u001b[39m, \u001b[38;5;241m1\u001b[39m))\n\u001b[1;32m    110\u001b[0m \u001b[38;5;28;01mif\u001b[39;00m y_true\u001b[38;5;241m.\u001b[39mshape[\u001b[38;5;241m1\u001b[39m] \u001b[38;5;241m!=\u001b[39m y_pred\u001b[38;5;241m.\u001b[39mshape[\u001b[38;5;241m1\u001b[39m]:\n\u001b[0;32m--> 111\u001b[0m     \u001b[38;5;28;01mraise\u001b[39;00m \u001b[38;5;167;01mValueError\u001b[39;00m(\n\u001b[1;32m    112\u001b[0m         \u001b[38;5;124m\"\u001b[39m\u001b[38;5;124my_true and y_pred have different number of output (\u001b[39m\u001b[38;5;132;01m{0}\u001b[39;00m\u001b[38;5;124m!=\u001b[39m\u001b[38;5;132;01m{1}\u001b[39;00m\u001b[38;5;124m)\u001b[39m\u001b[38;5;124m\"\u001b[39m\u001b[38;5;241m.\u001b[39mformat(\n\u001b[1;32m    113\u001b[0m             y_true\u001b[38;5;241m.\u001b[39mshape[\u001b[38;5;241m1\u001b[39m], y_pred\u001b[38;5;241m.\u001b[39mshape[\u001b[38;5;241m1\u001b[39m]\n\u001b[1;32m    114\u001b[0m         )\n\u001b[1;32m    115\u001b[0m     )\n\u001b[1;32m    117\u001b[0m n_outputs \u001b[38;5;241m=\u001b[39m y_true\u001b[38;5;241m.\u001b[39mshape[\u001b[38;5;241m1\u001b[39m]\n\u001b[1;32m    118\u001b[0m allowed_multioutput_str \u001b[38;5;241m=\u001b[39m (\u001b[38;5;124m\"\u001b[39m\u001b[38;5;124mraw_values\u001b[39m\u001b[38;5;124m\"\u001b[39m, \u001b[38;5;124m\"\u001b[39m\u001b[38;5;124muniform_average\u001b[39m\u001b[38;5;124m\"\u001b[39m, \u001b[38;5;124m\"\u001b[39m\u001b[38;5;124mvariance_weighted\u001b[39m\u001b[38;5;124m\"\u001b[39m)\n",
      "\u001b[0;31mValueError\u001b[0m: y_true and y_pred have different number of output (9!=1)"
     ]
    }
   ],
   "source": [
    "mae=mean_absolute_error(x_test_scaled,y_pred)\n"
   ]
  },
  {
   "cell_type": "code",
   "execution_count": null,
   "id": "57e99283",
   "metadata": {},
   "outputs": [],
   "source": []
  }
 ],
 "metadata": {
  "kernelspec": {
   "display_name": "Python 3 (ipykernel)",
   "language": "python",
   "name": "python3"
  },
  "language_info": {
   "codemirror_mode": {
    "name": "ipython",
    "version": 3
   },
   "file_extension": ".py",
   "mimetype": "text/x-python",
   "name": "python",
   "nbconvert_exporter": "python",
   "pygments_lexer": "ipython3",
   "version": "3.10.9"
  }
 },
 "nbformat": 4,
 "nbformat_minor": 5
}
