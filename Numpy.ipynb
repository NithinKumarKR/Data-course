{
 "cells": [
  {
   "cell_type": "code",
   "execution_count": null,
   "id": "e5101f3e",
   "metadata": {},
   "outputs": [],
   "source": [
    "import numpy as np \n",
    "import pandas as pd\n",
    "import matplotlib.pyplot as plt\n",
    "import seaborn as sns\n",
    "import warnings\n",
    "warnings.filterwarnings(\"ignore\")"
   ]
  },
  {
   "cell_type": "code",
   "execution_count": null,
   "id": "0b231622",
   "metadata": {},
   "outputs": [],
   "source": [
    "df=pd.read_csv(\"Sales-Export_2019-2020.csv\")"
   ]
  },
  {
   "cell_type": "code",
   "execution_count": null,
   "id": "a80792ed",
   "metadata": {},
   "outputs": [],
   "source": [
    "df"
   ]
  },
  {
   "cell_type": "markdown",
   "id": "63e6a233",
   "metadata": {},
   "source": [
    "# Data Preprocessing 1"
   ]
  },
  {
   "cell_type": "code",
   "execution_count": null,
   "id": "dfaf2c3e",
   "metadata": {},
   "outputs": [],
   "source": [
    "df.shape"
   ]
  },
  {
   "cell_type": "code",
   "execution_count": null,
   "id": "75c6b54a",
   "metadata": {},
   "outputs": [],
   "source": [
    "df.columns"
   ]
  },
  {
   "cell_type": "code",
   "execution_count": null,
   "id": "4aae1269",
   "metadata": {},
   "outputs": [],
   "source": [
    "df.isnull().sum()"
   ]
  },
  {
   "cell_type": "code",
   "execution_count": null,
   "id": "3c5d32cf",
   "metadata": {},
   "outputs": [],
   "source": [
    "df.dtypes"
   ]
  },
  {
   "cell_type": "code",
   "execution_count": null,
   "id": "73701889",
   "metadata": {},
   "outputs": [],
   "source": [
    "df.duplicated().sum()"
   ]
  },
  {
   "cell_type": "code",
   "execution_count": null,
   "id": "dfb4a7f6",
   "metadata": {},
   "outputs": [],
   "source": [
    "df.rename(columns={\" order_value_EUR \":\"order_value_EUR\",\" cost \":\"cost\"},inplace=True)"
   ]
  },
  {
   "cell_type": "code",
   "execution_count": null,
   "id": "19df2199",
   "metadata": {},
   "outputs": [],
   "source": [
    "df.columns"
   ]
  },
  {
   "cell_type": "code",
   "execution_count": null,
   "id": "e8851185",
   "metadata": {},
   "outputs": [],
   "source": [
    "df.describe()"
   ]
  },
  {
   "cell_type": "code",
   "execution_count": null,
   "id": "abdfa7a8",
   "metadata": {},
   "outputs": [],
   "source": [
    "for i in df.columns:\n",
    "    print(df[i].unique())"
   ]
  },
  {
   "cell_type": "markdown",
   "id": "eec1a143",
   "metadata": {},
   "source": [
    "# Explorative Data Analysis"
   ]
  },
  {
   "cell_type": "code",
   "execution_count": null,
   "id": "7608d2ec",
   "metadata": {},
   "outputs": [],
   "source": [
    "df.drop(['order_id','customer_name'],axis=1,inplace=True)"
   ]
  },
  {
   "cell_type": "code",
   "execution_count": null,
   "id": "e2a42f48",
   "metadata": {},
   "outputs": [],
   "source": [
    "df['sales_manager'].unique()"
   ]
  },
  {
   "cell_type": "code",
   "execution_count": null,
   "id": "50773faf",
   "metadata": {},
   "outputs": [],
   "source": [
    "df.columns"
   ]
  },
  {
   "cell_type": "code",
   "execution_count": null,
   "id": "d5776091",
   "metadata": {},
   "outputs": [],
   "source": [
    "df.head()"
   ]
  },
  {
   "cell_type": "code",
   "execution_count": null,
   "id": "23b10012",
   "metadata": {},
   "outputs": [],
   "source": [
    "df.info()"
   ]
  },
  {
   "cell_type": "code",
   "execution_count": null,
   "id": "6b021faf",
   "metadata": {},
   "outputs": [],
   "source": [
    "df['order_value_EUR']=df['order_value_EUR'].str.replace(',','')\n",
    "df['order_value_EUR']=df['order_value_EUR'].astype('float')"
   ]
  },
  {
   "cell_type": "code",
   "execution_count": null,
   "id": "2c0064c6",
   "metadata": {},
   "outputs": [],
   "source": [
    "df['date']=pd.to_datetime(df['date'])"
   ]
  },
  {
   "cell_type": "code",
   "execution_count": null,
   "id": "030c95e4",
   "metadata": {},
   "outputs": [],
   "source": [
    "df.info()"
   ]
  },
  {
   "cell_type": "code",
   "execution_count": null,
   "id": "6a5d92e9",
   "metadata": {},
   "outputs": [],
   "source": [
    "df.describe()"
   ]
  },
  {
   "cell_type": "code",
   "execution_count": null,
   "id": "2af56534",
   "metadata": {},
   "outputs": [],
   "source": [
    "df.info()"
   ]
  },
  {
   "cell_type": "code",
   "execution_count": null,
   "id": "a2d1280c",
   "metadata": {},
   "outputs": [],
   "source": [
    "df['Profit_Loss']=df['order_value_EUR']-df['cost']"
   ]
  },
  {
   "cell_type": "code",
   "execution_count": null,
   "id": "a47a43f2",
   "metadata": {},
   "outputs": [],
   "source": [
    "df.sample(5)"
   ]
  },
  {
   "cell_type": "code",
   "execution_count": null,
   "id": "593712c3",
   "metadata": {},
   "outputs": [],
   "source": [
    "df['year']=df['date'].dt.year\n",
    "df['month']=df['date'].dt.month"
   ]
  },
  {
   "cell_type": "code",
   "execution_count": null,
   "id": "c70a05a7",
   "metadata": {},
   "outputs": [],
   "source": [
    "def Indiidual_Statatics(n):\n",
    "    plt.figure(figsize=(20,15))\n",
    "    Sales='Sales_data_'+str(n)\n",
    "    Sales=pd.pivot_table(df[df['year']==n],values='Profit_Loss',index='sales_manager'\n",
    "                   ,columns='sales_rep',fill_value=0,margins=True,aggfunc='sum')\n",
    "    colors = sns.color_palette(\"Set3\", n_colors=100)\n",
    "\n",
    "    Sales=round(Sales.div(Sales['All'],axis=0)*100,2)\n",
    "    Sales.drop('All',axis=1,inplace=True)\n",
    "    Sales.drop('All',axis=0,inplace=True)\n",
    "    #Sales_data_2020\n",
    "    #Sales_data_2020.columns\n",
    "\n",
    "    cumulative_data = Sales.cumsum(axis=1)\n",
    "\n",
    "    # Create the stacked bar plot for each category\n",
    "    for i, category in enumerate(Sales.columns):\n",
    "        sns.barplot(\n",
    "            x=Sales.index,\n",
    "            y=Sales[category],\n",
    "            color=colors[i],\n",
    "            bottom=cumulative_data.iloc[:, i] - Sales[category]\n",
    "           # ,label=category\n",
    "\n",
    "        )\n",
    "        for j ,value in enumerate(Sales[category]):\n",
    "            bar_center = cumulative_data.iloc[j, i] - value/2\n",
    "            plt.text(j, bar_center,s=(str(category)+'\\n'+ str(value)+'%' if value!=0  else '' ), color='black'\n",
    "                     , ha='center',va='center'\n",
    "                     ,fontsize=15)\n",
    "\n",
    "    # Customize legend with labels and values\n",
    "\n",
    "\n",
    "    plt.xticks(rotation=90,fontsize=20)\n",
    "    plt.yticks(fontsize=20)\n",
    "    plt.xlabel(\"Sales manager on Sales representive\",fontsize=30)\n",
    "    plt.ylabel(\"Profit and Loss Percentage\",fontsize=30)\n",
    "    plt.title(f\"Percentage of Profit and Loss from sales_rep on {n}\",fontsize=30)\n",
    "    plt.tight_layout()\n",
    "    plt.legend( loc='upper left',bbox_to_anchor=(1,1))\n",
    "    plt.show()"
   ]
  },
  {
   "cell_type": "code",
   "execution_count": null,
   "id": "9eedaa69",
   "metadata": {},
   "outputs": [],
   "source": [
    "Indiidual_Statatics(2020)"
   ]
  },
  {
   "cell_type": "code",
   "execution_count": null,
   "id": "b303ab00",
   "metadata": {},
   "outputs": [],
   "source": [
    "Indiidual_Statatics(2019)"
   ]
  },
  {
   "cell_type": "code",
   "execution_count": null,
   "id": "25f5e218",
   "metadata": {},
   "outputs": [],
   "source": [
    "def Indiidual_Stataticson_monthly(n,j):\n",
    "    plt.figure(figsize=(20,10))\n",
    "    Sales='Sales_data_'+str(n)\n",
    "    Sales=pd.pivot_table(df[(df['year']==n) & (df['month']==j)],values='Profit_Loss',index='sales_manager'\n",
    "                   ,columns='sales_rep',fill_value=0,margins=True,aggfunc='sum')\n",
    "    colors = sns.color_palette(\"Set3\", n_colors=100)\n",
    "\n",
    "    Sales=round(Sales.div(Sales['All'],axis=0)*100,2)\n",
    "    Sales.drop('All',axis=1,inplace=True)\n",
    "    Sales.drop('All',axis=0,inplace=True)\n",
    "    #Sales_data_2020\n",
    "    #Sales_data_2020.columns\n",
    "\n",
    "    cumulative_data = Sales.cumsum(axis=1)\n",
    "\n",
    "    # Create the stacked bar plot for each category\n",
    "    for i, category in enumerate(Sales.columns):\n",
    "        sns.barplot(\n",
    "            x=Sales.index,\n",
    "            y=Sales[category],\n",
    "            color=colors[i],\n",
    "            bottom=cumulative_data.iloc[:, i] - Sales[category]\n",
    "           # ,label=category\n",
    "\n",
    "        )\n",
    "        for j ,value in enumerate(Sales[category]):\n",
    "            bar_center = cumulative_data.iloc[j, i] - value/2\n",
    "            plt.text(j, bar_center,s=(str(category)+'\\n'+ str(value)+'%' if value!=0  else '' ), color='black'\n",
    "                     , ha='center',va='center'\n",
    "                     ,fontsize=15)\n",
    "\n",
    "    # Customize legend with labels and values\n",
    "\n",
    "\n",
    "    plt.xticks(rotation=90,fontsize=20)\n",
    "    plt.yticks(fontsize=20)\n",
    "    plt.xlabel(\"Sales manager on Sales representive\",fontsize=30)\n",
    "    plt.ylabel(\"Profit and Loss Percentage\",fontsize=30)\n",
    "    plt.title(f\"Percentage of Profit and Loss from sales_rep on {n}\",fontsize=30)\n",
    "    plt.tight_layout()\n",
    "    plt.legend( loc='upper left',bbox_to_anchor=(1,1))\n",
    "    plt.show()"
   ]
  },
  {
   "cell_type": "code",
   "execution_count": null,
   "id": "c966f38b",
   "metadata": {},
   "outputs": [],
   "source": [
    "Indiidual_Stataticson_monthly(2020,3)"
   ]
  },
  {
   "cell_type": "raw",
   "id": "1498a2a5",
   "metadata": {},
   "source": [
    "import tkinter as tk\n",
    "from tkinter import ttk\n",
    "\n",
    "def on_dropdown_select():\n",
    "    selected_value = dropdown_var.get()\n",
    "    result_label.config(text=f\"Selected: {Indiidual_Stataticson_monthly(2020,3)}\")\n",
    "    result_label.after(2000, lambda: result_label.config(text=\"\"))\n",
    "\n",
    "# Create the main application window\n",
    "root = tk.Tk()\n",
    "root.title(\"Simple Dropdown Example\")\n",
    "\n",
    "# Create a variable to store the selected value from the dropdown\n",
    "dropdown_var = tk.StringVar()\n",
    "\n",
    "# Create a dropdown menu\n",
    "dropdown = ttk.Combobox(root, textvariable=dropdown_var)\n",
    "dropdown['values'] = ('Option 1', 'Option 2', 'Option 3')\n",
    "dropdown.pack(padx=20, pady=10)\n",
    "\n",
    "# Create a button to display the selected value\n",
    "show_button = tk.Button(root, text=\"Show Selection\", command=on_dropdown_select)\n",
    "show_button.pack(pady=5)\n",
    "\n",
    "# Create a label to display the selected value\n",
    "result_label = tk.Label(root, text=\"\")\n",
    "result_label.pack(pady=10)\n",
    "\n",
    "# Start the main event loop\n",
    "root.mainloop()\n"
   ]
  },
  {
   "cell_type": "code",
   "execution_count": null,
   "id": "ecedc447",
   "metadata": {},
   "outputs": [],
   "source": [
    "df.sample(5)"
   ]
  },
  {
   "cell_type": "code",
   "execution_count": null,
   "id": "c5782650",
   "metadata": {},
   "outputs": [],
   "source": [
    "import pandas as pd\n",
    "import datetime \n",
    "import os\n",
    "import datetime \n",
    "current_time = datetime.datetime.now()\n",
    "\n",
    "today_d = datetime.date.today()\n",
    "today = today.strftime(\"%Y_%m_%d\")\n",
    "datetime_today = datetime.datetime.today()\n",
    "today_file = today_d.strftime(\"%d_%m_%Y\")\n",
    "file_path = str(os.getenv('report_dir_user')+today_file)+'/'"
   ]
  },
  {
   "cell_type": "code",
   "execution_count": null,
   "id": "32aee336",
   "metadata": {},
   "outputs": [],
   "source": [
    "data=pd.read_csv(\"result.csv\")"
   ]
  },
  {
   "cell_type": "code",
   "execution_count": null,
   "id": "bd26c942",
   "metadata": {},
   "outputs": [],
   "source": [
    "data"
   ]
  },
  {
   "cell_type": "code",
   "execution_count": null,
   "id": "20565376",
   "metadata": {},
   "outputs": [],
   "source": [
    "tmo_rule_filters={\n",
    "    1:{'past_date':30,\n",
    "       'amount_creteria':0,\n",
    "       'type':['PG','DIRECT_CREDIT'],\n",
    "       'count_records':40},\n",
    "    2:{'past_date':30,\n",
    "       'amount_creteria':25000,\n",
    "       'income_outcome%':[90,110],\n",
    "       'txn_type_income':['DIRECT_CREDIT','PG']},\n",
    "    3:{'past_month':1,\n",
    "       'amount_creteria':50000,\n",
    "       'count_records':3,\n",
    "       'type':['PG','DIRECT_CREDIT']\n",
    "       },\n",
    "    4:{'past_month':1,\n",
    "       'amount_creteria':50000,\n",
    "       'type':['DIRECT_CREDIT','PG'],\n",
    "       'credit_limit':12000,\n",
    "       'credit_limit%':90},\n",
    "    5:{'past_month':1,\n",
    "       'amount_creteria':50000,\n",
    "       'income_creteria':20000,\n",
    "       'count_records':1,\n",
    "       'income%':100,\n",
    "       'type':['PG','DIRECT_CREDIT']\n",
    "       },\n",
    "    6:{'past_month':1,\n",
    "       'amount_creteria':40000,\n",
    "       'type':['DIRECT_CREDIT','PG'],\n",
    "       'income%':75}}\n",
    "    "
   ]
  },
  {
   "cell_type": "code",
   "execution_count": null,
   "id": "4476c109",
   "metadata": {},
   "outputs": [],
   "source": [
    "data['Transactions Date/Timestamp']= pd.to_datetime(data['Transactions Date/Timestamp'])"
   ]
  },
  {
   "cell_type": "code",
   "execution_count": null,
   "id": "ad20c16c",
   "metadata": {},
   "outputs": [],
   "source": [
    "data = data[(data['Transactions Date/Timestamp'] >= datetime.datetime.now() - \n",
    "             pd.Timedelta(days=tmo_rule_filters[1]['past_date'])) &\n",
    "            (data['Transactions Date/Timestamp'] <= datetime.datetime.now())&\n",
    "            (data['Amount']>=tmo_rule_filters[1]['amount_creteria'])\n",
    "            & data['Type (Transaction/Repayment)'].isin(tmo_rule_filters[1]['type'])]"
   ]
  },
  {
   "cell_type": "code",
   "execution_count": null,
   "id": "2e3b3f65",
   "metadata": {},
   "outputs": [],
   "source": [
    "data.shape[0]"
   ]
  },
  {
   "cell_type": "code",
   "execution_count": null,
   "id": "d73d8d42",
   "metadata": {},
   "outputs": [],
   "source": [
    "tmo_rules_name = {\n",
    "    1:'Excessive Daily Funds Deposits',\n",
    "    2:'Flow Through of Funds (Long Period)',\n",
    "    3:'Frequent Card Repayments',\n",
    "    4:'Payment Activity In Excess Of Credit Line',\n",
    "    5:'High Payments In Comparison To Income',\n",
    "    6:'Transactions Turnover In Comparison To Income',\n",
    "    7:'Flow Through of Funds (High Risk Countries)',\n",
    "    }\n",
    "alert_file_struct=['Alert #','Rule Name','TXN ID','Cust ID','Transactions Date/Timestamp','Amount',\n",
    "     'Merchant Name','Merchant ID','Type (Transaction/Repayment)','Payment Method Type','Bank ID']"
   ]
  },
  {
   "cell_type": "code",
   "execution_count": null,
   "id": "ca545479",
   "metadata": {},
   "outputs": [],
   "source": [
    "if data.shape[0]>=tmo_rule_filters[1]['count_records']:\n",
    "    data['Alert #'] = 1\n",
    "    data.loc[(data['Type (Transaction/Repayment)'].isin(tmo_rule_filters[1]['type'])) &\n",
    "             (data['Bank ID'].isnull()),['Bank ID','Payment Method Type']] = 123,'netbanking'\n",
    "    print(data)\n",
    "    #print(data)\n"
   ]
  },
  {
   "cell_type": "code",
   "execution_count": 6,
   "id": "17b7329f",
   "metadata": {},
   "outputs": [
    {
     "name": "stdout",
     "output_type": "stream",
     "text": [
      "2\n"
     ]
    }
   ],
   "source": [
    "import datetime\n",
    "\n",
    "mydate = datetime.datetime.now()\n",
    "formatted_date = mydate.strftime(\"%2\")\n",
    "print(formatted_date)"
   ]
  },
  {
   "cell_type": "code",
   "execution_count": 13,
   "id": "5506c846",
   "metadata": {},
   "outputs": [
    {
     "data": {
      "text/plain": [
       "'January'"
      ]
     },
     "execution_count": 13,
     "metadata": {},
     "output_type": "execute_result"
    }
   ],
   "source": [
    "import calendar\n",
    "month_name = calendar.month_name[1]\n",
    "month_name\n"
   ]
  },
  {
   "cell_type": "code",
   "execution_count": 3,
   "id": "7b36a6d9",
   "metadata": {},
   "outputs": [
    {
     "name": "stdout",
     "output_type": "stream",
     "text": [
      "\u001b[31mERROR: Could not find a version that satisfies the requirement calender (from versions: none)\u001b[0m\u001b[31m\n",
      "\u001b[0m\u001b[31mERROR: No matching distribution found for calender\u001b[0m\u001b[31m\n",
      "\u001b[0mNote: you may need to restart the kernel to use updated packages.\n"
     ]
    }
   ],
   "source": [
    "pip install calender"
   ]
  },
  {
   "cell_type": "code",
   "execution_count": null,
   "id": "a40a49d1",
   "metadata": {},
   "outputs": [],
   "source": []
  }
 ],
 "metadata": {
  "kernelspec": {
   "display_name": "Python 3 (ipykernel)",
   "language": "python",
   "name": "python3"
  },
  "language_info": {
   "codemirror_mode": {
    "name": "ipython",
    "version": 3
   },
   "file_extension": ".py",
   "mimetype": "text/x-python",
   "name": "python",
   "nbconvert_exporter": "python",
   "pygments_lexer": "ipython3",
   "version": "3.10.9"
  }
 },
 "nbformat": 4,
 "nbformat_minor": 5
}
