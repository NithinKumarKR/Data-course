{
 "cells": [
  {
   "cell_type": "code",
   "execution_count": 1,
   "id": "26793c46",
   "metadata": {},
   "outputs": [],
   "source": [
    "import requests"
   ]
  },
  {
   "cell_type": "code",
   "execution_count": 2,
   "id": "fd3a049a",
   "metadata": {},
   "outputs": [],
   "source": [
    "from bs4 import BeautifulSoup as bs"
   ]
  },
  {
   "cell_type": "code",
   "execution_count": 3,
   "id": "b4a4aae7",
   "metadata": {},
   "outputs": [],
   "source": [
    "from urllib.request import urlopen\n",
    "import logging"
   ]
  },
  {
   "cell_type": "code",
   "execution_count": null,
   "id": "132cd03e",
   "metadata": {},
   "outputs": [],
   "source": [
    "fc_url=\"https://www.flipkart.com/search?q=\"+\"tv\""
   ]
  },
  {
   "cell_type": "code",
   "execution_count": null,
   "id": "bc1802d6",
   "metadata": {},
   "outputs": [],
   "source": [
    "fc_url"
   ]
  },
  {
   "cell_type": "code",
   "execution_count": null,
   "id": "c23761b0",
   "metadata": {},
   "outputs": [],
   "source": [
    "urlclient=urlopen(fc_url)\n",
    "fc_page=urlclient.read()"
   ]
  },
  {
   "cell_type": "code",
   "execution_count": null,
   "id": "92c4e78e",
   "metadata": {},
   "outputs": [],
   "source": [
    "fc_html=bs(fc_page,\"html.parser\")"
   ]
  },
  {
   "cell_type": "code",
   "execution_count": null,
   "id": "bfd75e1b",
   "metadata": {},
   "outputs": [],
   "source": [
    "big_box=fc_html.find_all(\"div\",{\"class\":\"_1AtVbE col-12-12\"})"
   ]
  },
  {
   "cell_type": "code",
   "execution_count": null,
   "id": "6e30bbab",
   "metadata": {},
   "outputs": [],
   "source": [
    "len(big_box)"
   ]
  },
  {
   "cell_type": "code",
   "execution_count": null,
   "id": "81fb41eb",
   "metadata": {},
   "outputs": [],
   "source": [
    "del big_box[0:3]"
   ]
  },
  {
   "cell_type": "code",
   "execution_count": null,
   "id": "3171be7d",
   "metadata": {},
   "outputs": [],
   "source": [
    "podu'https://www.flipkart.com'+big_box[0].div.div.div.a['href']"
   ]
  },
  {
   "cell_type": "code",
   "execution_count": null,
   "id": "41d31d68",
   "metadata": {},
   "outputs": [],
   "source": [
    "for i in range(len(big_box)):\n",
    "    print(i,'https://www.flipkart.com'+big_box[i].div.div.div.a['href'])\n",
    "    "
   ]
  },
  {
   "cell_type": "code",
   "execution_count": null,
   "id": "7ba84dfa",
   "metadata": {},
   "outputs": [],
   "source": [
    "product=\"https://www.flipkart.com/mi-x-series-108-cm-43-inch-ultra-hd-4k-led-smart-android-tv-dolby-vision-30w-audio-2022-model/product-reviews/itm39b39b602f81a?pid=TVSGHEQVGZVTSEBT&lid=LSTTVSGHEQVGZVTSEBT6BSNVA&marketplace=FLIPKART&page=1\""
   ]
  },
  {
   "cell_type": "code",
   "execution_count": null,
   "id": "a1e92d37",
   "metadata": {},
   "outputs": [],
   "source": [
    "product_requests=requests.get(product)\n",
    "\n",
    "product_requests_html=bs(product_requests.text,\"html.parser\")\n",
    "\n",
    "big=product_requests_html.find_all(\"div\",{\"class\":\"col _2wzgFH K0kLPL\"})\n",
    "\n",
    "len(big)\n"
   ]
  },
  {
   "cell_type": "code",
   "execution_count": 12,
   "id": "793c9e6a",
   "metadata": {},
   "outputs": [],
   "source": [
    "def inside_fun(path_input,class_input):\n",
    "    try:\n",
    "        return big[path_input].find_all(\"p\",{\"class\": class_input})[0].text\n",
    "    except IndexError as Ie:\n",
    "        pass\n",
    "    finally:\n",
    "        pass"
   ]
  },
  {
   "cell_type": "code",
   "execution_count": 13,
   "id": "28c0558a",
   "metadata": {},
   "outputs": [],
   "source": [
    "def review_point(path_input,class_input):\n",
    "    for child in big[path_input].children:\n",
    "        if child.find_all(\"div\",{\"class\":class_input}):\n",
    "             return (child.find_all(\"div\",{\"class\":class_input})[0].text)\n",
    "        else:\n",
    "            pass"
   ]
  },
  {
   "cell_type": "code",
   "execution_count": 14,
   "id": "a194addf",
   "metadata": {},
   "outputs": [],
   "source": [
    "def comments(i):\n",
    "    return big[i].find(\"div\",{\"class\": \"\"}).text[:-9]"
   ]
  },
  {
   "cell_type": "code",
   "execution_count": 15,
   "id": "8654652e",
   "metadata": {},
   "outputs": [
    {
     "name": "stdout",
     "output_type": "stream",
     "text": [
      "Flipkart Arijit Dutta : Super! : Beautiful TV. Picture quality very good.. : 5\n",
      "Mannu Choudhary  : Simply awesome : So good 4k mood : 5\n",
      "Bablu Kumar Gupta : Terrific : Wonderful : 5\n",
      "Rakesh Kumar : Decent product : Good 😊😊😊 : 3\n",
      "y sunil : Super! : Value for moneyPicture quality is very good and clearSound quality is amazingConnectivity is goodTv look was smartI give 5star rating this tv : 5\n",
      "Zain Mirza : Unsatisfactory : Don't buy online defective tv sending my TV's usb port not working and i try to replacement product but not answering any one very worst service ever..no any one response service technician and flipkart support team... : None\n",
      "Joy Thalikulam : Terrific purchase : Very Good : 5\n",
      "Rj Biswajit Sahoo : Classy product : Picture quality 4.8/5Sound quality 4.4/5Budget 4.1/5Design 5/5Worth. Go for it😊Happy costumer ☺ : 5\n",
      "Anmol Raj : Good choice : This is a very good 4k TV in this price you can buy without any doubt. Thank u flipkart : 4\n",
      "Amit Kumar Gavel : Worth every penny : Best 50inch 4k tv in under 30k : 5\n"
     ]
    }
   ],
   "source": [
    "for i in range(len(big)):  #_3LWZlK _1BLPMq\n",
    "    print(inside_fun(i,\"_2sc7ZR _2V5EHH\")\n",
    "          ,\":\",inside_fun(i,\"_2-N8zT\")\n",
    "        ,\":\",comments(i)\n",
    "          ,\":\",review_point(i,\"_3LWZlK _1BLPMq\")\n",
    "        \n",
    "    )   "
   ]
  },
  {
   "cell_type": "code",
   "execution_count": 10,
   "id": "7bd138cb",
   "metadata": {},
   "outputs": [],
   "source": [
    "import pandas as pd"
   ]
  },
  {
   "cell_type": "code",
   "execution_count": null,
   "id": "2ed55e14",
   "metadata": {},
   "outputs": [],
   "source": [
    "#for i in range(len(big)):\n",
    "print(pd.DataFrame([inside_fun(i,\"_2sc7ZR _2V5EHH\"),inside_fun(i,\"_2-N8zT\")]))"
   ]
  },
  {
   "cell_type": "code",
   "execution_count": null,
   "id": "b937e176",
   "metadata": {},
   "outputs": [],
   "source": [
    "name_of_client=[]\n",
    "review=[]\n",
    "review_stars=[]\n",
    "review_comments=[]\n",
    "for i in range(len(big)):  #_3LWZlK _1BLPMq\n",
    "    name_of_client.append(inside_fun(i,\"_2sc7ZR _2V5EHH\"))\n",
    "    review.append(inside_fun(i,\"_2-N8zT\"))\n",
    "    review_comments.append(comments(i))\n",
    "    review_stars.append(review_point(i,\"_3LWZlK _1BLPMq\"))\n"
   ]
  },
  {
   "cell_type": "code",
   "execution_count": null,
   "id": "642c2db2",
   "metadata": {},
   "outputs": [],
   "source": [
    "name_of_client"
   ]
  },
  {
   "cell_type": "code",
   "execution_count": null,
   "id": "74752209",
   "metadata": {},
   "outputs": [],
   "source": [
    "df=pd.DataFrame({\"name\":name_of_client\n",
    "                 ,\"review_stars\":review_stars\n",
    "                 ,\"review\":review,\n",
    "                 \"review_comments\":review_comments})"
   ]
  },
  {
   "cell_type": "code",
   "execution_count": null,
   "id": "4e6d0078",
   "metadata": {},
   "outputs": [],
   "source": [
    "df"
   ]
  },
  {
   "cell_type": "code",
   "execution_count": null,
   "id": "18f73b4b",
   "metadata": {},
   "outputs": [],
   "source": [
    "product=\"https://www.flipkart.com/mi-x-series-108-cm-43-inch-ultra-hd-4k-led-smart-android-tv-dolby-vision-30w-audio-2022-model/product-reviews/itm39b39b602f81a?pid=TVSGHEQVGZVTSEBT&lid=LSTTVSGHEQVGZVTSEBT6BSNVA&marketplace=FLIPKART&page=2\""
   ]
  },
  {
   "cell_type": "code",
   "execution_count": null,
   "id": "c2ff819a",
   "metadata": {},
   "outputs": [],
   "source": [
    "product_requests=requests.get(product)\n",
    "\n",
    "product_requests_html=bs(product_requests.text,\"html.parser\")\n",
    "\n",
    "big=product_requests_html.find_all(\"div\",{\"class\":\"col _2wzgFH K0kLPL\"})\n",
    "\n",
    "len(big)\n"
   ]
  },
  {
   "cell_type": "code",
   "execution_count": null,
   "id": "9b2d4660",
   "metadata": {},
   "outputs": [],
   "source": [
    "name_of_client=[]\n",
    "review=[]\n",
    "review_stars=[]\n",
    "review_comments=[]\n",
    "for i in range(len(big)):  #_3LWZlK _1BLPMq\n",
    "    name_of_client.append(inside_fun(i,\"_2sc7ZR _2V5EHH\"))\n",
    "    review.append(inside_fun(i,\"_2-N8zT\"))\n",
    "    review_comments.append(comments(i))\n",
    "    review_stars.append(review_point(i,\"_3LWZlK _1BLPMq\"))\n"
   ]
  },
  {
   "cell_type": "code",
   "execution_count": null,
   "id": "f97f96c4",
   "metadata": {},
   "outputs": [],
   "source": [
    "df=pd.DataFrame({\"name\":name_of_client\n",
    "                 ,\"review_stars\":review_stars\n",
    "                 ,\"review\":review,\n",
    "                 \"review_comments\":review_comments})"
   ]
  },
  {
   "cell_type": "code",
   "execution_count": null,
   "id": "c62d528b",
   "metadata": {},
   "outputs": [],
   "source": [
    "df[\"review_comments\"]"
   ]
  },
  {
   "cell_type": "code",
   "execution_count": null,
   "id": "09533cc4",
   "metadata": {},
   "outputs": [],
   "source": [
    "        product=\"https://www.flipkart.com/mi-x-series-108-cm-43-inch-ultra-hd-4k-led-smart-android-tv-dolby-vision-30w-audio-2022-model/product-reviews/itm39b39b602f81a?pid=TVSGHEQVGZVTSEBT&lid=LSTTVSGHEQVGZVTSEBT6BSNVA&marketplace=FLIPKART&page=2\""
   ]
  },
  {
   "cell_type": "code",
   "execution_count": 5,
   "id": "c67e9269",
   "metadata": {},
   "outputs": [],
   "source": [
    "product=\"https://www.flipkart.com/mi-x-series-108-cm-43-inch-ultra-hd-4k-led-smart-android-tv-dolby-vision-30w-audio-2022-model/product-reviews/itm39b39b602f81a?pid=TVSGHEQVGZVTSEBT&lid=LSTTVSGHEQVGZVTSEBT6BSNVA&marketplace=FLIPKART&page=\""
   ]
  },
  {
   "cell_type": "code",
   "execution_count": 17,
   "id": "fe5fd252",
   "metadata": {},
   "outputs": [
    {
     "name": "stdout",
     "output_type": "stream",
     "text": [
      "                      name review_stars                 review  \\\n",
      "0    Flipkart Arijit Dutta            5                 Super!   \n",
      "1         Mannu Choudhary             5         Simply awesome   \n",
      "2        Bablu Kumar Gupta            5               Terrific   \n",
      "3             Rakesh Kumar            3         Decent product   \n",
      "4                  y sunil            5                 Super!   \n",
      "..                     ...          ...                    ...   \n",
      "485      Flipkart Customer            5          Great product   \n",
      "486       JITENDRA  JAGTAP            4        Value-for-money   \n",
      "487             Anup Singh            5               Terrific   \n",
      "488               Rajesh G         None  Slightly disappointed   \n",
      "489                Sohan H            5    Best in the market!   \n",
      "\n",
      "                                       review_comments  \n",
      "0            Beautiful TV. Picture quality very good..  \n",
      "1                                      So good 4k mood  \n",
      "2                                            Wonderful  \n",
      "3                                             Good 😊😊😊  \n",
      "4    Value for moneyPicture quality is very good an...  \n",
      "..                                                 ...  \n",
      "485  I have used smart tvs from LG, Samsung and Son...  \n",
      "486                                       Nice product  \n",
      "487                      Amazing experience with this.  \n",
      "488  Using after one month I'm writing this review....  \n",
      "489                               Nice value for money  \n",
      "\n",
      "[490 rows x 4 columns]\n"
     ]
    }
   ],
   "source": [
    "new_df=pd.DataFrame()\n",
    "for i in range(50):\n",
    "    new_pro=product+str(i)\n",
    "    product_requests=requests.get(new_pro)\n",
    "    product_requests_html=bs(product_requests.text,\"html.parser\")\n",
    "\n",
    "    big=product_requests_html.find_all(\"div\",{\"class\":\"col _2wzgFH K0kLPL\"})\n",
    "\n",
    "   # print(i,len(big))\n",
    "    name_of_client=[]\n",
    "    review=[]\n",
    "    review_stars=[]\n",
    "    review_comments=[]\n",
    "    for i in range(len(big)):  #_3LWZlK _1BLPMq\n",
    "        name_of_client.append(inside_fun(i,\"_2sc7ZR _2V5EHH\"))\n",
    "        review.append(inside_fun(i,\"_2-N8zT\"))\n",
    "        review_comments.append(comments(i))\n",
    "        review_stars.append(review_point(i,\"_3LWZlK _1BLPMq\"))\n",
    "    df=pd.DataFrame({\"name\":name_of_client\n",
    "                 ,\"review_stars\":review_stars\n",
    "                 ,\"review\":review,\n",
    "                 \"review_comments\":review_comments})\n",
    "    new_df=pd.concat([new_df,df],ignore_index=True)\n",
    "print(new_df)"
   ]
  },
  {
   "cell_type": "code",
   "execution_count": 19,
   "id": "0648e55c",
   "metadata": {},
   "outputs": [
    {
     "data": {
      "text/html": [
       "<div>\n",
       "<style scoped>\n",
       "    .dataframe tbody tr th:only-of-type {\n",
       "        vertical-align: middle;\n",
       "    }\n",
       "\n",
       "    .dataframe tbody tr th {\n",
       "        vertical-align: top;\n",
       "    }\n",
       "\n",
       "    .dataframe thead th {\n",
       "        text-align: right;\n",
       "    }\n",
       "</style>\n",
       "<table border=\"1\" class=\"dataframe\">\n",
       "  <thead>\n",
       "    <tr style=\"text-align: right;\">\n",
       "      <th></th>\n",
       "      <th>name</th>\n",
       "      <th>review_stars</th>\n",
       "      <th>review</th>\n",
       "      <th>review_comments</th>\n",
       "    </tr>\n",
       "  </thead>\n",
       "  <tbody>\n",
       "    <tr>\n",
       "      <th>485</th>\n",
       "      <td>Flipkart Customer</td>\n",
       "      <td>5</td>\n",
       "      <td>Great product</td>\n",
       "      <td>I have used smart tvs from LG, Samsung and Son...</td>\n",
       "    </tr>\n",
       "    <tr>\n",
       "      <th>486</th>\n",
       "      <td>JITENDRA  JAGTAP</td>\n",
       "      <td>4</td>\n",
       "      <td>Value-for-money</td>\n",
       "      <td>Nice product</td>\n",
       "    </tr>\n",
       "    <tr>\n",
       "      <th>487</th>\n",
       "      <td>Anup Singh</td>\n",
       "      <td>5</td>\n",
       "      <td>Terrific</td>\n",
       "      <td>Amazing experience with this.</td>\n",
       "    </tr>\n",
       "    <tr>\n",
       "      <th>488</th>\n",
       "      <td>Rajesh G</td>\n",
       "      <td>None</td>\n",
       "      <td>Slightly disappointed</td>\n",
       "      <td>Using after one month I'm writing this review....</td>\n",
       "    </tr>\n",
       "    <tr>\n",
       "      <th>489</th>\n",
       "      <td>Sohan H</td>\n",
       "      <td>5</td>\n",
       "      <td>Best in the market!</td>\n",
       "      <td>Nice value for money</td>\n",
       "    </tr>\n",
       "  </tbody>\n",
       "</table>\n",
       "</div>"
      ],
      "text/plain": [
       "                  name review_stars                 review  \\\n",
       "485  Flipkart Customer            5          Great product   \n",
       "486   JITENDRA  JAGTAP            4        Value-for-money   \n",
       "487         Anup Singh            5               Terrific   \n",
       "488           Rajesh G         None  Slightly disappointed   \n",
       "489            Sohan H            5    Best in the market!   \n",
       "\n",
       "                                       review_comments  \n",
       "485  I have used smart tvs from LG, Samsung and Son...  \n",
       "486                                       Nice product  \n",
       "487                      Amazing experience with this.  \n",
       "488  Using after one month I'm writing this review....  \n",
       "489                               Nice value for money  "
      ]
     },
     "execution_count": 19,
     "metadata": {},
     "output_type": "execute_result"
    }
   ],
   "source": [
    "new_df.tail()"
   ]
  },
  {
   "cell_type": "code",
   "execution_count": 32,
   "id": "14f5096a",
   "metadata": {},
   "outputs": [],
   "source": [
    "new_df_without_stars=new_df[pd.isnull(new_df[\"review_stars\"])]"
   ]
  },
  {
   "cell_type": "code",
   "execution_count": 36,
   "id": "a611d9e9",
   "metadata": {},
   "outputs": [
    {
     "data": {
      "text/html": [
       "<div>\n",
       "<style scoped>\n",
       "    .dataframe tbody tr th:only-of-type {\n",
       "        vertical-align: middle;\n",
       "    }\n",
       "\n",
       "    .dataframe tbody tr th {\n",
       "        vertical-align: top;\n",
       "    }\n",
       "\n",
       "    .dataframe thead th {\n",
       "        text-align: right;\n",
       "    }\n",
       "</style>\n",
       "<table border=\"1\" class=\"dataframe\">\n",
       "  <thead>\n",
       "    <tr style=\"text-align: right;\">\n",
       "      <th></th>\n",
       "      <th>name</th>\n",
       "      <th>review_stars</th>\n",
       "      <th>review</th>\n",
       "      <th>review_comments</th>\n",
       "    </tr>\n",
       "  </thead>\n",
       "  <tbody>\n",
       "    <tr>\n",
       "      <th>416</th>\n",
       "      <td>AMIT BADAYA</td>\n",
       "      <td>None</td>\n",
       "      <td>Not recommended at all</td>\n",
       "      <td>Very poor post sale service</td>\n",
       "    </tr>\n",
       "    <tr>\n",
       "      <th>138</th>\n",
       "      <td>Deepak Arya</td>\n",
       "      <td>None</td>\n",
       "      <td>Bad quality</td>\n",
       "      <td>1mounth after tv screen proper black.....plsss...</td>\n",
       "    </tr>\n",
       "    <tr>\n",
       "      <th>222</th>\n",
       "      <td>Keella Ganesh</td>\n",
       "      <td>None</td>\n",
       "      <td>Expected a better product</td>\n",
       "      <td>Hanging mobile connect TV</td>\n",
       "    </tr>\n",
       "    <tr>\n",
       "      <th>157</th>\n",
       "      <td>Pranab Chatterjee</td>\n",
       "      <td>None</td>\n",
       "      <td>No person/Support to install</td>\n",
       "      <td>Purchased but no one is there to install the T...</td>\n",
       "    </tr>\n",
       "    <tr>\n",
       "      <th>465</th>\n",
       "      <td>Flipkart Customer</td>\n",
       "      <td>None</td>\n",
       "      <td>Very poor</td>\n",
       "      <td>Volume is too bad</td>\n",
       "    </tr>\n",
       "    <tr>\n",
       "      <th>474</th>\n",
       "      <td>Mukesh Vishwakarma</td>\n",
       "      <td>None</td>\n",
       "      <td>Useless product</td>\n",
       "      <td>I bought MI TV only 5 months ago and the probl...</td>\n",
       "    </tr>\n",
       "    <tr>\n",
       "      <th>175</th>\n",
       "      <td>Bhagwan mehetre</td>\n",
       "      <td>None</td>\n",
       "      <td>Waste of money!</td>\n",
       "      <td>After one month  automatically  display bright...</td>\n",
       "    </tr>\n",
       "    <tr>\n",
       "      <th>193</th>\n",
       "      <td>Ravi</td>\n",
       "      <td>None</td>\n",
       "      <td>Horrible</td>\n",
       "      <td>Bad video quality</td>\n",
       "    </tr>\n",
       "    <tr>\n",
       "      <th>131</th>\n",
       "      <td>Bala</td>\n",
       "      <td>None</td>\n",
       "      <td>Very poor</td>\n",
       "      <td>Worst it worked only 6 to 7 hours and dead aft...</td>\n",
       "    </tr>\n",
       "    <tr>\n",
       "      <th>11</th>\n",
       "      <td>Sweety Arora</td>\n",
       "      <td>None</td>\n",
       "      <td>Utterly Disappointed</td>\n",
       "      <td>TV stop working the same day of installation.N...</td>\n",
       "    </tr>\n",
       "  </tbody>\n",
       "</table>\n",
       "</div>"
      ],
      "text/plain": [
       "                   name review_stars                        review  \\\n",
       "416         AMIT BADAYA         None        Not recommended at all   \n",
       "138         Deepak Arya         None                   Bad quality   \n",
       "222       Keella Ganesh         None     Expected a better product   \n",
       "157   Pranab Chatterjee         None  No person/Support to install   \n",
       "465   Flipkart Customer         None                     Very poor   \n",
       "474  Mukesh Vishwakarma         None               Useless product   \n",
       "175     Bhagwan mehetre         None               Waste of money!   \n",
       "193                Ravi         None                      Horrible   \n",
       "131                Bala         None                     Very poor   \n",
       "11         Sweety Arora         None          Utterly Disappointed   \n",
       "\n",
       "                                       review_comments  \n",
       "416                        Very poor post sale service  \n",
       "138  1mounth after tv screen proper black.....plsss...  \n",
       "222                          Hanging mobile connect TV  \n",
       "157  Purchased but no one is there to install the T...  \n",
       "465                                  Volume is too bad  \n",
       "474  I bought MI TV only 5 months ago and the probl...  \n",
       "175  After one month  automatically  display bright...  \n",
       "193                                  Bad video quality  \n",
       "131  Worst it worked only 6 to 7 hours and dead aft...  \n",
       "11   TV stop working the same day of installation.N...  "
      ]
     },
     "execution_count": 36,
     "metadata": {},
     "output_type": "execute_result"
    }
   ],
   "source": [
    "new_df_without_stars.sample(10)"
   ]
  },
  {
   "cell_type": "code",
   "execution_count": 37,
   "id": "e247d07a",
   "metadata": {},
   "outputs": [
    {
     "data": {
      "text/html": [
       "<div>\n",
       "<style scoped>\n",
       "    .dataframe tbody tr th:only-of-type {\n",
       "        vertical-align: middle;\n",
       "    }\n",
       "\n",
       "    .dataframe tbody tr th {\n",
       "        vertical-align: top;\n",
       "    }\n",
       "\n",
       "    .dataframe thead th {\n",
       "        text-align: right;\n",
       "    }\n",
       "</style>\n",
       "<table border=\"1\" class=\"dataframe\">\n",
       "  <thead>\n",
       "    <tr style=\"text-align: right;\">\n",
       "      <th></th>\n",
       "      <th>name</th>\n",
       "      <th>review_stars</th>\n",
       "      <th>review</th>\n",
       "      <th>review_comments</th>\n",
       "    </tr>\n",
       "  </thead>\n",
       "  <tbody>\n",
       "    <tr>\n",
       "      <th>5</th>\n",
       "      <td>Zain Mirza</td>\n",
       "      <td>1</td>\n",
       "      <td>Unsatisfactory</td>\n",
       "      <td>Don't buy online defective tv sending my TV's ...</td>\n",
       "    </tr>\n",
       "    <tr>\n",
       "      <th>11</th>\n",
       "      <td>Sweety Arora</td>\n",
       "      <td>1</td>\n",
       "      <td>Utterly Disappointed</td>\n",
       "      <td>TV stop working the same day of installation.N...</td>\n",
       "    </tr>\n",
       "    <tr>\n",
       "      <th>14</th>\n",
       "      <td>Flipkart Customer</td>\n",
       "      <td>1</td>\n",
       "      <td>Worthless</td>\n",
       "      <td>Installation person behaviour is not good, imp...</td>\n",
       "    </tr>\n",
       "    <tr>\n",
       "      <th>32</th>\n",
       "      <td>Himanshu Sharma</td>\n",
       "      <td>1</td>\n",
       "      <td>Don't waste your money</td>\n",
       "      <td>Installation team had a worst experience they ...</td>\n",
       "    </tr>\n",
       "    <tr>\n",
       "      <th>42</th>\n",
       "      <td>Chaitanya Joshi</td>\n",
       "      <td>1</td>\n",
       "      <td>Useless product</td>\n",
       "      <td>I was very happy that mi4x got delivered withi...</td>\n",
       "    </tr>\n",
       "    <tr>\n",
       "      <th>...</th>\n",
       "      <td>...</td>\n",
       "      <td>...</td>\n",
       "      <td>...</td>\n",
       "      <td>...</td>\n",
       "    </tr>\n",
       "    <tr>\n",
       "      <th>467</th>\n",
       "      <td>Abdul Basha</td>\n",
       "      <td>1</td>\n",
       "      <td>Did not meet expectations</td>\n",
       "      <td>Picture quality terrible not at all 4K resolut...</td>\n",
       "    </tr>\n",
       "    <tr>\n",
       "      <th>474</th>\n",
       "      <td>Mukesh Vishwakarma</td>\n",
       "      <td>1</td>\n",
       "      <td>Useless product</td>\n",
       "      <td>I bought MI TV only 5 months ago and the probl...</td>\n",
       "    </tr>\n",
       "    <tr>\n",
       "      <th>478</th>\n",
       "      <td>Mobile Manu</td>\n",
       "      <td>1</td>\n",
       "      <td>Waste of money!</td>\n",
       "      <td>Nice picture quality is average</td>\n",
       "    </tr>\n",
       "    <tr>\n",
       "      <th>479</th>\n",
       "      <td>Kummari Anilkumar</td>\n",
       "      <td>1</td>\n",
       "      <td>Not recommended at all</td>\n",
       "      <td>Chromecast is not working properly</td>\n",
       "    </tr>\n",
       "    <tr>\n",
       "      <th>488</th>\n",
       "      <td>Rajesh G</td>\n",
       "      <td>1</td>\n",
       "      <td>Slightly disappointed</td>\n",
       "      <td>Using after one month I'm writing this review....</td>\n",
       "    </tr>\n",
       "  </tbody>\n",
       "</table>\n",
       "<p>68 rows × 4 columns</p>\n",
       "</div>"
      ],
      "text/plain": [
       "                   name  review_stars                     review  \\\n",
       "5            Zain Mirza             1             Unsatisfactory   \n",
       "11         Sweety Arora             1       Utterly Disappointed   \n",
       "14    Flipkart Customer             1                  Worthless   \n",
       "32      Himanshu Sharma             1     Don't waste your money   \n",
       "42      Chaitanya Joshi             1            Useless product   \n",
       "..                  ...           ...                        ...   \n",
       "467         Abdul Basha             1  Did not meet expectations   \n",
       "474  Mukesh Vishwakarma             1            Useless product   \n",
       "478         Mobile Manu             1            Waste of money!   \n",
       "479   Kummari Anilkumar             1     Not recommended at all   \n",
       "488            Rajesh G             1      Slightly disappointed   \n",
       "\n",
       "                                       review_comments  \n",
       "5    Don't buy online defective tv sending my TV's ...  \n",
       "11   TV stop working the same day of installation.N...  \n",
       "14   Installation person behaviour is not good, imp...  \n",
       "32   Installation team had a worst experience they ...  \n",
       "42   I was very happy that mi4x got delivered withi...  \n",
       "..                                                 ...  \n",
       "467  Picture quality terrible not at all 4K resolut...  \n",
       "474  I bought MI TV only 5 months ago and the probl...  \n",
       "478                    Nice picture quality is average  \n",
       "479                 Chromecast is not working properly  \n",
       "488  Using after one month I'm writing this review....  \n",
       "\n",
       "[68 rows x 4 columns]"
      ]
     },
     "execution_count": 37,
     "metadata": {},
     "output_type": "execute_result"
    }
   ],
   "source": [
    "new_df_without_stars.fillna(1)"
   ]
  },
  {
   "cell_type": "code",
   "execution_count": null,
   "id": "2ce8886b",
   "metadata": {},
   "outputs": [],
   "source": []
  }
 ],
 "metadata": {
  "kernelspec": {
   "display_name": "Python 3 (ipykernel)",
   "language": "python",
   "name": "python3"
  },
  "language_info": {
   "codemirror_mode": {
    "name": "ipython",
    "version": 3
   },
   "file_extension": ".py",
   "mimetype": "text/x-python",
   "name": "python",
   "nbconvert_exporter": "python",
   "pygments_lexer": "ipython3",
   "version": "3.10.9"
  }
 },
 "nbformat": 4,
 "nbformat_minor": 5
}
