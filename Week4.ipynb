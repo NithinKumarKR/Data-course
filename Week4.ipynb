{
 "cells": [
  {
   "cell_type": "code",
   "execution_count": 75,
   "id": "83b17a62",
   "metadata": {},
   "outputs": [],
   "source": [
    "class vehicle:\n",
    "    def __init__(self,name,phone,code):\n",
    "        self.name=name\n",
    "        self.phone=phone\n",
    "        self.code=code\n",
    "    def nithin(self):    \n",
    "        return self.name,self.phone,self.code"
   ]
  },
  {
   "cell_type": "code",
   "execution_count": 76,
   "id": "e9e09ce0",
   "metadata": {},
   "outputs": [],
   "source": [
    "obj=vehicle(\"nithin\",123,777)"
   ]
  },
  {
   "cell_type": "code",
   "execution_count": 77,
   "id": "f07bd1f6",
   "metadata": {},
   "outputs": [
    {
     "data": {
      "text/plain": [
       "('nithin', 123, 777)"
      ]
     },
     "execution_count": 77,
     "metadata": {},
     "output_type": "execute_result"
    }
   ],
   "source": [
    "obj.nithin()"
   ]
  },
  {
   "cell_type": "code",
   "execution_count": 78,
   "id": "ad9fbcdc",
   "metadata": {},
   "outputs": [
    {
     "data": {
      "text/plain": [
       "123"
      ]
     },
     "execution_count": 78,
     "metadata": {},
     "output_type": "execute_result"
    }
   ],
   "source": [
    "obj.phone"
   ]
  },
  {
   "cell_type": "code",
   "execution_count": 79,
   "id": "40a174f6",
   "metadata": {},
   "outputs": [],
   "source": [
    "class bike:\n",
    "    def __init__(ref,bike_no,yor,km_run):\n",
    "        ref.bike_no=bike_no\n",
    "        ref.yor=yor\n",
    "        ref.km_run=km_run\n",
    "    def nithin(ref):\n",
    "        return ref.bike_no,ref.yor,ref.km_run"
   ]
  },
  {
   "cell_type": "code",
   "execution_count": 80,
   "id": "3977ca85",
   "metadata": {},
   "outputs": [],
   "source": [
    "veh=vehicle(\"nithin\",123,777)\n",
    "bi=bike(12345,2023,1000)\n",
    "combined_fun=[veh,bi]"
   ]
  },
  {
   "cell_type": "code",
   "execution_count": 83,
   "id": "04cd17b9",
   "metadata": {},
   "outputs": [
    {
     "ename": "TypeError",
     "evalue": "list expected at most 1 argument, got 3",
     "output_type": "error",
     "traceback": [
      "\u001b[0;31m---------------------------------------------------------------------------\u001b[0m",
      "\u001b[0;31mTypeError\u001b[0m                                 Traceback (most recent call last)",
      "Cell \u001b[0;32mIn[83], line 1\u001b[0m\n\u001b[0;32m----> 1\u001b[0m \u001b[38;5;28;01mclass\u001b[39;00m \u001b[38;5;21;01mmodified\u001b[39;00m(combined_fun):\n\u001b[1;32m      2\u001b[0m     \u001b[38;5;28;01mfor\u001b[39;00m i \u001b[38;5;129;01min\u001b[39;00m combined_fun:\n\u001b[1;32m      3\u001b[0m         (i\u001b[38;5;241m.\u001b[39mnithin())\n",
      "\u001b[0;31mTypeError\u001b[0m: list expected at most 1 argument, got 3"
     ]
    }
   ],
   "source": [
    "class modified(combined_fun):\n",
    "    for i in combined_fun:\n",
    "        (i.nithin())\n",
    "    #       i.nithin()"
   ]
  },
  {
   "cell_type": "code",
   "execution_count": 84,
   "id": "996a6b4c",
   "metadata": {},
   "outputs": [
    {
     "ename": "TypeError",
     "evalue": "modified() takes no arguments",
     "output_type": "error",
     "traceback": [
      "\u001b[0;31m---------------------------------------------------------------------------\u001b[0m",
      "\u001b[0;31mTypeError\u001b[0m                                 Traceback (most recent call last)",
      "Cell \u001b[0;32mIn[84], line 1\u001b[0m\n\u001b[0;32m----> 1\u001b[0m \u001b[43mmodified\u001b[49m\u001b[43m(\u001b[49m\u001b[43mcombined_fun\u001b[49m\u001b[43m)\u001b[49m\n",
      "\u001b[0;31mTypeError\u001b[0m: modified() takes no arguments"
     ]
    }
   ],
   "source": [
    "modified(combined_fun)"
   ]
  },
  {
   "cell_type": "code",
   "execution_count": 85,
   "id": "4814cae9",
   "metadata": {},
   "outputs": [
    {
     "ename": "NameError",
     "evalue": "name 'nithin' is not defined",
     "output_type": "error",
     "traceback": [
      "\u001b[0;31m---------------------------------------------------------------------------\u001b[0m",
      "\u001b[0;31mNameError\u001b[0m                                 Traceback (most recent call last)",
      "Cell \u001b[0;32mIn[85], line 1\u001b[0m\n\u001b[0;32m----> 1\u001b[0m new_output(\u001b[43mnithin\u001b[49m)\n",
      "\u001b[0;31mNameError\u001b[0m: name 'nithin' is not defined"
     ]
    }
   ],
   "source": [
    "new_output(nithin)"
   ]
  },
  {
   "cell_type": "code",
   "execution_count": 149,
   "id": "df164b31",
   "metadata": {},
   "outputs": [],
   "source": [
    "class car:\n",
    "    def __init__(self,year,make,model,speed):\n",
    "        self.__year=year\n",
    "        self.__make=make\n",
    "        self.__model=model\n",
    "        self.__speed=0\n",
    "    def set_speed(self,speed):\n",
    "        self.__speed=0 if speed <0 else speed\n",
    "    def get_speed(self):\n",
    "        return self.__speed"
   ]
  },
  {
   "cell_type": "code",
   "execution_count": 150,
   "id": "28224ad0",
   "metadata": {},
   "outputs": [],
   "source": [
    "obj_car=car(2023,'toyata','v5',120)"
   ]
  },
  {
   "cell_type": "code",
   "execution_count": 151,
   "id": "e6542b7f",
   "metadata": {},
   "outputs": [],
   "source": [
    "obj_car.set_speed(100)"
   ]
  },
  {
   "cell_type": "code",
   "execution_count": 154,
   "id": "3260f723",
   "metadata": {},
   "outputs": [
    {
     "data": {
      "text/plain": [
       "100"
      ]
     },
     "execution_count": 154,
     "metadata": {},
     "output_type": "execute_result"
    }
   ],
   "source": [
    "obj_car.get_speed()"
   ]
  },
  {
   "cell_type": "code",
   "execution_count": 208,
   "id": "409800b0",
   "metadata": {},
   "outputs": [],
   "source": [
    "class bank_account:\n",
    "    def __init__(self,balance):\n",
    "        self.__balance=balance\n",
    "        self.mis_charge=0\n",
    "    def deposit(self,amount):\n",
    "        self.__balance=self.__balance+amount\n",
    "    def withdraw(self,amount):\n",
    "        if self.__balance>=amount:\n",
    "            self.__balance=self.__balance-amount\n",
    "        else:\n",
    "            False\n",
    "    def check_balance(self):\n",
    "        return self.__balance"
   ]
  },
  {
   "cell_type": "code",
   "execution_count": 209,
   "id": "59bbec33",
   "metadata": {},
   "outputs": [],
   "source": [
    "obj_bank=bank_account(1000)"
   ]
  },
  {
   "cell_type": "code",
   "execution_count": 210,
   "id": "5b8130be",
   "metadata": {},
   "outputs": [
    {
     "data": {
      "text/plain": [
       "1000"
      ]
     },
     "execution_count": 210,
     "metadata": {},
     "output_type": "execute_result"
    }
   ],
   "source": [
    "obj_bank.check_balance()"
   ]
  },
  {
   "cell_type": "code",
   "execution_count": 211,
   "id": "1ca129e7",
   "metadata": {},
   "outputs": [],
   "source": [
    "obj_bank.deposit(20000)"
   ]
  },
  {
   "cell_type": "code",
   "execution_count": 212,
   "id": "eca4a2ad",
   "metadata": {},
   "outputs": [],
   "source": [
    "obj_bank.withdraw(30000)"
   ]
  },
  {
   "cell_type": "code",
   "execution_count": 213,
   "id": "d6cea91d",
   "metadata": {},
   "outputs": [
    {
     "data": {
      "text/plain": [
       "21000"
      ]
     },
     "execution_count": 213,
     "metadata": {},
     "output_type": "execute_result"
    }
   ],
   "source": [
    "obj_bank.check_balance()"
   ]
  },
  {
   "cell_type": "markdown",
   "id": "217e23e5",
   "metadata": {},
   "source": [
    "# Inheritance"
   ]
  },
  {
   "cell_type": "code",
   "execution_count": 221,
   "id": "f2e7ae6a",
   "metadata": {},
   "outputs": [],
   "source": [
    "class ration_card(bank_account):\n",
    "    def goverment_deposit(self,amount):\n",
    "        self.deposit(amount)\n",
    "        \n",
    "        return self.check_balance(),self.mis_charge\n",
    "    def normal_use(self,amount):\n",
    "        self.withdraw(amount)\n",
    "        return self.check_balance()"
   ]
  },
  {
   "cell_type": "code",
   "execution_count": 222,
   "id": "4cc55894",
   "metadata": {},
   "outputs": [],
   "source": [
    "rc=ration_card(1000)"
   ]
  },
  {
   "cell_type": "code",
   "execution_count": 223,
   "id": "abe3a727",
   "metadata": {},
   "outputs": [
    {
     "data": {
      "text/plain": [
       "1000"
      ]
     },
     "execution_count": 223,
     "metadata": {},
     "output_type": "execute_result"
    }
   ],
   "source": [
    "rc.check_balance()"
   ]
  },
  {
   "cell_type": "code",
   "execution_count": 224,
   "id": "7f17a015",
   "metadata": {},
   "outputs": [
    {
     "data": {
      "text/plain": [
       "(1100, 0)"
      ]
     },
     "execution_count": 224,
     "metadata": {},
     "output_type": "execute_result"
    }
   ],
   "source": [
    "rc.goverment_deposit(100)"
   ]
  },
  {
   "cell_type": "code",
   "execution_count": 225,
   "id": "a92f98e5",
   "metadata": {},
   "outputs": [
    {
     "data": {
      "text/plain": [
       "900"
      ]
     },
     "execution_count": 225,
     "metadata": {},
     "output_type": "execute_result"
    }
   ],
   "source": [
    "rc.normal_use(200)"
   ]
  },
  {
   "cell_type": "markdown",
   "id": "7110febe",
   "metadata": {},
   "source": [
    "# Abstraction"
   ]
  },
  {
   "cell_type": "code",
   "execution_count": 227,
   "id": "bec69f17",
   "metadata": {},
   "outputs": [],
   "source": [
    "import abc\n",
    "class abstraction:\n",
    "    @abc.abstractmethod\n",
    "    def student_details():\n",
    "        pass\n",
    "    @abc.abstractmethod\n",
    "    def student_assignment():\n",
    "        pass\n",
    "    @abc.abstractmethod\n",
    "    def student_marks():\n",
    "        pass"
   ]
  },
  {
   "cell_type": "code",
   "execution_count": 232,
   "id": "5295869a",
   "metadata": {},
   "outputs": [],
   "source": [
    "class dw_course(abstraction):\n",
    "    def student_details():\n",
    "        print(\"dw_couse student_details\")\n",
    "    def student_assignment():\n",
    "        print(\"dw_couse student_assignment\")\n",
    "class dsa_course(abstraction):\n",
    "    def student_details():\n",
    "        print(\"dsa_couse student_details\")\n",
    "    def student_assignment():\n",
    "        print(\"dsa_couse student_assignment\")\n",
    "        "
   ]
  },
  {
   "cell_type": "code",
   "execution_count": 233,
   "id": "9136de6b",
   "metadata": {},
   "outputs": [
    {
     "name": "stdout",
     "output_type": "stream",
     "text": [
      "dsa_couse student_assignment\n"
     ]
    }
   ],
   "source": [
    "dsa_course.student_assignment()"
   ]
  },
  {
   "cell_type": "code",
   "execution_count": 234,
   "id": "5e451814",
   "metadata": {},
   "outputs": [
    {
     "name": "stdout",
     "output_type": "stream",
     "text": [
      "dw_couse student_assignment\n"
     ]
    }
   ],
   "source": [
    "dw_course.student_assignment()"
   ]
  },
  {
   "cell_type": "markdown",
   "id": "54689ab7",
   "metadata": {},
   "source": [
    "# Decorators"
   ]
  },
  {
   "cell_type": "code",
   "execution_count": 235,
   "id": "5e8ab5f2",
   "metadata": {},
   "outputs": [],
   "source": [
    "def decorators(function):\n",
    "    print(\"this will start with\")\n",
    "    function()\n",
    "    print(\"this will end\")"
   ]
  },
  {
   "cell_type": "code",
   "execution_count": 242,
   "id": "79030ce9",
   "metadata": {},
   "outputs": [
    {
     "name": "stdout",
     "output_type": "stream",
     "text": [
      "this will start with\n",
      "this will be the middle\n",
      "this will end\n"
     ]
    }
   ],
   "source": [
    "@decorators\n",
    "def test():\n",
    "    print (\"this will be the middle\")"
   ]
  },
  {
   "cell_type": "code",
   "execution_count": 243,
   "id": "256708be",
   "metadata": {},
   "outputs": [],
   "source": [
    "test"
   ]
  },
  {
   "cell_type": "code",
   "execution_count": 244,
   "id": "7c9aecf4",
   "metadata": {},
   "outputs": [],
   "source": [
    "import time"
   ]
  },
  {
   "cell_type": "code",
   "execution_count": 245,
   "id": "8517ec9c",
   "metadata": {},
   "outputs": [],
   "source": [
    "def timer(function):\n",
    "    def timer_take():\n",
    "        start=time.time()\n",
    "        function()\n",
    "        end=time.time()\n",
    "        return end-start\n",
    "    return timer_take"
   ]
  },
  {
   "cell_type": "code",
   "execution_count": 247,
   "id": "57d007ec",
   "metadata": {},
   "outputs": [],
   "source": [
    "@timer\n",
    "def test():\n",
    "    print (\"this will be the middle\")"
   ]
  },
  {
   "cell_type": "code",
   "execution_count": 248,
   "id": "96c98a83",
   "metadata": {},
   "outputs": [
    {
     "name": "stdout",
     "output_type": "stream",
     "text": [
      "this will be the middle\n"
     ]
    },
    {
     "data": {
      "text/plain": [
       "6.4849853515625e-05"
      ]
     },
     "execution_count": 248,
     "metadata": {},
     "output_type": "execute_result"
    }
   ],
   "source": [
    "test()"
   ]
  },
  {
   "cell_type": "code",
   "execution_count": 263,
   "id": "b5c43356",
   "metadata": {},
   "outputs": [],
   "source": [
    "@timer\n",
    "def test1():\n",
    "    for i in range(10000):\n",
    "        pass"
   ]
  },
  {
   "cell_type": "code",
   "execution_count": 264,
   "id": "0558769b",
   "metadata": {},
   "outputs": [
    {
     "data": {
      "text/plain": [
       "0.0002079010009765625"
      ]
     },
     "execution_count": 264,
     "metadata": {},
     "output_type": "execute_result"
    }
   ],
   "source": [
    "test1()"
   ]
  },
  {
   "cell_type": "markdown",
   "id": "98eb53ff",
   "metadata": {},
   "source": [
    "# Class Methods"
   ]
  },
  {
   "cell_type": "code",
   "execution_count": 319,
   "id": "1fcfe26d",
   "metadata": {},
   "outputs": [],
   "source": [
    "class class_method:\n",
    "    mobile_number=9847444\n",
    "    def __init__(self,name,age):\n",
    "        self.name=name\n",
    "        self.age=age\n",
    "    @classmethod\n",
    "    def update_mobile_number(clr,mobile):\n",
    "        clr.mobile_number=mobile\n",
    "        \n",
    "    @classmethod\n",
    "    def update(ref,name1,age1,year):\n",
    "        return ref(name1,age1)\n",
    "    def recall(self):\n",
    "        return self.name, self.age"
   ]
  },
  {
   "cell_type": "code",
   "execution_count": 320,
   "id": "e1dccf2c",
   "metadata": {},
   "outputs": [],
   "source": [
    "cl=class_method.update(\"nithin\",12,2023)"
   ]
  },
  {
   "cell_type": "code",
   "execution_count": 321,
   "id": "f3bc7728",
   "metadata": {},
   "outputs": [
    {
     "data": {
      "text/plain": [
       "('nithin', 12)"
      ]
     },
     "execution_count": 321,
     "metadata": {},
     "output_type": "execute_result"
    }
   ],
   "source": [
    "cl.recall()"
   ]
  },
  {
   "cell_type": "code",
   "execution_count": 322,
   "id": "4ce3147e",
   "metadata": {},
   "outputs": [
    {
     "data": {
      "text/plain": [
       "9847444"
      ]
     },
     "execution_count": 322,
     "metadata": {},
     "output_type": "execute_result"
    }
   ],
   "source": [
    "class_method.mobile_number"
   ]
  },
  {
   "cell_type": "code",
   "execution_count": 323,
   "id": "c015f3eb",
   "metadata": {},
   "outputs": [],
   "source": [
    "class_method.update_mobile_number(98765432234567)"
   ]
  },
  {
   "cell_type": "code",
   "execution_count": 324,
   "id": "c1ef1d6b",
   "metadata": {},
   "outputs": [
    {
     "data": {
      "text/plain": [
       "98765432234567"
      ]
     },
     "execution_count": 324,
     "metadata": {},
     "output_type": "execute_result"
    }
   ],
   "source": [
    "class_method.mobile_number"
   ]
  },
  {
   "cell_type": "code",
   "execution_count": 326,
   "id": "3c9fd0d8",
   "metadata": {},
   "outputs": [],
   "source": [
    "## Class method created once\n",
    "# MEthod creates as much as objects"
   ]
  },
  {
   "cell_type": "code",
   "execution_count": 343,
   "id": "4ddf9c4a",
   "metadata": {},
   "outputs": [],
   "source": [
    "def new_function(cls):\n",
    "    print(\"this will new function\")"
   ]
  },
  {
   "cell_type": "code",
   "execution_count": 345,
   "id": "dbc4f7b3",
   "metadata": {},
   "outputs": [],
   "source": [
    "class_method.new_function=classmethod(new_function)"
   ]
  },
  {
   "cell_type": "code",
   "execution_count": 346,
   "id": "c436f8f1",
   "metadata": {},
   "outputs": [
    {
     "name": "stdout",
     "output_type": "stream",
     "text": [
      "this will new function\n"
     ]
    }
   ],
   "source": [
    "class_method.new_function()"
   ]
  },
  {
   "cell_type": "code",
   "execution_count": 359,
   "id": "a2ffca4c",
   "metadata": {},
   "outputs": [],
   "source": [
    "class class_method4:\n",
    "    mobile_number=9847444\n",
    "    def __init__(self,name,age):\n",
    "        self.name=name\n",
    "        self.age=age\n",
    "    @classmethod\n",
    "    def update_mobile_number(clr,mobile):\n",
    "        clr.mobile_number=mobile\n",
    "        \n",
    "    @classmethod\n",
    "    def update(ref,name1,age1,year):\n",
    "        return ref(name1,age1)\n",
    "    def recall(self):\n",
    "        return self.name, self.age"
   ]
  },
  {
   "cell_type": "code",
   "execution_count": 360,
   "id": "8bd54672",
   "metadata": {},
   "outputs": [],
   "source": [
    "del class_method4.recall"
   ]
  },
  {
   "cell_type": "code",
   "execution_count": 361,
   "id": "58448031",
   "metadata": {},
   "outputs": [],
   "source": [
    "delattr(class_method4,\"mobile_number\")"
   ]
  },
  {
   "cell_type": "code",
   "execution_count": 366,
   "id": "93f478ed",
   "metadata": {},
   "outputs": [],
   "source": [
    "class_method4.update_mobile_number(747563)"
   ]
  },
  {
   "cell_type": "markdown",
   "id": "06c06144",
   "metadata": {},
   "source": [
    "# Static Method"
   ]
  },
  {
   "cell_type": "code",
   "execution_count": 368,
   "id": "6414a3ee",
   "metadata": {},
   "outputs": [],
   "source": [
    "class static_method4:\n",
    "    mobile_number=9847444\n",
    "    def __init__(self,name,age):\n",
    "        self.name=name\n",
    "        self.age=age\n",
    "    @staticmethod\n",
    "    def update_mobile_number(mobile):\n",
    "        return mobile"
   ]
  },
  {
   "cell_type": "code",
   "execution_count": 370,
   "id": "c26914bf",
   "metadata": {},
   "outputs": [
    {
     "data": {
      "text/plain": [
       "9876543234567"
      ]
     },
     "execution_count": 370,
     "metadata": {},
     "output_type": "execute_result"
    }
   ],
   "source": [
    "static_method4.update_mobile_number(9876543234567)"
   ]
  },
  {
   "cell_type": "code",
   "execution_count": 371,
   "id": "bb92747c",
   "metadata": {},
   "outputs": [],
   "source": [
    "# obtimixa thion of the memorty"
   ]
  },
  {
   "cell_type": "code",
   "execution_count": 404,
   "id": "da819363",
   "metadata": {},
   "outputs": [],
   "source": [
    "class static_method4:\n",
    "    mobile_number=9847444\n",
    "    def __init__(self,name,age):\n",
    "        self.name=name\n",
    "        self.age=age\n",
    "    @staticmethod\n",
    "    def update_mobile_number(mobile_number):\n",
    "       # print(\"mhvbjsrbg\")\n",
    "        return mobile_number\n",
    "    @classmethod\n",
    "    def update_address(self,mobile_number):\n",
    "        print(\"address\")\n",
    "        print(self.update_mobile_number(mobile_number))"
   ]
  },
  {
   "cell_type": "code",
   "execution_count": 405,
   "id": "dd164114",
   "metadata": {},
   "outputs": [
    {
     "name": "stdout",
     "output_type": "stream",
     "text": [
      "address\n",
      "9876545\n"
     ]
    }
   ],
   "source": [
    "pd=static_method4.update_address(9876545)"
   ]
  },
  {
   "cell_type": "markdown",
   "id": "ef5abe2c",
   "metadata": {},
   "source": [
    "# Special (Magic Dunder) Methods"
   ]
  },
  {
   "cell_type": "code",
   "execution_count": 1,
   "id": "38c7915e",
   "metadata": {},
   "outputs": [
    {
     "data": {
      "text/plain": [
       "['__abs__',\n",
       " '__add__',\n",
       " '__and__',\n",
       " '__bool__',\n",
       " '__ceil__',\n",
       " '__class__',\n",
       " '__delattr__',\n",
       " '__dir__',\n",
       " '__divmod__',\n",
       " '__doc__',\n",
       " '__eq__',\n",
       " '__float__',\n",
       " '__floor__',\n",
       " '__floordiv__',\n",
       " '__format__',\n",
       " '__ge__',\n",
       " '__getattribute__',\n",
       " '__getnewargs__',\n",
       " '__gt__',\n",
       " '__hash__',\n",
       " '__index__',\n",
       " '__init__',\n",
       " '__init_subclass__',\n",
       " '__int__',\n",
       " '__invert__',\n",
       " '__le__',\n",
       " '__lshift__',\n",
       " '__lt__',\n",
       " '__mod__',\n",
       " '__mul__',\n",
       " '__ne__',\n",
       " '__neg__',\n",
       " '__new__',\n",
       " '__or__',\n",
       " '__pos__',\n",
       " '__pow__',\n",
       " '__radd__',\n",
       " '__rand__',\n",
       " '__rdivmod__',\n",
       " '__reduce__',\n",
       " '__reduce_ex__',\n",
       " '__repr__',\n",
       " '__rfloordiv__',\n",
       " '__rlshift__',\n",
       " '__rmod__',\n",
       " '__rmul__',\n",
       " '__ror__',\n",
       " '__round__',\n",
       " '__rpow__',\n",
       " '__rrshift__',\n",
       " '__rshift__',\n",
       " '__rsub__',\n",
       " '__rtruediv__',\n",
       " '__rxor__',\n",
       " '__setattr__',\n",
       " '__sizeof__',\n",
       " '__str__',\n",
       " '__sub__',\n",
       " '__subclasshook__',\n",
       " '__truediv__',\n",
       " '__trunc__',\n",
       " '__xor__',\n",
       " 'as_integer_ratio',\n",
       " 'bit_count',\n",
       " 'bit_length',\n",
       " 'conjugate',\n",
       " 'denominator',\n",
       " 'from_bytes',\n",
       " 'imag',\n",
       " 'numerator',\n",
       " 'real',\n",
       " 'to_bytes']"
      ]
     },
     "execution_count": 1,
     "metadata": {},
     "output_type": "execute_result"
    }
   ],
   "source": [
    "dir(int)"
   ]
  },
  {
   "cell_type": "code",
   "execution_count": 2,
   "id": "68936adc",
   "metadata": {},
   "outputs": [
    {
     "data": {
      "text/plain": [
       "['__add__',\n",
       " '__class__',\n",
       " '__contains__',\n",
       " '__delattr__',\n",
       " '__dir__',\n",
       " '__doc__',\n",
       " '__eq__',\n",
       " '__format__',\n",
       " '__ge__',\n",
       " '__getattribute__',\n",
       " '__getitem__',\n",
       " '__getnewargs__',\n",
       " '__gt__',\n",
       " '__hash__',\n",
       " '__init__',\n",
       " '__init_subclass__',\n",
       " '__iter__',\n",
       " '__le__',\n",
       " '__len__',\n",
       " '__lt__',\n",
       " '__mod__',\n",
       " '__mul__',\n",
       " '__ne__',\n",
       " '__new__',\n",
       " '__reduce__',\n",
       " '__reduce_ex__',\n",
       " '__repr__',\n",
       " '__rmod__',\n",
       " '__rmul__',\n",
       " '__setattr__',\n",
       " '__sizeof__',\n",
       " '__str__',\n",
       " '__subclasshook__',\n",
       " 'capitalize',\n",
       " 'casefold',\n",
       " 'center',\n",
       " 'count',\n",
       " 'encode',\n",
       " 'endswith',\n",
       " 'expandtabs',\n",
       " 'find',\n",
       " 'format',\n",
       " 'format_map',\n",
       " 'index',\n",
       " 'isalnum',\n",
       " 'isalpha',\n",
       " 'isascii',\n",
       " 'isdecimal',\n",
       " 'isdigit',\n",
       " 'isidentifier',\n",
       " 'islower',\n",
       " 'isnumeric',\n",
       " 'isprintable',\n",
       " 'isspace',\n",
       " 'istitle',\n",
       " 'isupper',\n",
       " 'join',\n",
       " 'ljust',\n",
       " 'lower',\n",
       " 'lstrip',\n",
       " 'maketrans',\n",
       " 'partition',\n",
       " 'removeprefix',\n",
       " 'removesuffix',\n",
       " 'replace',\n",
       " 'rfind',\n",
       " 'rindex',\n",
       " 'rjust',\n",
       " 'rpartition',\n",
       " 'rsplit',\n",
       " 'rstrip',\n",
       " 'split',\n",
       " 'splitlines',\n",
       " 'startswith',\n",
       " 'strip',\n",
       " 'swapcase',\n",
       " 'title',\n",
       " 'translate',\n",
       " 'upper',\n",
       " 'zfill']"
      ]
     },
     "execution_count": 2,
     "metadata": {},
     "output_type": "execute_result"
    }
   ],
   "source": [
    "dir(str)"
   ]
  },
  {
   "cell_type": "code",
   "execution_count": 5,
   "id": "e6dd83af",
   "metadata": {},
   "outputs": [],
   "source": [
    "class pw:\n",
    "    def __init__(self):\n",
    "        print(\"nithujvbdfvbf\")\n",
    "    def __it__(self):\n",
    "        print(\"kbdfiybdfkuvbhfk\")"
   ]
  },
  {
   "cell_type": "code",
   "execution_count": 6,
   "id": "f1f9fe22",
   "metadata": {},
   "outputs": [
    {
     "name": "stdout",
     "output_type": "stream",
     "text": [
      "nithujvbdfvbf\n"
     ]
    }
   ],
   "source": [
    "p=pw()"
   ]
  },
  {
   "cell_type": "code",
   "execution_count": 7,
   "id": "fc46a1fa",
   "metadata": {},
   "outputs": [],
   "source": [
    "class pw:\n",
    "    def __init__(self):\n",
    "        print(\"nithujvbdfvbf\")\n",
    "    def __str__(self):\n",
    "        print(\"kbdfiybdfkuvbhfk\")"
   ]
  },
  {
   "cell_type": "code",
   "execution_count": 8,
   "id": "61ec5068",
   "metadata": {},
   "outputs": [
    {
     "name": "stdout",
     "output_type": "stream",
     "text": [
      "nithujvbdfvbf\n"
     ]
    }
   ],
   "source": [
    "p=pw()"
   ]
  },
  {
   "cell_type": "code",
   "execution_count": 10,
   "id": "0f6dea5f",
   "metadata": {},
   "outputs": [
    {
     "name": "stdout",
     "output_type": "stream",
     "text": [
      "kbdfiybdfkuvbhfk\n"
     ]
    },
    {
     "ename": "TypeError",
     "evalue": "__str__ returned non-string (type NoneType)",
     "output_type": "error",
     "traceback": [
      "\u001b[0;31m---------------------------------------------------------------------------\u001b[0m",
      "\u001b[0;31mTypeError\u001b[0m                                 Traceback (most recent call last)",
      "Cell \u001b[0;32mIn[10], line 1\u001b[0m\n\u001b[0;32m----> 1\u001b[0m \u001b[38;5;28;43mprint\u001b[39;49m\u001b[43m(\u001b[49m\u001b[43mp\u001b[49m\u001b[43m)\u001b[49m\n",
      "\u001b[0;31mTypeError\u001b[0m: __str__ returned non-string (type NoneType)"
     ]
    }
   ],
   "source": [
    "print(p)"
   ]
  },
  {
   "cell_type": "markdown",
   "id": "946743df",
   "metadata": {},
   "source": [
    "# Property Decorators Getters, Setters, And Deletes"
   ]
  },
  {
   "cell_type": "code",
   "execution_count": 24,
   "id": "7e6f7efe",
   "metadata": {},
   "outputs": [],
   "source": [
    "class pwskills:\n",
    "    def __init__(self,cp,cn):\n",
    "        self.__cp=cp\n",
    "        self.cn=cn\n",
    "    @property\n",
    "    def cp_access(self):\n",
    "        return self.__cp"
   ]
  },
  {
   "cell_type": "code",
   "execution_count": 25,
   "id": "7c7f71fd",
   "metadata": {},
   "outputs": [],
   "source": [
    "pw=pwskills(3000,\"data science\")"
   ]
  },
  {
   "cell_type": "code",
   "execution_count": 26,
   "id": "525777c4",
   "metadata": {},
   "outputs": [
    {
     "data": {
      "text/plain": [
       "3000"
      ]
     },
     "execution_count": 26,
     "metadata": {},
     "output_type": "execute_result"
    }
   ],
   "source": [
    "pw.cp_access"
   ]
  },
  {
   "cell_type": "code",
   "execution_count": null,
   "id": "d3d4b29a",
   "metadata": {},
   "outputs": [],
   "source": []
  }
 ],
 "metadata": {
  "kernelspec": {
   "display_name": "Python 3 (ipykernel)",
   "language": "python",
   "name": "python3"
  },
  "language_info": {
   "codemirror_mode": {
    "name": "ipython",
    "version": 3
   },
   "file_extension": ".py",
   "mimetype": "text/x-python",
   "name": "python",
   "nbconvert_exporter": "python",
   "pygments_lexer": "ipython3",
   "version": "3.10.9"
  }
 },
 "nbformat": 4,
 "nbformat_minor": 5
}
