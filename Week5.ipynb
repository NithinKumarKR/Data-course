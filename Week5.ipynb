{
 "cells": [
  {
   "cell_type": "markdown",
   "id": "c1456bf2",
   "metadata": {},
   "source": [
    "# Working With Files"
   ]
  },
  {
   "cell_type": "code",
   "execution_count": null,
   "id": "e73d8c5d",
   "metadata": {},
   "outputs": [],
   "source": [
    "f=open(\"test.txt\",'w')"
   ]
  },
  {
   "cell_type": "code",
   "execution_count": null,
   "id": "c4a0c962",
   "metadata": {},
   "outputs": [],
   "source": [
    "f.write(\"\"\"Clone a repository\n",
    "Use these steps to clone from SourceTree, our client for using the repository command-line free. Cloning allows you to work on your files locally. If you don't yet have SourceTree, download and install first. If you prefer to clone from the command line, see Clone a repository.\n",
    "You’ll see the clone button under the Source heading. Click that button.\n",
    "Now click Check out in SourceTree. You may need to create a SourceTree account or log in.\n",
    "When you see the Clone New dialog in SourceTree, update the destination path and name if you’d like to and then click Clone.\n",
    "Open the directory you just created to see your repository’s files.\n",
    "Now that you're more familiar with your Bitbucket repository, go ahead and add a new file locally. You can push your change back to Bitbucket with SourceTree, or you can add, commit, and push from the command line.\"\"\")"
   ]
  },
  {
   "cell_type": "code",
   "execution_count": null,
   "id": "b34a18a0",
   "metadata": {},
   "outputs": [],
   "source": [
    "f.close()"
   ]
  },
  {
   "cell_type": "code",
   "execution_count": null,
   "id": "50a5acda",
   "metadata": {},
   "outputs": [],
   "source": [
    "rd=open(\"test.txt\",'r')"
   ]
  },
  {
   "cell_type": "code",
   "execution_count": null,
   "id": "9b376f7b",
   "metadata": {},
   "outputs": [],
   "source": [
    "rd.read()"
   ]
  },
  {
   "cell_type": "code",
   "execution_count": null,
   "id": "12a14292",
   "metadata": {},
   "outputs": [],
   "source": [
    "rd.seek(0)"
   ]
  },
  {
   "cell_type": "code",
   "execution_count": null,
   "id": "08b6d6b7",
   "metadata": {},
   "outputs": [],
   "source": [
    "rd.read()"
   ]
  },
  {
   "cell_type": "code",
   "execution_count": null,
   "id": "910f1e77",
   "metadata": {},
   "outputs": [],
   "source": [
    "import shutil"
   ]
  },
  {
   "cell_type": "code",
   "execution_count": null,
   "id": "c8e77584",
   "metadata": {},
   "outputs": [],
   "source": [
    "shutil.copy('test.txt','test1.txt')"
   ]
  },
  {
   "cell_type": "code",
   "execution_count": null,
   "id": "ac8d5a00",
   "metadata": {},
   "outputs": [],
   "source": [
    "import os"
   ]
  },
  {
   "cell_type": "code",
   "execution_count": null,
   "id": "8fb34eb2",
   "metadata": {},
   "outputs": [],
   "source": [
    "os.remove(\"test.txt\")"
   ]
  },
  {
   "cell_type": "code",
   "execution_count": null,
   "id": "40074bd6",
   "metadata": {},
   "outputs": [],
   "source": [
    "os.rename(\"test1.txt\",\"test.txt\")"
   ]
  },
  {
   "cell_type": "markdown",
   "id": "ab99a9b0",
   "metadata": {},
   "source": [
    "# Reading And Writing Files"
   ]
  },
  {
   "cell_type": "code",
   "execution_count": null,
   "id": "6659c14a",
   "metadata": {},
   "outputs": [],
   "source": [
    "data={\n",
    "    \"name\":\"nithin\",\n",
    "    \"mobie_number\":7654321,\n",
    "    \"course\":\"ds\"\n",
    "}"
   ]
  },
  {
   "cell_type": "code",
   "execution_count": null,
   "id": "e303431a",
   "metadata": {},
   "outputs": [],
   "source": [
    "import json"
   ]
  },
  {
   "cell_type": "code",
   "execution_count": null,
   "id": "ef4a4abd",
   "metadata": {},
   "outputs": [],
   "source": [
    "with open(\"tst.json\",\"w\") as f:\n",
    "    json.dump(data,f)"
   ]
  },
  {
   "cell_type": "code",
   "execution_count": null,
   "id": "ec99a1e0",
   "metadata": {},
   "outputs": [],
   "source": [
    "with open(\"tst.json\",\"r\") as f:\n",
    "    data1=json.load(f)"
   ]
  },
  {
   "cell_type": "code",
   "execution_count": null,
   "id": "f2fcf4ef",
   "metadata": {},
   "outputs": [],
   "source": [
    "data1"
   ]
  },
  {
   "cell_type": "code",
   "execution_count": null,
   "id": "f4914c9f",
   "metadata": {},
   "outputs": [],
   "source": [
    "csv_data=[[\"name\",\"age\",\"mobile\"],\n",
    "     [\"nithin\",23,9959],\n",
    "     [\"mac\",45,98484],\n",
    "     [\"boat\",24,905934]]"
   ]
  },
  {
   "cell_type": "code",
   "execution_count": null,
   "id": "920111db",
   "metadata": {},
   "outputs": [],
   "source": [
    "import csv"
   ]
  },
  {
   "cell_type": "code",
   "execution_count": null,
   "id": "443aae84",
   "metadata": {},
   "outputs": [],
   "source": [
    "with open(\"test3.csv\",\"w\") as f:\n",
    "    w=csv.writer(f)\n",
    "    for i in csv_data:\n",
    "        w.writerow(i)"
   ]
  },
  {
   "cell_type": "code",
   "execution_count": null,
   "id": "1b308d8e",
   "metadata": {},
   "outputs": [],
   "source": [
    "with open(\"test3.csv\",\"w\") as f:\n",
    "    w=csv.reader(f)\n",
    "    for i in csv_data:\n",
    "        print(i)"
   ]
  },
  {
   "cell_type": "code",
   "execution_count": null,
   "id": "618d067a",
   "metadata": {},
   "outputs": [],
   "source": [
    "with open(\"test4.bin\",\"wb\") as f:\n",
    "    f.write(b\"\\x01\\x02\\x03\")"
   ]
  },
  {
   "cell_type": "code",
   "execution_count": null,
   "id": "478afbe3",
   "metadata": {},
   "outputs": [],
   "source": [
    "with open(\"test4.bin\",\"rb\") as f:\n",
    "    print(f.read())"
   ]
  },
  {
   "cell_type": "markdown",
   "id": "0627ce5f",
   "metadata": {},
   "source": [
    "# Buffered Read And Write Other File Methods"
   ]
  },
  {
   "cell_type": "code",
   "execution_count": null,
   "id": "3d28835f",
   "metadata": {},
   "outputs": [],
   "source": [
    "import io"
   ]
  },
  {
   "cell_type": "code",
   "execution_count": null,
   "id": "230d92bc",
   "metadata": {},
   "outputs": [],
   "source": [
    "with open(\"buffered.txt\",\"wb\") as f:\n",
    "    file=io.BufferedWriter(f)\n",
    "    file.write(b\"Currently, all DBT project logs are being sent to E\\n\")\n",
    "    file.write(b\"Currently, all DBT project logs are ber. vkrgnbling sent to E\")\n",
    "    file.write(b\"Currently, all DBT project logs are bekjgrnlirting sent to E\")\n",
    "    file.flush()"
   ]
  },
  {
   "cell_type": "code",
   "execution_count": null,
   "id": "3b814a00",
   "metadata": {},
   "outputs": [],
   "source": [
    "with open(\"buffered.txt\",\"rb\") as f:\n",
    "    file=io.BufferedReader(f)\n",
    "    file=file.read(1)\n",
    "    print(file)"
   ]
  },
  {
   "cell_type": "markdown",
   "id": "8b90a443",
   "metadata": {},
   "source": [
    "# Logging Debugger"
   ]
  },
  {
   "cell_type": "code",
   "execution_count": null,
   "id": "3d66c7c0",
   "metadata": {},
   "outputs": [],
   "source": [
    "import logging"
   ]
  },
  {
   "cell_type": "code",
   "execution_count": null,
   "id": "9987ab54",
   "metadata": {},
   "outputs": [],
   "source": [
    "logging.basicConfig(filename=\"test.log\",level=logging.INFO)"
   ]
  },
  {
   "cell_type": "code",
   "execution_count": null,
   "id": "b8dab9d7",
   "metadata": {},
   "outputs": [],
   "source": [
    "logging.info(\"this is my line of excusation\")"
   ]
  },
  {
   "cell_type": "code",
   "execution_count": null,
   "id": "3eff8442",
   "metadata": {},
   "outputs": [],
   "source": [
    "logging.error(\"this is my error\")"
   ]
  },
  {
   "cell_type": "code",
   "execution_count": null,
   "id": "93050340",
   "metadata": {},
   "outputs": [],
   "source": [
    "logging.critical(\"thisis mu critical\")"
   ]
  },
  {
   "cell_type": "code",
   "execution_count": null,
   "id": "34a578d7",
   "metadata": {},
   "outputs": [],
   "source": [
    "logging.debug(\"khvleufjvs\")"
   ]
  },
  {
   "cell_type": "raw",
   "id": "50df7bed",
   "metadata": {},
   "source": [
    "1.NOSET\n",
    "2.DEBUG\n",
    "3.INFO\n",
    "4.WARNING\n",
    "5.ERROR\n",
    "6.CRITICAL"
   ]
  },
  {
   "cell_type": "code",
   "execution_count": null,
   "id": "1b02ee88",
   "metadata": {},
   "outputs": [],
   "source": [
    "logging.shutdown()"
   ]
  },
  {
   "cell_type": "code",
   "execution_count": null,
   "id": "6bc124d0",
   "metadata": {},
   "outputs": [],
   "source": [
    "logging.basicConfig(filename=\"niht.log\",level=logging.DEBUG,format='%(asctime)s %(message)s')"
   ]
  },
  {
   "cell_type": "code",
   "execution_count": null,
   "id": "54458d7e",
   "metadata": {},
   "outputs": [],
   "source": [
    "logging.debug(\"khvleufjvs\")"
   ]
  },
  {
   "cell_type": "code",
   "execution_count": null,
   "id": "e28bb6c0",
   "metadata": {},
   "outputs": [],
   "source": [
    "logging.shutdown()"
   ]
  },
  {
   "cell_type": "code",
   "execution_count": null,
   "id": "e3daae79",
   "metadata": {},
   "outputs": [],
   "source": [
    "logging.basicConfig(filename=\"nithin1.log\",level=logging.DEBUG,format='%(asctime)s %(name)s %(levelname)s %(message)s')"
   ]
  },
  {
   "cell_type": "code",
   "execution_count": null,
   "id": "3280caf2",
   "metadata": {},
   "outputs": [],
   "source": [
    "logging.debug(\"vjhfbdvksrhfidfvojlvmdglvmdf;,vdf\")"
   ]
  },
  {
   "cell_type": "code",
   "execution_count": null,
   "id": "aa4a2fa4",
   "metadata": {},
   "outputs": [],
   "source": [
    "logging.info(\"vjhfbdvksrhfidfvojlvmdglvmdf;,vdf\")"
   ]
  },
  {
   "cell_type": "code",
   "execution_count": null,
   "id": "7922d9e0",
   "metadata": {},
   "outputs": [],
   "source": [
    "l1_int=[]\n",
    "l2_str=[]\n",
    "l=[1,3,4,[7,8,6],\"nithihn\",\"raj\"]\n",
    "for i in l:\n",
    "    logging.info(\"please consider this is my start of program {l} \".format(l=l) )\n",
    "    logging.info(\"consider the i {i} values taken from the list {j} \".format(i=i,j=l))\n",
    "    if type(i)==int:\n",
    "        logging.info(\"congralution of the number passed this condition {i} \".format(i=i))\n",
    "        l1_int.append(i)\n",
    "    elif type(i)==list:\n",
    "        logging.info(\"sorry for informing of the number passed this condition is the list but still we will check in this {i}\".format(i=i))\n",
    "        for j in i:\n",
    "            if type(j)==int:\n",
    "                logging.info(\"congralution of the number passed this condition even its there in list {i}\".format(i=i))\n",
    "                l1_int.append(j)\n",
    "    else:\n",
    "        logging.info(\"congralution of the number passed this string condition {i}\".format(i=i))\n",
    "        l2_str.append(i)\n",
    "logging.debug(\"happy to inform that we have got the output of the problem int values are {l1}  and string varianbles are {l2}\".format(l1=l1_int,l2=l2_str) )"
   ]
  },
  {
   "cell_type": "markdown",
   "id": "b3ed5e26",
   "metadata": {},
   "source": [
    "# Modules And Import Statements"
   ]
  },
  {
   "cell_type": "markdown",
   "id": "fe598666",
   "metadata": {},
   "source": [
    "# Custom Exception Handling"
   ]
  },
  {
   "cell_type": "code",
   "execution_count": null,
   "id": "2b94129a",
   "metadata": {},
   "outputs": [],
   "source": [
    "class validate_age(Exception):\n",
    "    def __init__(self,msg):\n",
    "        self.msg=msg\n",
    "        #pass"
   ]
  },
  {
   "cell_type": "code",
   "execution_count": null,
   "id": "9a6ed658",
   "metadata": {},
   "outputs": [],
   "source": [
    "def val_age(age):\n",
    "    if age <= 0:\n",
    "        raise validate_age(\"Please enter the correct age\")\n",
    "    elif age>100:\n",
    "        raise validate_age(\"Please check once the age\")\n",
    "    else:\n",
    "        raise validate_age(\"Perfect\")"
   ]
  },
  {
   "cell_type": "code",
   "execution_count": null,
   "id": "98444426",
   "metadata": {},
   "outputs": [],
   "source": [
    "try:\n",
    "    age=int(input(\"please enter the age\"))\n",
    "    val_age(age)\n",
    "except validate_age as e:\n",
    "    print(e)"
   ]
  },
  {
   "cell_type": "markdown",
   "id": "3a4e5dd2",
   "metadata": {},
   "source": [
    "# List Of General Use Exceptions"
   ]
  },
  {
   "cell_type": "markdown",
   "id": "d2db976b",
   "metadata": {},
   "source": [
    "# Multithreading"
   ]
  },
  {
   "cell_type": "code",
   "execution_count": null,
   "id": "0300b93b",
   "metadata": {},
   "outputs": [],
   "source": [
    "import threading"
   ]
  },
  {
   "cell_type": "code",
   "execution_count": null,
   "id": "eb2aeed5",
   "metadata": {},
   "outputs": [],
   "source": [
    "def nithin(i):\n",
    "    print(f\"kuheiyv {i}\")"
   ]
  },
  {
   "cell_type": "code",
   "execution_count": null,
   "id": "77363b61",
   "metadata": {},
   "outputs": [],
   "source": [
    "thread=[threading.Thread(target=nithin,args=(i,)) for i in range(5)]"
   ]
  },
  {
   "cell_type": "code",
   "execution_count": null,
   "id": "f9d73f76",
   "metadata": {},
   "outputs": [],
   "source": [
    "for i in thread:\n",
    "    i.start()"
   ]
  },
  {
   "cell_type": "code",
   "execution_count": null,
   "id": "177dde65",
   "metadata": {},
   "outputs": [],
   "source": [
    "import urllib.request"
   ]
  },
  {
   "cell_type": "code",
   "execution_count": null,
   "id": "86a5ccc6",
   "metadata": {},
   "outputs": [],
   "source": [
    "def get_file(link,file_name):\n",
    "    urllib.request.urlretrieve(link,file_name)"
   ]
  },
  {
   "cell_type": "code",
   "execution_count": null,
   "id": "dfc1baa2",
   "metadata": {},
   "outputs": [],
   "source": [
    "get_file(\"http://localhost:8889/tree\",\"file.text\")"
   ]
  },
  {
   "cell_type": "code",
   "execution_count": null,
   "id": "624b08f7",
   "metadata": {},
   "outputs": [],
   "source": [
    "links_used=[\"http://localhost:8889/tree\",\"http://localhost:8889/notebooks/Week5.ipynb\",\"http://localhost:8889/notebooks/Week4.ipynb\"]\n",
    "file=[\"nithin\",\"nithin1\",\"nithin2\"]"
   ]
  },
  {
   "cell_type": "code",
   "execution_count": null,
   "id": "2db57096",
   "metadata": {},
   "outputs": [],
   "source": [
    "thread=[threading.Thread(target=get_file,args=(i,j)) for i in links_used for j in file]"
   ]
  },
  {
   "cell_type": "code",
   "execution_count": null,
   "id": "efd4cd81",
   "metadata": {},
   "outputs": [],
   "source": [
    "%%time\n",
    "for i in thread:\n",
    "    i.start()"
   ]
  },
  {
   "cell_type": "code",
   "execution_count": null,
   "id": "cce83c84",
   "metadata": {},
   "outputs": [],
   "source": [
    "import time"
   ]
  },
  {
   "cell_type": "code",
   "execution_count": null,
   "id": "df891cc8",
   "metadata": {},
   "outputs": [],
   "source": [
    "%%time\n",
    "links_used=[\"http://localhost:8889/tree\",\"http://localhost:8889/notebooks/Week5.ipynb\",\"http://localhost:8889/notebooks/Week4.ipynb\"]\n",
    "file=[\"nithin\",\"nithin1\",\"nithin2\"]\n",
    "time.sleep(1)\n",
    "get_file(links_used[0],file[0])\n",
    "time.sleep(1)\n",
    "get_file(links_used[1],file[2])\n",
    "time.sleep(1)\n",
    "get_file(links_used[2],file[2])"
   ]
  },
  {
   "cell_type": "code",
   "execution_count": null,
   "id": "31369ae4",
   "metadata": {},
   "outputs": [],
   "source": [
    "thread=[threading.Thread(target=get_file,args=(i,j)) for i in links_used for j in file]"
   ]
  },
  {
   "cell_type": "code",
   "execution_count": null,
   "id": "f0c6dea4",
   "metadata": {},
   "outputs": [],
   "source": [
    "def test2(num):\n",
    "    for i in range(num):\n",
    "        #time.sleep(1)\n",
    "        print(i)\n",
    "        time.sleep(1)"
   ]
  },
  {
   "cell_type": "code",
   "execution_count": null,
   "id": "067b540d",
   "metadata": {},
   "outputs": [],
   "source": [
    "thread=[threading.Thread(target=test2,args=(i,)) for i in [1,5,8]]"
   ]
  },
  {
   "cell_type": "code",
   "execution_count": null,
   "id": "688c4521",
   "metadata": {},
   "outputs": [],
   "source": [
    "for i in thread:\n",
    "    i.start()"
   ]
  },
  {
   "cell_type": "code",
   "execution_count": null,
   "id": "4c08f4d2",
   "metadata": {},
   "outputs": [],
   "source": [
    "shared_var=0\n",
    "lock_var=threading.Lock()\n",
    "def test3(x):\n",
    "    global shared_var\n",
    "    with lock_var:\n",
    "        shared_var=shared_var+1\n",
    "        print(\"value of x %d and value shared_var %d\" %(x,shared_var))\n",
    "        time.sleep(5)\n",
    "thread=[threading.Thread(target=test3,args=(i,)) for i in [10,20,30,40,50]]"
   ]
  },
  {
   "cell_type": "code",
   "execution_count": null,
   "id": "9952786a",
   "metadata": {},
   "outputs": [],
   "source": [
    "for i in thread:\n",
    "    i.start()"
   ]
  },
  {
   "cell_type": "markdown",
   "id": "f42f85f1",
   "metadata": {},
   "source": [
    "# Multiprocessing"
   ]
  },
  {
   "cell_type": "code",
   "execution_count": null,
   "id": "cd422c3b",
   "metadata": {},
   "outputs": [],
   "source": [
    "import multiprocessing\n",
    "multiprocessing.set_start_method('spawn', True)"
   ]
  },
  {
   "cell_type": "code",
   "execution_count": null,
   "id": "d2fca1b0",
   "metadata": {},
   "outputs": [],
   "source": [
    "def test(n):\n",
    "    print(\"djxvbrskv\")"
   ]
  },
  {
   "cell_type": "code",
   "execution_count": null,
   "id": "febf5291",
   "metadata": {},
   "outputs": [],
   "source": [
    "if __name__==\"__main__\":\n",
    "    m=multiprocessing.Process(target=test)\n",
    "    print(\"my problem\")\n",
    "    m.start()\n",
    "    m.join()"
   ]
  },
  {
   "cell_type": "code",
   "execution_count": 2,
   "id": "5bf1f5be",
   "metadata": {},
   "outputs": [
    {
     "name": "stdout",
     "output_type": "stream",
     "text": [
      "my problem\n"
     ]
    },
    {
     "name": "stderr",
     "output_type": "stream",
     "text": [
      "Traceback (most recent call last):\n",
      "  File \"<string>\", line 1, in <module>\n",
      "  File \"/Users/nithinkumar/anaconda3/lib/python3.10/multiprocessing/spawn.py\", line 116, in spawn_main\n",
      "    exitcode = _main(fd, parent_sentinel)\n",
      "  File \"/Users/nithinkumar/anaconda3/lib/python3.10/multiprocessing/spawn.py\", line 126, in _main\n",
      "    self = reduction.pickle.load(from_parent)\n",
      "AttributeError: Can't get attribute 'test' on <module '__main__' (built-in)>\n"
     ]
    }
   ],
   "source": [
    "import multiprocessing\n",
    "\n",
    "multiprocessing.set_start_method('spawn', True)\n",
    "\n",
    "def test(n):\n",
    "    print(\"djxvbrskv\")\n",
    "\n",
    "if __name__ == \"__main__\":\n",
    "    m = multiprocessing.Process(target=test, args=(42,))  # Pass the value for n here (e.g., 42).\n",
    "    print(\"my problem\")\n",
    "    m.start()\n",
    "    m.join()"
   ]
  },
  {
   "cell_type": "code",
   "execution_count": null,
   "id": "03489c6e",
   "metadata": {},
   "outputs": [],
   "source": [
    "import multiprocessing\n",
    "#from my_functions import square\n",
    "\n",
    "if __name__ == \"__main__\":\n",
    "    with multiprocessing.Pool(processes=5) as pool:\n",
    "        out = pool.map(test, [10, 20, 30, 40, 50, 60])\n",
    "        print(out)"
   ]
  },
  {
   "cell_type": "code",
   "execution_count": 3,
   "id": "ec300946",
   "metadata": {},
   "outputs": [
    {
     "name": "stdout",
     "output_type": "stream",
     "text": [
      "25\n"
     ]
    }
   ],
   "source": [
    "#!/usr/bin/env python3\n",
    "# -*- coding: utf-8 -*-\n",
    "\"\"\"\n",
    "Created on Thu Jul 20 12:18:58 2023\n",
    "\n",
    "@author: nithinkumar\n",
    "\"\"\"\n",
    "import queue\n",
    "\n",
    "\n",
    "def test(n):\n",
    "    print(\"djxvbrskv\")\n",
    "\n",
    "def square(n):\n",
    "    return n*n\n",
    "\n",
    "print(square(5))\n",
    "\n",
    "def producer(q):\n",
    "    for i in [\"ntihin\",\"raj\",\"pwkills\",\"krish\",\",maatv\"]:\n",
    "        q.put(i)\n",
    "        #print(q.get(i))\n",
    "        \n",
    "def consume(q):\n",
    "    while True :\n",
    "        item=q.get()\n",
    "        if item is None:\n",
    "            break\n",
    "        print(item)\n",
    "\n",
    "# Create a queue object\n",
    "q = queue.Queue()\n",
    "\n",
    "# Call the producer function with the queue object\n",
    "producer(q)"
   ]
  },
  {
   "cell_type": "code",
   "execution_count": 4,
   "id": "1179d279",
   "metadata": {},
   "outputs": [
    {
     "name": "stderr",
     "output_type": "stream",
     "text": [
      "Traceback (most recent call last):\n",
      "  File \"<string>\", line 1, in <module>\n",
      "  File \"/Users/nithinkumar/anaconda3/lib/python3.10/multiprocessing/spawn.py\", line 116, in spawn_main\n",
      "    exitcode = _main(fd, parent_sentinel)\n",
      "  File \"/Users/nithinkumar/anaconda3/lib/python3.10/multiprocessing/spawn.py\", line 126, in _main\n",
      "    self = reduction.pickle.load(from_parent)\n",
      "AttributeError: Can't get attribute 'producer' on <module '__main__' (built-in)>\n",
      "Traceback (most recent call last):\n",
      "  File \"<string>\", line 1, in <module>\n",
      "  File \"/Users/nithinkumar/anaconda3/lib/python3.10/multiprocessing/spawn.py\", line 116, in spawn_main\n",
      "    exitcode = _main(fd, parent_sentinel)\n",
      "  File \"/Users/nithinkumar/anaconda3/lib/python3.10/multiprocessing/spawn.py\", line 126, in _main\n",
      "    self = reduction.pickle.load(from_parent)\n",
      "AttributeError: Can't get attribute 'consume' on <module '__main__' (built-in)>\n"
     ]
    }
   ],
   "source": [
    "if __name__==\"__main__\":\n",
    "    queue=multiprocessing.Queue()\n",
    "    m1=multiprocessing.Process(target=producer,args=(queue,))\n",
    "    m2=multiprocessing.Process(target= consume,args=(queue,))\n",
    "    m1.start()\n",
    "    m2.start()\n",
    "    queue.put(\"djcvgsjyvgf\")\n",
    "    m1.join()\n",
    "    m2.join()"
   ]
  },
  {
   "cell_type": "code",
   "execution_count": 6,
   "id": "998063e4",
   "metadata": {},
   "outputs": [
    {
     "name": "stderr",
     "output_type": "stream",
     "text": [
      "Traceback (most recent call last):\n",
      "  File \"<string>\", line 1, in <module>\n",
      "  File \"/Users/nithinkumar/anaconda3/lib/python3.10/multiprocessing/spawn.py\", line 116, in spawn_main\n",
      "    exitcode = _main(fd, parent_sentinel)\n",
      "  File \"/Users/nithinkumar/anaconda3/lib/python3.10/multiprocessing/spawn.py\", line 126, in _main\n",
      "    self = reduction.pickle.load(from_parent)\n",
      "AttributeError: Can't get attribute 'sender' on <module '__main__' (built-in)>\n",
      "Traceback (most recent call last):\n",
      "  File \"<string>\", line 1, in <module>\n",
      "  File \"/Users/nithinkumar/anaconda3/lib/python3.10/multiprocessing/spawn.py\", line 116, in spawn_main\n",
      "    exitcode = _main(fd, parent_sentinel)\n",
      "  File \"/Users/nithinkumar/anaconda3/lib/python3.10/multiprocessing/spawn.py\", line 126, in _main\n",
      "    self = reduction.pickle.load(from_parent)\n",
      "AttributeError: Can't get attribute 'receiver' on <module '__main__' (built-in)>\n"
     ]
    }
   ],
   "source": [
    "import multiprocessing\n",
    "#from my_module import test\n",
    "#multiprocessing.set_start_method('spawn', True)\n",
    "\n",
    "\"\"\"if __name__ == \"__main__\":\n",
    "    m = multiprocessing.Process(target=test, args=(42,))  # Pass the value for n here (e.g., 42).\n",
    "    print(\"my problem\")\n",
    "    m.start()\n",
    "    m.join()\n",
    "\n",
    "\n",
    "if __name__==\"__main__\":\n",
    "    with multiprocessing.Pool(processes=5) as pool:\n",
    "        out=pool.map(square,[10,20,30,40,50])\n",
    "        print(out)\"\"\"\n",
    "\n",
    "\"\"\"def square(n):\n",
    "    return n*n\n",
    "\n",
    "if __name__==\"__main__\":\n",
    "    with multiprocessing.Pool(processes=5) as pool:\n",
    "        out=pool.map(square,[10,20,30,40,50])\n",
    "        print(out)\n",
    "        \n",
    "def producer(q):\n",
    "    for i in [\"ntihin\", \"raj\", \"pwkills\", \"krish\", \",maatv\"]:\n",
    "        q.put(i)\n",
    "    q.put(None)  # Signal the consumer to stop\n",
    "\n",
    "def consume(q):\n",
    "    while True:\n",
    "        item = q.get()\n",
    "        if item is None:\n",
    "            break\n",
    "        print(item)\n",
    "\n",
    "if __name__ == \"__main__\":\n",
    "    q = multiprocessing.Queue()\n",
    "    m1 = multiprocessing.Process(target=producer, args=(q,))\n",
    "    m2 = multiprocessing.Process(target=consume, args=(q,))\n",
    "    \n",
    "    m1.start()\n",
    "    m2.start()\n",
    "    \n",
    "    q.put(\"djcvgsjyvgf\")\n",
    "    \n",
    "    m1.join()\n",
    "    m2.join()\n",
    "\n",
    "\n",
    "def square_number(index,value):\n",
    "    value[index]=value[index]**2\n",
    "\n",
    "if __name__==\"__main__\":\n",
    "    arr=multiprocessing.Array('i', [3,2,4,6,4,5,6,9,0,5,10,20])\n",
    "    #arr=[3,2,4,6,4,5,6,9,0,5,10,20]\n",
    "    process=[]\n",
    "    for i in range(10):\n",
    "        #print(arr[i])\n",
    "        m=multiprocessing.Process(target=square_number,args=(i,arr))\n",
    "        process.append(m)\n",
    "        m.start()\n",
    "    for m in process:\n",
    "        m.join() \n",
    "    print(list(arr)) \"\"\"\n",
    "    \n",
    "def sender(con,msg):\n",
    "    for i in msg:\n",
    "         con.send(i)\n",
    "    con.close()\n",
    "def receiver(con):\n",
    "    while True:\n",
    "        try:\n",
    "            msg=con.recv()\n",
    "        except Exception as e:\n",
    "            print(e)\n",
    "            break\n",
    "        print(msg)\n",
    "        \n",
    "if __name__==\"__main__\":\n",
    "    msg=[\"kjhbvdkvrs\"]\n",
    "    parent,child=multiprocessing.Pipe()\n",
    "    m1=multiprocessing.Process(target=sender,args=(child,msg,))\n",
    "    m2=multiprocessing.Process(target=receiver,args=(parent,))\n",
    "    m1.start()\n",
    "    m2.start()\n",
    "    m1.join()\n",
    "    m1.close()\n",
    "    m2.join()\n",
    "    m2.close()"
   ]
  },
  {
   "cell_type": "code",
   "execution_count": null,
   "id": "bf1bbbe5",
   "metadata": {},
   "outputs": [],
   "source": []
  }
 ],
 "metadata": {
  "kernelspec": {
   "display_name": "Python 3 (ipykernel)",
   "language": "python",
   "name": "python3"
  },
  "language_info": {
   "codemirror_mode": {
    "name": "ipython",
    "version": 3
   },
   "file_extension": ".py",
   "mimetype": "text/x-python",
   "name": "python",
   "nbconvert_exporter": "python",
   "pygments_lexer": "ipython3",
   "version": "3.10.9"
  }
 },
 "nbformat": 4,
 "nbformat_minor": 5
}
