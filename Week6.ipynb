{
 "cells": [
  {
   "cell_type": "markdown",
   "id": "35fbaa49",
   "metadata": {},
   "source": [
    "# Working with SQL"
   ]
  },
  {
   "cell_type": "code",
   "execution_count": null,
   "id": "f831cbe3",
   "metadata": {},
   "outputs": [],
   "source": [
    "import pymongo"
   ]
  },
  {
   "cell_type": "code",
   "execution_count": null,
   "id": "5f691ac9",
   "metadata": {},
   "outputs": [],
   "source": [
    "client=pymongo.MongoClient(\"mongodb://localhost:27017/\")"
   ]
  },
  {
   "cell_type": "code",
   "execution_count": null,
   "id": "1d1bd3a9",
   "metadata": {},
   "outputs": [],
   "source": [
    "db=client.local"
   ]
  },
  {
   "cell_type": "code",
   "execution_count": null,
   "id": "e9563adf",
   "metadata": {},
   "outputs": [],
   "source": [
    "db=client[\"boat\"]"
   ]
  },
  {
   "cell_type": "code",
   "execution_count": null,
   "id": "b648a26b",
   "metadata": {},
   "outputs": [],
   "source": [
    "collection=db[\"boat1\"]"
   ]
  },
  {
   "cell_type": "code",
   "execution_count": null,
   "id": "d62ad9b9",
   "metadata": {},
   "outputs": [],
   "source": [
    "data={\"name\":\"nithin\",\n",
    "      \"age\":34,\n",
    "      \"mobile_number\":8317487852,\n",
    "      \"company\":\"m2p\"\n",
    "     }"
   ]
  },
  {
   "cell_type": "code",
   "execution_count": null,
   "id": "71779e96",
   "metadata": {},
   "outputs": [],
   "source": [
    "collection.insert_one(data)"
   ]
  },
  {
   "cell_type": "code",
   "execution_count": null,
   "id": "375dbbfe",
   "metadata": {},
   "outputs": [],
   "source": [
    "data1=[\n",
    "    {\"name\":\"raj\",\"age\":12,\"company\":\"m2pFintech\",\"salary\":10000},\n",
    "    {\"name\":\"raj\",\"age\":12,\"company\":\"m2pFintech\",\"salary\":20000},\n",
    "    {\"name\":\"raj\",\"age\":12,\"company\":\"m2pFintech\",\"salary\":30000},\n",
    "    {\"name\":\"kong\",\"age\":12,\"company\":\"m2pFintech\",\"salary\":40000},\n",
    "    {\"name\":\"raj\",\"age\":12,\"company\":\"m2pFintech\",\"salary\":50000},\n",
    "    {\"name\":\"raj\",\"age\":12,\"company\":\"m2pFintech\",\"salary\":60000},\n",
    "    {\"name\":\"raj\",\"age\":12,\"company\":\"m2pFintech\",\"salary\":70000},\n",
    "    {\"name\":\"raj\",\"age\":12,\"company\":\"m2pFintech\",\"salary\":80000},\n",
    "    {\"name\":\"nithin\",\"age\":12,\"company\":\"m2pFintech\",\"salary\":90000},\n",
    "    {\"name\":\"raj\",\"age\":12,\"company\":\"m2pFintech\",\"salary\":100000},\n",
    "    {\"name\":\"pan\",\"age\":15,\"company\":\"m2pFintech\",\"salary\":10000},\n",
    "    {\"name\":\"king\",\"age\":17,\"company\":\"m2pFintech\",\"salary\":10000},\n",
    "    {\"name\":\"raj\",\"age\":18,\"company\":\"m2pFintech\",\"salary\":10000},\n",
    "    {\"name\":\"raj\",\"age\":19,\"company\":\"m2pFintech\",\"salary\":10000}]"
   ]
  },
  {
   "cell_type": "code",
   "execution_count": null,
   "id": "5a49ec75",
   "metadata": {},
   "outputs": [],
   "source": [
    "collection.insert_many(data1)"
   ]
  },
  {
   "cell_type": "code",
   "execution_count": null,
   "id": "1eb200f7",
   "metadata": {},
   "outputs": [],
   "source": [
    "for  i in collection.find():\n",
    "    print(i)"
   ]
  },
  {
   "cell_type": "code",
   "execution_count": null,
   "id": "0e539199",
   "metadata": {},
   "outputs": [],
   "source": [
    "collection.find_one()"
   ]
  },
  {
   "cell_type": "code",
   "execution_count": null,
   "id": "b52a2c48",
   "metadata": {},
   "outputs": [],
   "source": [
    "for i in collection.find({\"name\":\"nithin\"}):\n",
    "    print(i)"
   ]
  },
  {
   "cell_type": "code",
   "execution_count": null,
   "id": "7e99353a",
   "metadata": {},
   "outputs": [],
   "source": [
    "for i in collection.find({\"salary\":{'$lte':80000}}):\n",
    "    print(i)"
   ]
  },
  {
   "cell_type": "code",
   "execution_count": null,
   "id": "2d9e0493",
   "metadata": {},
   "outputs": [],
   "source": [
    "for i in collection.find({\"salary\":{'$gte':80000}}):\n",
    "    print(i)"
   ]
  },
  {
   "cell_type": "code",
   "execution_count": null,
   "id": "078fedef",
   "metadata": {},
   "outputs": [],
   "source": [
    "for i in collection.find({\"salary\":{'$e':80000}}):\n",
    "    print(i)"
   ]
  },
  {
   "cell_type": "code",
   "execution_count": null,
   "id": "5ba02ca0",
   "metadata": {},
   "outputs": [],
   "source": [
    "collection.update_many({ 'salary': 10000},{\"$set\":{ 'salary': 100}})"
   ]
  },
  {
   "cell_type": "code",
   "execution_count": null,
   "id": "85879cf2",
   "metadata": {},
   "outputs": [],
   "source": [
    "for i in collection.find():\n",
    "    print(i)"
   ]
  },
  {
   "cell_type": "code",
   "execution_count": null,
   "id": "c89a8c22",
   "metadata": {},
   "outputs": [],
   "source": [
    "collection.drop()"
   ]
  },
  {
   "cell_type": "code",
   "execution_count": null,
   "id": "98a4dabf",
   "metadata": {},
   "outputs": [],
   "source": [
    "for i in collection.find():\n",
    "    print(i)"
   ]
  },
  {
   "cell_type": "code",
   "execution_count": null,
   "id": "a06fe300",
   "metadata": {},
   "outputs": [],
   "source": [
    "for i in collection.find():\n",
    "    print(i)"
   ]
  },
  {
   "cell_type": "markdown",
   "id": "0987dbd5",
   "metadata": {},
   "source": [
    "# What Is Web Api"
   ]
  },
  {
   "cell_type": "markdown",
   "id": "9f2d0a66",
   "metadata": {},
   "source": [
    "API--\n",
    "Simple Mail Transfer Protocol\n",
    "Transmission Control Protocol\n",
    "Hypertext Transfer Protocol\n",
    "\n",
    "Web API----\n",
    "Hypertext Transfer Protocol"
   ]
  },
  {
   "cell_type": "markdown",
   "id": "2596e7d6",
   "metadata": {},
   "source": [
    "# Rest And Soap Architecture"
   ]
  },
  {
   "cell_type": "raw",
   "id": "d5b9f238",
   "metadata": {},
   "source": [
    "REST- Representation state transfer--HTTP--PUT,POST,GET,DELETE\n",
    "simplity,scalanitliy,flexiability\n",
    "\n",
    "\n",
    "RESTful services, also known as RESTful APIs,\n",
    "are web services that follow the REST architectural style. REST stands for Representational State Transfer,\n",
    "which is a set of principles for building web services that use HTTP (Hypertext Transfer Protocol) \n",
    "as the communication protocol.\n",
    "\n",
    "Client-server architecture: The client and server are separated, allowing them to evolve independently.\n",
    "Stateless? Each request sent to the server contains all the information needed to complete the request. \n",
    "The server doesnot maintain any client context between requests.\n",
    "Cacheable: Responses from the server can be cached to improve performance.\n",
    "Uniform interface: RESTful services use a uniform interface consisting of resources, HTTP verbs (GET, POST, PUT, DELETE), and hypermedia links.\n",
    "Layered system: RESTful services can be composed of multiple layers, allowing for scalability, flexibility, and security.\n",
    "\n",
    "\n",
    "SOAP-- simple object access protocal---TCP,SMTP-- XML format-- WSDL(web service decrption language)\n",
    "-- more securtiy"
   ]
  },
  {
   "cell_type": "markdown",
   "id": "94c5d2be",
   "metadata": {},
   "source": [
    "# Flask Introduction, Application, Open Link Flask, App Routing Flask Url Building Flask\n"
   ]
  },
  {
   "cell_type": "code",
   "execution_count": null,
   "id": "0e82e9cb",
   "metadata": {},
   "outputs": [],
   "source": [
    "from flask import Flask\n",
    "from flask import request"
   ]
  },
  {
   "cell_type": "code",
   "execution_count": null,
   "id": "3de96986",
   "metadata": {},
   "outputs": [],
   "source": [
    "app=Flask(__name__)\n",
    "@app.route(\"/\")\n",
    "def hello():x`\n",
    "    return \"nithin\"\n",
    "@app.route(\"/\")\n",
    "def hello1():\n",
    "    return \"kumar\"\n",
    "@app.route(\"/two\")\n",
    "def hello2():\n",
    "    return \"k\"\n",
    "@app.route(\"/three\")\n",
    "def hello3():\n",
    "    return \"R\"\n",
    "@app.route(\"/four\")\n",
    "def hello4():\n",
    "    return \"raj\"\n",
    "@app.route(\"/test\")\n",
    "def test():\n",
    "    a=5\n",
    "    b=6\n",
    "    c=a+b\n",
    "    return \"this is the output {}\".format(c)\n",
    "@app.route(\"/req\")\n",
    "def req():\n",
    "    data=request.args.get('x')\n",
    "    return data\n",
    "if __name__==\"__main__\":\n",
    "    app.run(host=\"0.0.0.0\")\n",
    "    \n",
    "##http://127.0.0.1:5000/three"
   ]
  },
  {
   "cell_type": "code",
   "execution_count": null,
   "id": "930cc0c2",
   "metadata": {},
   "outputs": [],
   "source": [
    "from flask import Flask, request, render_template, jsonify\n",
    "\n",
    "app = Flask(__name__)\n",
    "file=\"/Users/nithinkumar/Downloads/index.html\"\n",
    "\n",
    "@app.route(\"/\")\n",
    "def hello_world():\n",
    "    return \"jvcs\"#render_template(file)\n",
    "\n",
    "if __name__ == \"__main__\":\n",
    "    app.run(host=\"0.0.0.0\",port=600)"
   ]
  },
  {
   "cell_type": "code",
   "execution_count": 4,
   "id": "ac9c0a47",
   "metadata": {},
   "outputs": [],
   "source": [
    "import pymongo\n",
    "import urllib.parse\n",
    "user_name=\"nithinkumarkr37\"\n",
    "user_password=\"Nithin@123\"\n",
    "user=urllib.parse.quote_plus(user_name)\n",
    "password=urllib.parse.quote_plus(user_password)\n",
    "data1=[\n",
    "    {\"name\":\"raj\",\"age\":12,\"company\":\"m2pFintech\",\"salary\":10000},\n",
    "    {\"name\":\"raj\",\"age\":12,\"company\":\"m2pFintech\",\"salary\":20000},\n",
    "    {\"name\":\"raj\",\"age\":12,\"company\":\"m2pFintech\",\"salary\":30000},\n",
    "    {\"name\":\"kong\",\"age\":12,\"company\":\"m2pFintech\",\"salary\":40000},\n",
    "    {\"name\":\"raj\",\"age\":12,\"company\":\"m2pFintech\",\"salary\":50000},\n",
    "    {\"name\":\"raj\",\"age\":12,\"company\":\"m2pFintech\",\"salary\":60000},\n",
    "    {\"name\":\"raj\",\"age\":12,\"company\":\"m2pFintech\",\"salary\":70000},\n",
    "    {\"name\":\"raj\",\"age\":12,\"company\":\"m2pFintech\",\"salary\":80000},\n",
    "    {\"name\":\"nithin\",\"age\":12,\"company\":\"m2pFintech\",\"salary\":90000},\n",
    "    {\"name\":\"raj\",\"age\":12,\"company\":\"m2pFintech\",\"salary\":100000},\n",
    "    {\"name\":\"pan\",\"age\":15,\"company\":\"m2pFintech\",\"salary\":10000},\n",
    "    {\"name\":\"king\",\"age\":17,\"company\":\"m2pFintech\",\"salary\":10000},\n",
    "    {\"name\":\"raj\",\"age\":18,\"company\":\"m2pFintech\",\"salary\":10000},\n",
    "    {\"name\":\"raj\",\"age\":19,\"company\":\"m2pFintech\",\"salary\":10000}]\n",
    "\n",
    "client = pymongo.MongoClient(\"mongodb://localhost:27017/\")\n",
    "db = client['king']\n",
    "coll_pw_eng = db['scraper_pwskills_eng']\n",
    "\n",
    "result = coll_pw_eng.insert_many(data1)\n",
    "\n"
   ]
  },
  {
   "cell_type": "code",
   "execution_count": null,
   "id": "740e01bc",
   "metadata": {},
   "outputs": [],
   "source": []
  }
 ],
 "metadata": {
  "kernelspec": {
   "display_name": "Python 3 (ipykernel)",
   "language": "python",
   "name": "python3"
  },
  "language_info": {
   "codemirror_mode": {
    "name": "ipython",
    "version": 3
   },
   "file_extension": ".py",
   "mimetype": "text/x-python",
   "name": "python",
   "nbconvert_exporter": "python",
   "pygments_lexer": "ipython3",
   "version": "3.10.9"
  }
 },
 "nbformat": 4,
 "nbformat_minor": 5
}
